{
 "cells": [
  {
   "cell_type": "markdown",
   "id": "93e53ad1-b36d-4728-88f1-bf8edb6abfdd",
   "metadata": {},
   "source": [
    "สมาชิก\n",
    "1. นายเมธี พันธุลาภ  62090500419\n",
    "2. นายวิทูร ร่วมเงิน 62090500420\n",
    "3. นายอนลัส ไพรอนันต์ 62090500425 \n",
    "4. นายอานนท์ ภักดิ์ดี  62090500426 \n",
    "5. นายนิธิโชติ มณีรัตน์ไพโรจน์ 62090500433\n",
    "6. นายพันธกานต์ ม่วงบัว 62090500436"
   ]
  },
  {
   "cell_type": "markdown",
   "id": "5f229251-5fba-4a73-82d6-c0657fcb8139",
   "metadata": {
    "tags": []
   },
   "source": [
    "# ดึงของมูลจาก Yahoo Finance"
   ]
  },
  {
   "cell_type": "code",
   "execution_count": 45,
   "id": "83200293-5121-4090-9a6a-176303a07a8d",
   "metadata": {},
   "outputs": [
    {
     "name": "stdout",
     "output_type": "stream",
     "text": [
      "1960\n",
      "1967\n",
      "2012\n",
      "1942\n"
     ]
    }
   ],
   "source": [
    "import pandas_datareader as pdr\n",
    "import pandas as pd\n",
    "import numpy as np\n",
    "import matplotlib\n",
    "import matplotlib.pyplot as plt\n",
    "from matplotlib.colors import ListedColormap\n",
    "import talib\n",
    "import seaborn as sns\n",
    "from sklearn import set_config\n",
    "\n",
    "import warnings\n",
    "warnings.filterwarnings('ignore')\n",
    "\n",
    "set_config(display='diagram')\n",
    "sns.set()\n",
    "\n",
    "# GET DATA\n",
    "N225 = pdr.get_data_yahoo(\"^N225\", start=\"2012-01-01\", end=\"2019-12-31\")\n",
    "HSI = pdr.get_data_yahoo(\"^HSI\", start=\"2012-01-01\", end=\"2019-12-31\")\n",
    "DJI = pdr.get_data_yahoo(\"^DJI\", start=\"2012-01-01\", end=\"2019-12-31\")\n",
    "SSE = pdr.get_data_yahoo(\"000001.SS\", start=\"2012-01-01\", end=\"2019-12-31\")\n",
    "print(len(N225))\n",
    "print(len(HSI))\n",
    "print(len(DJI))\n",
    "print(len(SSE))"
   ]
  },
  {
   "cell_type": "markdown",
   "id": "9a18fa64-e6ee-48f7-a79b-32125932686a",
   "metadata": {
    "tags": []
   },
   "source": [
    "# ประกาศฟังก์ชั่น"
   ]
  },
  {
   "cell_type": "code",
   "execution_count": 46,
   "id": "391e2c20-82ab-4e47-a6f1-5ab99848dbec",
   "metadata": {},
   "outputs": [],
   "source": [
    "def generateUpDown(data):\n",
    "    \n",
    "    data['Forecast'] = 0\n",
    "    data['Real'] = 0\n",
    "    for i, j, k in zip(data['Close'], data['Close'].iloc[1:], range(0, len(data))):\n",
    "        if i < j:\n",
    "            data['Real'].iloc[k] = 1    # DOWN\n",
    "        elif i > j:\n",
    "            data['Real'].iloc[k] = 0   # UP\n",
    "#     for i, j, k in zip(data['EMA50'], data['EMA200'], range(0, len(data))):\n",
    "#         if i > j:\n",
    "#             data['Forecast'].iloc[k] = 1    # DOWN\n",
    "#         elif i < j:\n",
    "#             data['Forecast'].iloc[k] = 0    # UP"
   ]
  },
  {
   "cell_type": "code",
   "execution_count": 47,
   "id": "b337dffc-2ca5-4922-81de-d0a1668c440e",
   "metadata": {},
   "outputs": [],
   "source": [
    "def generateUpDown2(data):\n",
    "    data['Forecast'] = 0\n",
    "    for i, j, k in zip(data['y_pred'], data['y_pred'].iloc[1:], range(0, len(data))):\n",
    "        if i < j:\n",
    "            data['Forecast'].iloc[k] = 1    # DOWN\n",
    "        elif i > j:\n",
    "            data['Forecast'].iloc[k] = 0    # UP"
   ]
  },
  {
   "cell_type": "code",
   "execution_count": 48,
   "id": "f9539ead-5940-4d16-9a1d-9349daaf01f5",
   "metadata": {},
   "outputs": [],
   "source": [
    "def generateYRegression(data):\n",
    "    data['Y_Reg'] = 0\n",
    "    for i, j, k in zip(data['Close'], data['Close'].iloc[1:], range(0, len(data))):\n",
    "            data['Y_Reg'].iloc[k] = j"
   ]
  },
  {
   "cell_type": "code",
   "execution_count": 49,
   "id": "90ec318c-c682-4ba1-911d-045f54b009c3",
   "metadata": {},
   "outputs": [],
   "source": [
    "def summitAnswer(data):\n",
    "    data['Answer'] = 0\n",
    "    up = 0\n",
    "    down = 0\n",
    "    for i in range(0, len(data)):\n",
    "        for j, k in zip(data.iloc[i, :], range(0, len(data.iloc[i, :]))):\n",
    "            if j == 1:\n",
    "                if k > 5:\n",
    "                    up += 3\n",
    "                else:\n",
    "                    up += 1\n",
    "            elif j == 0:\n",
    "                if k > 5:\n",
    "                    down += 3\n",
    "                else:\n",
    "                    down += 1\n",
    "        if up > down:\n",
    "            data['Answer'].iloc[i] = 1\n",
    "        elif down > up:\n",
    "            data['Answer'].iloc[i] = 0"
   ]
  },
  {
   "cell_type": "markdown",
   "id": "bd0a41b9-81ad-4457-923f-fa59124ac0fe",
   "metadata": {
    "tags": []
   },
   "source": [
    "# __Nikkei 225 (^N225)__\n"
   ]
  },
  {
   "cell_type": "markdown",
   "id": "81bebb23-8ad0-46c2-9722-b9cd558597ef",
   "metadata": {
    "tags": []
   },
   "source": [
    " ## __<font color=green>Classification</font>__"
   ]
  },
  {
   "cell_type": "markdown",
   "id": "db9e0af0-c0b1-47e6-8f37-c957b702bb4e",
   "metadata": {
    "tags": []
   },
   "source": [
    "### PREPARE DATA FOR INDICATOR (เตรียมข้อมูลสำหรับนำไปใส่ Indicator)"
   ]
  },
  {
   "cell_type": "code",
   "execution_count": 50,
   "id": "8dfc79e6-c16b-4ee0-9ecd-7b9ddf142d9f",
   "metadata": {},
   "outputs": [],
   "source": [
    "open = N225['Open']\n",
    "high = N225['High']\n",
    "low = N225['Low']\n",
    "close = N225['Close']\n",
    "volume = N225['Volume']"
   ]
  },
  {
   "cell_type": "markdown",
   "id": "3869533d-178a-4044-bb1e-0503d8eef001",
   "metadata": {
    "tags": []
   },
   "source": [
    "### CREATE INDICATORS (สร้าง Indicator จากข้อมูล open, high, low, close, volume)"
   ]
  },
  {
   "cell_type": "markdown",
   "id": "561d379b-7f19-4f00-abbc-ec895841502d",
   "metadata": {
    "tags": []
   },
   "source": [
    "#### Overlap Studies"
   ]
  },
  {
   "cell_type": "code",
   "execution_count": 51,
   "id": "ab4e666c-d2ca-4894-9ecb-96800155c33e",
   "metadata": {},
   "outputs": [],
   "source": [
    "N225['EMA50'] = talib.MA(close, timeperiod=50, matype=0)\n",
    "N225['EMA200'] = talib.MA(close, timeperiod=200, matype=0)"
   ]
  },
  {
   "cell_type": "markdown",
   "id": "2c92ddf5-72a0-49e7-8fc7-cb82d276abbd",
   "metadata": {},
   "source": [
    "#### Momentum Indicators"
   ]
  },
  {
   "cell_type": "code",
   "execution_count": 52,
   "id": "d043e54e-ced5-4695-b44a-e4d921099ea8",
   "metadata": {},
   "outputs": [],
   "source": [
    "N225['ADX'] = talib.ADX(high, low, close, timeperiod=14)\n",
    "N225['AROON_DOWN'], N225['AROON_UP'] = talib.AROON(high, low, timeperiod=14)\n",
    "N225['CCI'] = talib.CCI(high, low, close, timeperiod=14)\n",
    "N225['MACD'], N225['MACD_SIGNAL'], N225['MACD_HIST'] = talib.MACD(close, fastperiod=12, slowperiod=26, signalperiod=9)\n",
    "N225['MINUS_DI'] = talib.MINUS_DI(high, low, close, timeperiod=14)\n",
    "N225['PLUS_DI'] = talib.PLUS_DI(high, low, close, timeperiod=14)\n",
    "N225['RSI'] = talib.RSI(close, timeperiod=14)\n",
    "N225['SLOWK'], N225['SLOWD'] = talib.STOCH(high, low, close, fastk_period=5, slowk_period=3, slowk_matype=0, slowd_period=3, slowd_matype=0)\n",
    "N225['ROC'] = talib.ROC(close, timeperiod=10)"
   ]
  },
  {
   "cell_type": "markdown",
   "id": "afd0e581-f47d-4675-8072-972b7a27f84b",
   "metadata": {},
   "source": [
    "#### Volume Indicators"
   ]
  },
  {
   "cell_type": "code",
   "execution_count": 53,
   "id": "61bac5c5-e7f8-483c-a72b-774f452ff7ac",
   "metadata": {},
   "outputs": [],
   "source": [
    "N225['AD'] = talib.AD(high, low, close, volume)\n",
    "N225['OBV'] = talib.OBV(close, volume)"
   ]
  },
  {
   "cell_type": "markdown",
   "id": "90f036e7-200c-4321-a784-865f76ac01c8",
   "metadata": {
    "tags": []
   },
   "source": [
    "#### Volatility Indicator"
   ]
  },
  {
   "cell_type": "code",
   "execution_count": 54,
   "id": "3e728ef4-3705-4e74-b597-dfb2ec140384",
   "metadata": {
    "tags": []
   },
   "outputs": [],
   "source": [
    "N225['ATR'] = talib.ATR(high, low, close, timeperiod=14)"
   ]
  },
  {
   "cell_type": "markdown",
   "id": "a828b727-14a2-4d31-8766-d09713f50c0b",
   "metadata": {},
   "source": [
    "#### Pattern Recognition"
   ]
  },
  {
   "cell_type": "code",
   "execution_count": 55,
   "id": "348e5494-18a5-43b0-a7ae-9c0a4be076d8",
   "metadata": {},
   "outputs": [],
   "source": [
    "N225['CDLMORNINGSTAR'] = talib.CDLMORNINGSTAR(open, high, low, close, penetration=0)\n",
    "N225['CDLENGULFING'] = talib.CDLENGULFING(open, high, low, close)"
   ]
  },
  {
   "cell_type": "markdown",
   "id": "f38378f5-35c4-4101-b444-ec03b802f330",
   "metadata": {
    "tags": []
   },
   "source": [
    "### Preprocessing data (เตรียมข้อมูลก่อนนำไปใช้ ตย.แก้ข้อมูล NaN, ปรับสัดส่วนข้อมูล/Scaling)"
   ]
  },
  {
   "cell_type": "code",
   "execution_count": 57,
   "id": "455846ac-4f3f-478b-9e60-66108d9a1f0c",
   "metadata": {},
   "outputs": [],
   "source": [
    "df = N225\n",
    "df = df.shift(periods=1, axis=0).iloc[1:, :]\n",
    "# สร้างค่าที่บอกว่าวัน่อไปราคาหุ้นขึ้นหรือลง ขึ้น = 1, ลง = 0)\n",
    "generateUpDown(df)\n",
    "\n",
    "# สร้างค่า X(open, high, low, close, volume, indicators) และ y(Up, Down)\n",
    "# temp = df.dropna()\n",
    "X = df.iloc[:, 0:-1]\n",
    "y = df.iloc[:, -1]\n",
    "\n",
    "from sklearn.impute import SimpleImputer\n",
    "from sklearn.preprocessing import StandardScaler, MinMaxScaler\n",
    "from sklearn.compose import make_column_selector, make_column_transformer\n",
    "from sklearn.pipeline import make_pipeline\n",
    "\n",
    "imp = SimpleImputer(strategy='mean', add_indicator=False)\n",
    "scaler = MinMaxScaler()\n",
    "\n",
    "num_cols = make_column_selector()\n",
    "\n",
    "preprocessor = make_column_transformer((make_pipeline(imp, scaler), num_cols))"
   ]
  },
  {
   "cell_type": "code",
   "execution_count": 58,
   "id": "f865152a-588d-4ed6-aed5-73d8c2e8e084",
   "metadata": {},
   "outputs": [
    {
     "data": {
      "text/html": [
       "<div>\n",
       "<style scoped>\n",
       "    .dataframe tbody tr th:only-of-type {\n",
       "        vertical-align: middle;\n",
       "    }\n",
       "\n",
       "    .dataframe tbody tr th {\n",
       "        vertical-align: top;\n",
       "    }\n",
       "\n",
       "    .dataframe thead th {\n",
       "        text-align: right;\n",
       "    }\n",
       "</style>\n",
       "<table border=\"1\" class=\"dataframe\">\n",
       "  <thead>\n",
       "    <tr style=\"text-align: right;\">\n",
       "      <th></th>\n",
       "      <th>High</th>\n",
       "      <th>Low</th>\n",
       "      <th>Open</th>\n",
       "      <th>Close</th>\n",
       "      <th>Volume</th>\n",
       "      <th>Adj Close</th>\n",
       "      <th>EMA50</th>\n",
       "      <th>EMA200</th>\n",
       "      <th>ADX</th>\n",
       "      <th>AROON_DOWN</th>\n",
       "      <th>...</th>\n",
       "      <th>SLOWK</th>\n",
       "      <th>SLOWD</th>\n",
       "      <th>ROC</th>\n",
       "      <th>AD</th>\n",
       "      <th>OBV</th>\n",
       "      <th>ATR</th>\n",
       "      <th>CDLMORNINGSTAR</th>\n",
       "      <th>CDLENGULFING</th>\n",
       "      <th>Forecast</th>\n",
       "      <th>Real</th>\n",
       "    </tr>\n",
       "    <tr>\n",
       "      <th>Date</th>\n",
       "      <th></th>\n",
       "      <th></th>\n",
       "      <th></th>\n",
       "      <th></th>\n",
       "      <th></th>\n",
       "      <th></th>\n",
       "      <th></th>\n",
       "      <th></th>\n",
       "      <th></th>\n",
       "      <th></th>\n",
       "      <th></th>\n",
       "      <th></th>\n",
       "      <th></th>\n",
       "      <th></th>\n",
       "      <th></th>\n",
       "      <th></th>\n",
       "      <th></th>\n",
       "      <th></th>\n",
       "      <th></th>\n",
       "      <th></th>\n",
       "      <th></th>\n",
       "    </tr>\n",
       "  </thead>\n",
       "  <tbody>\n",
       "    <tr>\n",
       "      <th>2012-01-05</th>\n",
       "      <td>8581.450195</td>\n",
       "      <td>8547.700195</td>\n",
       "      <td>8549.540039</td>\n",
       "      <td>8560.110352</td>\n",
       "      <td>106000000.0</td>\n",
       "      <td>8560.110352</td>\n",
       "      <td>NaN</td>\n",
       "      <td>NaN</td>\n",
       "      <td>NaN</td>\n",
       "      <td>NaN</td>\n",
       "      <td>...</td>\n",
       "      <td>NaN</td>\n",
       "      <td>NaN</td>\n",
       "      <td>NaN</td>\n",
       "      <td>-2.804583e+07</td>\n",
       "      <td>1.060000e+08</td>\n",
       "      <td>NaN</td>\n",
       "      <td>0.0</td>\n",
       "      <td>0.0</td>\n",
       "      <td>0</td>\n",
       "      <td>0</td>\n",
       "    </tr>\n",
       "    <tr>\n",
       "      <th>2012-01-06</th>\n",
       "      <td>8519.160156</td>\n",
       "      <td>8481.830078</td>\n",
       "      <td>8515.660156</td>\n",
       "      <td>8488.709961</td>\n",
       "      <td>77700000.0</td>\n",
       "      <td>8488.709961</td>\n",
       "      <td>NaN</td>\n",
       "      <td>NaN</td>\n",
       "      <td>NaN</td>\n",
       "      <td>NaN</td>\n",
       "      <td>...</td>\n",
       "      <td>NaN</td>\n",
       "      <td>NaN</td>\n",
       "      <td>NaN</td>\n",
       "      <td>-7.710582e+07</td>\n",
       "      <td>2.830000e+07</td>\n",
       "      <td>NaN</td>\n",
       "      <td>0.0</td>\n",
       "      <td>0.0</td>\n",
       "      <td>0</td>\n",
       "      <td>0</td>\n",
       "    </tr>\n",
       "    <tr>\n",
       "      <th>2012-01-10</th>\n",
       "      <td>8488.980469</td>\n",
       "      <td>8349.330078</td>\n",
       "      <td>8488.980469</td>\n",
       "      <td>8390.349609</td>\n",
       "      <td>101300000.0</td>\n",
       "      <td>8390.349609</td>\n",
       "      <td>NaN</td>\n",
       "      <td>NaN</td>\n",
       "      <td>NaN</td>\n",
       "      <td>NaN</td>\n",
       "      <td>...</td>\n",
       "      <td>NaN</td>\n",
       "      <td>NaN</td>\n",
       "      <td>NaN</td>\n",
       "      <td>-1.188961e+08</td>\n",
       "      <td>-7.300000e+07</td>\n",
       "      <td>NaN</td>\n",
       "      <td>0.0</td>\n",
       "      <td>0.0</td>\n",
       "      <td>0</td>\n",
       "      <td>1</td>\n",
       "    </tr>\n",
       "    <tr>\n",
       "      <th>2012-01-11</th>\n",
       "      <td>8450.589844</td>\n",
       "      <td>8405.179688</td>\n",
       "      <td>8422.990234</td>\n",
       "      <td>8422.259766</td>\n",
       "      <td>112300000.0</td>\n",
       "      <td>8422.259766</td>\n",
       "      <td>NaN</td>\n",
       "      <td>NaN</td>\n",
       "      <td>NaN</td>\n",
       "      <td>NaN</td>\n",
       "      <td>...</td>\n",
       "      <td>NaN</td>\n",
       "      <td>NaN</td>\n",
       "      <td>NaN</td>\n",
       "      <td>-1.467175e+08</td>\n",
       "      <td>3.930000e+07</td>\n",
       "      <td>NaN</td>\n",
       "      <td>0.0</td>\n",
       "      <td>0.0</td>\n",
       "      <td>0</td>\n",
       "      <td>1</td>\n",
       "    </tr>\n",
       "    <tr>\n",
       "      <th>2012-01-12</th>\n",
       "      <td>8463.719727</td>\n",
       "      <td>8426.030273</td>\n",
       "      <td>8440.959961</td>\n",
       "      <td>8447.879883</td>\n",
       "      <td>106200000.0</td>\n",
       "      <td>8447.879883</td>\n",
       "      <td>NaN</td>\n",
       "      <td>NaN</td>\n",
       "      <td>NaN</td>\n",
       "      <td>NaN</td>\n",
       "      <td>...</td>\n",
       "      <td>NaN</td>\n",
       "      <td>NaN</td>\n",
       "      <td>NaN</td>\n",
       "      <td>-1.297834e+08</td>\n",
       "      <td>1.455000e+08</td>\n",
       "      <td>NaN</td>\n",
       "      <td>0.0</td>\n",
       "      <td>0.0</td>\n",
       "      <td>0</td>\n",
       "      <td>0</td>\n",
       "    </tr>\n",
       "    <tr>\n",
       "      <th>...</th>\n",
       "      <td>...</td>\n",
       "      <td>...</td>\n",
       "      <td>...</td>\n",
       "      <td>...</td>\n",
       "      <td>...</td>\n",
       "      <td>...</td>\n",
       "      <td>...</td>\n",
       "      <td>...</td>\n",
       "      <td>...</td>\n",
       "      <td>...</td>\n",
       "      <td>...</td>\n",
       "      <td>...</td>\n",
       "      <td>...</td>\n",
       "      <td>...</td>\n",
       "      <td>...</td>\n",
       "      <td>...</td>\n",
       "      <td>...</td>\n",
       "      <td>...</td>\n",
       "      <td>...</td>\n",
       "      <td>...</td>\n",
       "      <td>...</td>\n",
       "    </tr>\n",
       "    <tr>\n",
       "      <th>2019-12-24</th>\n",
       "      <td>23923.089844</td>\n",
       "      <td>23810.820312</td>\n",
       "      <td>23921.289062</td>\n",
       "      <td>23821.109375</td>\n",
       "      <td>45200000.0</td>\n",
       "      <td>23821.109375</td>\n",
       "      <td>23174.173984</td>\n",
       "      <td>21814.207813</td>\n",
       "      <td>24.914280</td>\n",
       "      <td>7.142857</td>\n",
       "      <td>...</td>\n",
       "      <td>23.398988</td>\n",
       "      <td>44.538035</td>\n",
       "      <td>1.666233</td>\n",
       "      <td>1.114505e+10</td>\n",
       "      <td>2.294200e+10</td>\n",
       "      <td>193.195589</td>\n",
       "      <td>0.0</td>\n",
       "      <td>0.0</td>\n",
       "      <td>0</td>\n",
       "      <td>1</td>\n",
       "    </tr>\n",
       "    <tr>\n",
       "      <th>2019-12-25</th>\n",
       "      <td>23853.560547</td>\n",
       "      <td>23796.349609</td>\n",
       "      <td>23839.179688</td>\n",
       "      <td>23830.580078</td>\n",
       "      <td>37900000.0</td>\n",
       "      <td>23830.580078</td>\n",
       "      <td>23219.745977</td>\n",
       "      <td>21825.578164</td>\n",
       "      <td>24.634421</td>\n",
       "      <td>0.000000</td>\n",
       "      <td>...</td>\n",
       "      <td>23.324555</td>\n",
       "      <td>29.700388</td>\n",
       "      <td>1.795759</td>\n",
       "      <td>1.115250e+10</td>\n",
       "      <td>2.297990e+10</td>\n",
       "      <td>183.482400</td>\n",
       "      <td>0.0</td>\n",
       "      <td>0.0</td>\n",
       "      <td>0</td>\n",
       "      <td>0</td>\n",
       "    </tr>\n",
       "    <tr>\n",
       "      <th>2019-12-26</th>\n",
       "      <td>23824.849609</td>\n",
       "      <td>23782.869141</td>\n",
       "      <td>23813.589844</td>\n",
       "      <td>23782.869141</td>\n",
       "      <td>31600000.0</td>\n",
       "      <td>23782.869141</td>\n",
       "      <td>23259.425977</td>\n",
       "      <td>21837.566709</td>\n",
       "      <td>24.285338</td>\n",
       "      <td>0.000000</td>\n",
       "      <td>...</td>\n",
       "      <td>22.624387</td>\n",
       "      <td>23.115977</td>\n",
       "      <td>1.671563</td>\n",
       "      <td>1.112090e+10</td>\n",
       "      <td>2.294830e+10</td>\n",
       "      <td>173.784438</td>\n",
       "      <td>0.0</td>\n",
       "      <td>0.0</td>\n",
       "      <td>0</td>\n",
       "      <td>1</td>\n",
       "    </tr>\n",
       "    <tr>\n",
       "      <th>2019-12-27</th>\n",
       "      <td>23931.509766</td>\n",
       "      <td>23775.400391</td>\n",
       "      <td>23787.699219</td>\n",
       "      <td>23924.919922</td>\n",
       "      <td>40300000.0</td>\n",
       "      <td>23924.919922</td>\n",
       "      <td>23293.780156</td>\n",
       "      <td>21849.177861</td>\n",
       "      <td>24.424625</td>\n",
       "      <td>21.428571</td>\n",
       "      <td>...</td>\n",
       "      <td>47.562903</td>\n",
       "      <td>31.170615</td>\n",
       "      <td>2.134956</td>\n",
       "      <td>1.115780e+10</td>\n",
       "      <td>2.298860e+10</td>\n",
       "      <td>172.521934</td>\n",
       "      <td>0.0</td>\n",
       "      <td>0.0</td>\n",
       "      <td>0</td>\n",
       "      <td>0</td>\n",
       "    </tr>\n",
       "    <tr>\n",
       "      <th>2019-12-30</th>\n",
       "      <td>23967.179688</td>\n",
       "      <td>23837.720703</td>\n",
       "      <td>23953.750000</td>\n",
       "      <td>23837.720703</td>\n",
       "      <td>44800000.0</td>\n",
       "      <td>23837.720703</td>\n",
       "      <td>23321.076172</td>\n",
       "      <td>21859.256270</td>\n",
       "      <td>24.703036</td>\n",
       "      <td>14.285714</td>\n",
       "      <td>...</td>\n",
       "      <td>49.050310</td>\n",
       "      <td>39.745867</td>\n",
       "      <td>-0.771669</td>\n",
       "      <td>1.111300e+10</td>\n",
       "      <td>2.294380e+10</td>\n",
       "      <td>169.446009</td>\n",
       "      <td>0.0</td>\n",
       "      <td>0.0</td>\n",
       "      <td>0</td>\n",
       "      <td>0</td>\n",
       "    </tr>\n",
       "  </tbody>\n",
       "</table>\n",
       "<p>1959 rows × 28 columns</p>\n",
       "</div>"
      ],
      "text/plain": [
       "                    High           Low          Open         Close  \\\n",
       "Date                                                                 \n",
       "2012-01-05   8581.450195   8547.700195   8549.540039   8560.110352   \n",
       "2012-01-06   8519.160156   8481.830078   8515.660156   8488.709961   \n",
       "2012-01-10   8488.980469   8349.330078   8488.980469   8390.349609   \n",
       "2012-01-11   8450.589844   8405.179688   8422.990234   8422.259766   \n",
       "2012-01-12   8463.719727   8426.030273   8440.959961   8447.879883   \n",
       "...                  ...           ...           ...           ...   \n",
       "2019-12-24  23923.089844  23810.820312  23921.289062  23821.109375   \n",
       "2019-12-25  23853.560547  23796.349609  23839.179688  23830.580078   \n",
       "2019-12-26  23824.849609  23782.869141  23813.589844  23782.869141   \n",
       "2019-12-27  23931.509766  23775.400391  23787.699219  23924.919922   \n",
       "2019-12-30  23967.179688  23837.720703  23953.750000  23837.720703   \n",
       "\n",
       "                 Volume     Adj Close         EMA50        EMA200        ADX  \\\n",
       "Date                                                                           \n",
       "2012-01-05  106000000.0   8560.110352           NaN           NaN        NaN   \n",
       "2012-01-06   77700000.0   8488.709961           NaN           NaN        NaN   \n",
       "2012-01-10  101300000.0   8390.349609           NaN           NaN        NaN   \n",
       "2012-01-11  112300000.0   8422.259766           NaN           NaN        NaN   \n",
       "2012-01-12  106200000.0   8447.879883           NaN           NaN        NaN   \n",
       "...                 ...           ...           ...           ...        ...   \n",
       "2019-12-24   45200000.0  23821.109375  23174.173984  21814.207813  24.914280   \n",
       "2019-12-25   37900000.0  23830.580078  23219.745977  21825.578164  24.634421   \n",
       "2019-12-26   31600000.0  23782.869141  23259.425977  21837.566709  24.285338   \n",
       "2019-12-27   40300000.0  23924.919922  23293.780156  21849.177861  24.424625   \n",
       "2019-12-30   44800000.0  23837.720703  23321.076172  21859.256270  24.703036   \n",
       "\n",
       "            AROON_DOWN  ...      SLOWK      SLOWD       ROC            AD  \\\n",
       "Date                    ...                                                 \n",
       "2012-01-05         NaN  ...        NaN        NaN       NaN -2.804583e+07   \n",
       "2012-01-06         NaN  ...        NaN        NaN       NaN -7.710582e+07   \n",
       "2012-01-10         NaN  ...        NaN        NaN       NaN -1.188961e+08   \n",
       "2012-01-11         NaN  ...        NaN        NaN       NaN -1.467175e+08   \n",
       "2012-01-12         NaN  ...        NaN        NaN       NaN -1.297834e+08   \n",
       "...                ...  ...        ...        ...       ...           ...   \n",
       "2019-12-24    7.142857  ...  23.398988  44.538035  1.666233  1.114505e+10   \n",
       "2019-12-25    0.000000  ...  23.324555  29.700388  1.795759  1.115250e+10   \n",
       "2019-12-26    0.000000  ...  22.624387  23.115977  1.671563  1.112090e+10   \n",
       "2019-12-27   21.428571  ...  47.562903  31.170615  2.134956  1.115780e+10   \n",
       "2019-12-30   14.285714  ...  49.050310  39.745867 -0.771669  1.111300e+10   \n",
       "\n",
       "                     OBV         ATR  CDLMORNINGSTAR  CDLENGULFING  Forecast  \\\n",
       "Date                                                                           \n",
       "2012-01-05  1.060000e+08         NaN             0.0           0.0         0   \n",
       "2012-01-06  2.830000e+07         NaN             0.0           0.0         0   \n",
       "2012-01-10 -7.300000e+07         NaN             0.0           0.0         0   \n",
       "2012-01-11  3.930000e+07         NaN             0.0           0.0         0   \n",
       "2012-01-12  1.455000e+08         NaN             0.0           0.0         0   \n",
       "...                  ...         ...             ...           ...       ...   \n",
       "2019-12-24  2.294200e+10  193.195589             0.0           0.0         0   \n",
       "2019-12-25  2.297990e+10  183.482400             0.0           0.0         0   \n",
       "2019-12-26  2.294830e+10  173.784438             0.0           0.0         0   \n",
       "2019-12-27  2.298860e+10  172.521934             0.0           0.0         0   \n",
       "2019-12-30  2.294380e+10  169.446009             0.0           0.0         0   \n",
       "\n",
       "            Real  \n",
       "Date              \n",
       "2012-01-05     0  \n",
       "2012-01-06     0  \n",
       "2012-01-10     1  \n",
       "2012-01-11     1  \n",
       "2012-01-12     0  \n",
       "...          ...  \n",
       "2019-12-24     1  \n",
       "2019-12-25     0  \n",
       "2019-12-26     1  \n",
       "2019-12-27     0  \n",
       "2019-12-30     0  \n",
       "\n",
       "[1959 rows x 28 columns]"
      ]
     },
     "execution_count": 58,
     "metadata": {},
     "output_type": "execute_result"
    }
   ],
   "source": [
    "df"
   ]
  },
  {
   "cell_type": "markdown",
   "id": "4252e5a3-b930-444c-ae71-a1efb8263782",
   "metadata": {
    "tags": []
   },
   "source": [
    "### Create Models (สร้าง Models)"
   ]
  },
  {
   "cell_type": "code",
   "execution_count": 59,
   "id": "0a6fd5ff-a923-4b09-8284-9eb2a7412ead",
   "metadata": {},
   "outputs": [],
   "source": [
    "from sklearn.linear_model import LogisticRegression\n",
    "from sklearn.neighbors import KNeighborsClassifier\n",
    "from sklearn import svm\n",
    "from sklearn.linear_model import RidgeClassifier\n",
    "\n",
    "lr = LogisticRegression(penalty='l1', C=0.1, solver='saga', random_state=1, max_iter=500, tol=0.01, dual=False)\n",
    "knc = KNeighborsClassifier(n_neighbors=470, p=9, algorithm='auto', leaf_size=30, weights='uniform')\n",
    "svm = svm.SVC(C=0.3, random_state=1, kernel='linear', gamma='auto', degree=3)\n",
    "rcf = RidgeClassifier(alpha=20, random_state=1, normalize=True)"
   ]
  },
  {
   "cell_type": "markdown",
   "id": "1f7128bc-3b55-4b48-a2eb-d11329c705d7",
   "metadata": {
    "tags": []
   },
   "source": [
    "### Features Selection (เลือก Features ที่จะใช้เป็น X)"
   ]
  },
  {
   "cell_type": "code",
   "execution_count": 60,
   "id": "72b3e08a-ddc4-4e21-82b3-cb60ba0f96c1",
   "metadata": {},
   "outputs": [
    {
     "data": {
      "text/html": [
       "<style>#sk-82f5d413-92c2-46ed-a687-0fa192472d76 {color: black;background-color: white;}#sk-82f5d413-92c2-46ed-a687-0fa192472d76 pre{padding: 0;}#sk-82f5d413-92c2-46ed-a687-0fa192472d76 div.sk-toggleable {background-color: white;}#sk-82f5d413-92c2-46ed-a687-0fa192472d76 label.sk-toggleable__label {cursor: pointer;display: block;width: 100%;margin-bottom: 0;padding: 0.3em;box-sizing: border-box;text-align: center;}#sk-82f5d413-92c2-46ed-a687-0fa192472d76 div.sk-toggleable__content {max-height: 0;max-width: 0;overflow: hidden;text-align: left;background-color: #f0f8ff;}#sk-82f5d413-92c2-46ed-a687-0fa192472d76 div.sk-toggleable__content pre {margin: 0.2em;color: black;border-radius: 0.25em;background-color: #f0f8ff;}#sk-82f5d413-92c2-46ed-a687-0fa192472d76 input.sk-toggleable__control:checked~div.sk-toggleable__content {max-height: 200px;max-width: 100%;overflow: auto;}#sk-82f5d413-92c2-46ed-a687-0fa192472d76 div.sk-estimator input.sk-toggleable__control:checked~label.sk-toggleable__label {background-color: #d4ebff;}#sk-82f5d413-92c2-46ed-a687-0fa192472d76 div.sk-label input.sk-toggleable__control:checked~label.sk-toggleable__label {background-color: #d4ebff;}#sk-82f5d413-92c2-46ed-a687-0fa192472d76 input.sk-hidden--visually {border: 0;clip: rect(1px 1px 1px 1px);clip: rect(1px, 1px, 1px, 1px);height: 1px;margin: -1px;overflow: hidden;padding: 0;position: absolute;width: 1px;}#sk-82f5d413-92c2-46ed-a687-0fa192472d76 div.sk-estimator {font-family: monospace;background-color: #f0f8ff;border: 1px dotted black;border-radius: 0.25em;box-sizing: border-box;margin-bottom: 0.5em;}#sk-82f5d413-92c2-46ed-a687-0fa192472d76 div.sk-estimator:hover {background-color: #d4ebff;}#sk-82f5d413-92c2-46ed-a687-0fa192472d76 div.sk-parallel-item::after {content: \"\";width: 100%;border-bottom: 1px solid gray;flex-grow: 1;}#sk-82f5d413-92c2-46ed-a687-0fa192472d76 div.sk-label:hover label.sk-toggleable__label {background-color: #d4ebff;}#sk-82f5d413-92c2-46ed-a687-0fa192472d76 div.sk-serial::before {content: \"\";position: absolute;border-left: 1px solid gray;box-sizing: border-box;top: 2em;bottom: 0;left: 50%;}#sk-82f5d413-92c2-46ed-a687-0fa192472d76 div.sk-serial {display: flex;flex-direction: column;align-items: center;background-color: white;padding-right: 0.2em;padding-left: 0.2em;}#sk-82f5d413-92c2-46ed-a687-0fa192472d76 div.sk-item {z-index: 1;}#sk-82f5d413-92c2-46ed-a687-0fa192472d76 div.sk-parallel {display: flex;align-items: stretch;justify-content: center;background-color: white;}#sk-82f5d413-92c2-46ed-a687-0fa192472d76 div.sk-parallel::before {content: \"\";position: absolute;border-left: 1px solid gray;box-sizing: border-box;top: 2em;bottom: 0;left: 50%;}#sk-82f5d413-92c2-46ed-a687-0fa192472d76 div.sk-parallel-item {display: flex;flex-direction: column;position: relative;background-color: white;}#sk-82f5d413-92c2-46ed-a687-0fa192472d76 div.sk-parallel-item:first-child::after {align-self: flex-end;width: 50%;}#sk-82f5d413-92c2-46ed-a687-0fa192472d76 div.sk-parallel-item:last-child::after {align-self: flex-start;width: 50%;}#sk-82f5d413-92c2-46ed-a687-0fa192472d76 div.sk-parallel-item:only-child::after {width: 0;}#sk-82f5d413-92c2-46ed-a687-0fa192472d76 div.sk-dashed-wrapped {border: 1px dashed gray;margin: 0 0.4em 0.5em 0.4em;box-sizing: border-box;padding-bottom: 0.4em;background-color: white;position: relative;}#sk-82f5d413-92c2-46ed-a687-0fa192472d76 div.sk-label label {font-family: monospace;font-weight: bold;background-color: white;display: inline-block;line-height: 1.2em;}#sk-82f5d413-92c2-46ed-a687-0fa192472d76 div.sk-label-container {position: relative;z-index: 2;text-align: center;}#sk-82f5d413-92c2-46ed-a687-0fa192472d76 div.sk-container {display: inline-block;position: relative;}</style><div id=\"sk-82f5d413-92c2-46ed-a687-0fa192472d76\" class\"sk-top-container\"><div class=\"sk-container\"><div class=\"sk-item\"><div class=\"sk-estimator sk-toggleable\"><input class=\"sk-toggleable__control sk-hidden--visually\" id=\"b882da81-85f7-47c2-b91d-c6d847db4bd5\" type=\"checkbox\" checked><label class=\"sk-toggleable__label\" for=\"b882da81-85f7-47c2-b91d-c6d847db4bd5\">SelectKBest</label><div class=\"sk-toggleable__content\"><pre>SelectKBest(score_func=<function chi2 at 0x000001D52A77C5E0>)</pre></div></div></div></div></div>"
      ],
      "text/plain": [
       "SelectKBest(score_func=<function chi2 at 0x000001D52A77C5E0>)"
      ]
     },
     "execution_count": 60,
     "metadata": {},
     "output_type": "execute_result"
    }
   ],
   "source": [
    "from sklearn.feature_selection import RFE, SelectKBest, chi2\n",
    "# RFE(modelที่ใช้เลือก, จำนวน Features ที่จะให้เลือก=N)\n",
    "rfe = RFE(lr, n_features_to_select=10)\n",
    "chi2_selector = SelectKBest(score_func=chi2, k=10)\n",
    "chi2_selector"
   ]
  },
  {
   "cell_type": "markdown",
   "id": "c17a33d5-f209-491a-b49c-1c6c6c62cee1",
   "metadata": {
    "tags": []
   },
   "source": [
    "### Ensemble Models (Model แบบ Ensemble *แบบเอาหลายๆ model มาหาอันที่ดีที่สุดแล้วเอียงไปตอยตามตัวนั้นๆ)"
   ]
  },
  {
   "cell_type": "code",
   "execution_count": 61,
   "id": "6fb50641-d2f3-48a4-b102-0aaa5f14fe2b",
   "metadata": {},
   "outputs": [
    {
     "data": {
      "text/html": [
       "<style>#sk-9a908f55-773f-48cd-a61a-ea9f95cdd13a {color: black;background-color: white;}#sk-9a908f55-773f-48cd-a61a-ea9f95cdd13a pre{padding: 0;}#sk-9a908f55-773f-48cd-a61a-ea9f95cdd13a div.sk-toggleable {background-color: white;}#sk-9a908f55-773f-48cd-a61a-ea9f95cdd13a label.sk-toggleable__label {cursor: pointer;display: block;width: 100%;margin-bottom: 0;padding: 0.3em;box-sizing: border-box;text-align: center;}#sk-9a908f55-773f-48cd-a61a-ea9f95cdd13a div.sk-toggleable__content {max-height: 0;max-width: 0;overflow: hidden;text-align: left;background-color: #f0f8ff;}#sk-9a908f55-773f-48cd-a61a-ea9f95cdd13a div.sk-toggleable__content pre {margin: 0.2em;color: black;border-radius: 0.25em;background-color: #f0f8ff;}#sk-9a908f55-773f-48cd-a61a-ea9f95cdd13a input.sk-toggleable__control:checked~div.sk-toggleable__content {max-height: 200px;max-width: 100%;overflow: auto;}#sk-9a908f55-773f-48cd-a61a-ea9f95cdd13a div.sk-estimator input.sk-toggleable__control:checked~label.sk-toggleable__label {background-color: #d4ebff;}#sk-9a908f55-773f-48cd-a61a-ea9f95cdd13a div.sk-label input.sk-toggleable__control:checked~label.sk-toggleable__label {background-color: #d4ebff;}#sk-9a908f55-773f-48cd-a61a-ea9f95cdd13a input.sk-hidden--visually {border: 0;clip: rect(1px 1px 1px 1px);clip: rect(1px, 1px, 1px, 1px);height: 1px;margin: -1px;overflow: hidden;padding: 0;position: absolute;width: 1px;}#sk-9a908f55-773f-48cd-a61a-ea9f95cdd13a div.sk-estimator {font-family: monospace;background-color: #f0f8ff;border: 1px dotted black;border-radius: 0.25em;box-sizing: border-box;margin-bottom: 0.5em;}#sk-9a908f55-773f-48cd-a61a-ea9f95cdd13a div.sk-estimator:hover {background-color: #d4ebff;}#sk-9a908f55-773f-48cd-a61a-ea9f95cdd13a div.sk-parallel-item::after {content: \"\";width: 100%;border-bottom: 1px solid gray;flex-grow: 1;}#sk-9a908f55-773f-48cd-a61a-ea9f95cdd13a div.sk-label:hover label.sk-toggleable__label {background-color: #d4ebff;}#sk-9a908f55-773f-48cd-a61a-ea9f95cdd13a div.sk-serial::before {content: \"\";position: absolute;border-left: 1px solid gray;box-sizing: border-box;top: 2em;bottom: 0;left: 50%;}#sk-9a908f55-773f-48cd-a61a-ea9f95cdd13a div.sk-serial {display: flex;flex-direction: column;align-items: center;background-color: white;padding-right: 0.2em;padding-left: 0.2em;}#sk-9a908f55-773f-48cd-a61a-ea9f95cdd13a div.sk-item {z-index: 1;}#sk-9a908f55-773f-48cd-a61a-ea9f95cdd13a div.sk-parallel {display: flex;align-items: stretch;justify-content: center;background-color: white;}#sk-9a908f55-773f-48cd-a61a-ea9f95cdd13a div.sk-parallel::before {content: \"\";position: absolute;border-left: 1px solid gray;box-sizing: border-box;top: 2em;bottom: 0;left: 50%;}#sk-9a908f55-773f-48cd-a61a-ea9f95cdd13a div.sk-parallel-item {display: flex;flex-direction: column;position: relative;background-color: white;}#sk-9a908f55-773f-48cd-a61a-ea9f95cdd13a div.sk-parallel-item:first-child::after {align-self: flex-end;width: 50%;}#sk-9a908f55-773f-48cd-a61a-ea9f95cdd13a div.sk-parallel-item:last-child::after {align-self: flex-start;width: 50%;}#sk-9a908f55-773f-48cd-a61a-ea9f95cdd13a div.sk-parallel-item:only-child::after {width: 0;}#sk-9a908f55-773f-48cd-a61a-ea9f95cdd13a div.sk-dashed-wrapped {border: 1px dashed gray;margin: 0 0.4em 0.5em 0.4em;box-sizing: border-box;padding-bottom: 0.4em;background-color: white;position: relative;}#sk-9a908f55-773f-48cd-a61a-ea9f95cdd13a div.sk-label label {font-family: monospace;font-weight: bold;background-color: white;display: inline-block;line-height: 1.2em;}#sk-9a908f55-773f-48cd-a61a-ea9f95cdd13a div.sk-label-container {position: relative;z-index: 2;text-align: center;}#sk-9a908f55-773f-48cd-a61a-ea9f95cdd13a div.sk-container {display: inline-block;position: relative;}</style><div id=\"sk-9a908f55-773f-48cd-a61a-ea9f95cdd13a\" class\"sk-top-container\"><div class=\"sk-container\"><div class=\"sk-item sk-dashed-wrapped\"><div class=\"sk-label-container\"><div class=\"sk-label sk-toggleable\"><input class=\"sk-toggleable__control sk-hidden--visually\" id=\"ac3d844a-fe94-4ed9-a1fd-f9e2f680db8a\" type=\"checkbox\" ><label class=\"sk-toggleable__label\" for=\"ac3d844a-fe94-4ed9-a1fd-f9e2f680db8a\">VotingClassifier</label><div class=\"sk-toggleable__content\"><pre>VotingClassifier(estimators=[('clf1',\n",
       "                              LogisticRegression(C=0.1, max_iter=500,\n",
       "                                                 penalty='l1', random_state=1,\n",
       "                                                 solver='saga', tol=0.01)),\n",
       "                             ('clf2',\n",
       "                              KNeighborsClassifier(n_neighbors=470, p=9)),\n",
       "                             ('clf3',\n",
       "                              SVC(C=0.3, gamma='auto', kernel='linear',\n",
       "                                  random_state=1)),\n",
       "                             ('clf4',\n",
       "                              RidgeClassifier(alpha=20, normalize=True,\n",
       "                                              random_state=1))],\n",
       "                 weights=(2, 1, 1, 1))</pre></div></div></div><div class=\"sk-parallel\"><div class=\"sk-parallel-item\"><div class=\"sk-item\"><div class=\"sk-label-container\"><div class=\"sk-label sk-toggleable\"><label>clf1</label></div></div><div class=\"sk-serial\"><div class=\"sk-item\"><div class=\"sk-estimator sk-toggleable\"><input class=\"sk-toggleable__control sk-hidden--visually\" id=\"48541d11-7eb6-4349-9a29-df8ec54b64b2\" type=\"checkbox\" ><label class=\"sk-toggleable__label\" for=\"48541d11-7eb6-4349-9a29-df8ec54b64b2\">LogisticRegression</label><div class=\"sk-toggleable__content\"><pre>LogisticRegression(C=0.1, max_iter=500, penalty='l1', random_state=1,\n",
       "                   solver='saga', tol=0.01)</pre></div></div></div></div></div></div><div class=\"sk-parallel-item\"><div class=\"sk-item\"><div class=\"sk-label-container\"><div class=\"sk-label sk-toggleable\"><label>clf2</label></div></div><div class=\"sk-serial\"><div class=\"sk-item\"><div class=\"sk-estimator sk-toggleable\"><input class=\"sk-toggleable__control sk-hidden--visually\" id=\"f0398d1c-b706-4566-afa1-4b0d3f3138ac\" type=\"checkbox\" ><label class=\"sk-toggleable__label\" for=\"f0398d1c-b706-4566-afa1-4b0d3f3138ac\">KNeighborsClassifier</label><div class=\"sk-toggleable__content\"><pre>KNeighborsClassifier(n_neighbors=470, p=9)</pre></div></div></div></div></div></div><div class=\"sk-parallel-item\"><div class=\"sk-item\"><div class=\"sk-label-container\"><div class=\"sk-label sk-toggleable\"><label>clf3</label></div></div><div class=\"sk-serial\"><div class=\"sk-item\"><div class=\"sk-estimator sk-toggleable\"><input class=\"sk-toggleable__control sk-hidden--visually\" id=\"49e55224-84f8-45c8-a109-b5cc03409659\" type=\"checkbox\" ><label class=\"sk-toggleable__label\" for=\"49e55224-84f8-45c8-a109-b5cc03409659\">SVC</label><div class=\"sk-toggleable__content\"><pre>SVC(C=0.3, gamma='auto', kernel='linear', random_state=1)</pre></div></div></div></div></div></div><div class=\"sk-parallel-item\"><div class=\"sk-item\"><div class=\"sk-label-container\"><div class=\"sk-label sk-toggleable\"><label>clf4</label></div></div><div class=\"sk-serial\"><div class=\"sk-item\"><div class=\"sk-estimator sk-toggleable\"><input class=\"sk-toggleable__control sk-hidden--visually\" id=\"b0f0630d-4384-40c8-af99-8898fa181317\" type=\"checkbox\" ><label class=\"sk-toggleable__label\" for=\"b0f0630d-4384-40c8-af99-8898fa181317\">RidgeClassifier</label><div class=\"sk-toggleable__content\"><pre>RidgeClassifier(alpha=20, normalize=True, random_state=1)</pre></div></div></div></div></div></div></div></div></div></div>"
      ],
      "text/plain": [
       "VotingClassifier(estimators=[('clf1',\n",
       "                              LogisticRegression(C=0.1, max_iter=500,\n",
       "                                                 penalty='l1', random_state=1,\n",
       "                                                 solver='saga', tol=0.01)),\n",
       "                             ('clf2',\n",
       "                              KNeighborsClassifier(n_neighbors=470, p=9)),\n",
       "                             ('clf3',\n",
       "                              SVC(C=0.3, gamma='auto', kernel='linear',\n",
       "                                  random_state=1)),\n",
       "                             ('clf4',\n",
       "                              RidgeClassifier(alpha=20, normalize=True,\n",
       "                                              random_state=1))],\n",
       "                 weights=(2, 1, 1, 1))"
      ]
     },
     "execution_count": 61,
     "metadata": {},
     "output_type": "execute_result"
    }
   ],
   "source": [
    "from sklearn.ensemble import VotingClassifier\n",
    "\n",
    "vc = VotingClassifier([('clf1', lr), ('clf2', knc), ('clf3', svm), ('clf4', rcf)], voting='hard', weights=(2, 1, 1, 1))\n",
    "vc"
   ]
  },
  {
   "cell_type": "markdown",
   "id": "a1b6781a-5bb7-4618-9686-f0c342c24141",
   "metadata": {
    "tags": []
   },
   "source": [
    "### Splitting data & Training model (แบ่งข้อมูลเป็นส่วนที่ให้ model เรียน กะส่วนที่ให้ model ลองตอบ/ลองเดา)"
   ]
  },
  {
   "cell_type": "code",
   "execution_count": 62,
   "id": "613a46e9-0288-4dc7-a74b-5a719cecd4ee",
   "metadata": {},
   "outputs": [
    {
     "data": {
      "text/html": [
       "<style>#sk-2700b195-8d93-4fb2-a1b1-0ae5972109b4 {color: black;background-color: white;}#sk-2700b195-8d93-4fb2-a1b1-0ae5972109b4 pre{padding: 0;}#sk-2700b195-8d93-4fb2-a1b1-0ae5972109b4 div.sk-toggleable {background-color: white;}#sk-2700b195-8d93-4fb2-a1b1-0ae5972109b4 label.sk-toggleable__label {cursor: pointer;display: block;width: 100%;margin-bottom: 0;padding: 0.3em;box-sizing: border-box;text-align: center;}#sk-2700b195-8d93-4fb2-a1b1-0ae5972109b4 div.sk-toggleable__content {max-height: 0;max-width: 0;overflow: hidden;text-align: left;background-color: #f0f8ff;}#sk-2700b195-8d93-4fb2-a1b1-0ae5972109b4 div.sk-toggleable__content pre {margin: 0.2em;color: black;border-radius: 0.25em;background-color: #f0f8ff;}#sk-2700b195-8d93-4fb2-a1b1-0ae5972109b4 input.sk-toggleable__control:checked~div.sk-toggleable__content {max-height: 200px;max-width: 100%;overflow: auto;}#sk-2700b195-8d93-4fb2-a1b1-0ae5972109b4 div.sk-estimator input.sk-toggleable__control:checked~label.sk-toggleable__label {background-color: #d4ebff;}#sk-2700b195-8d93-4fb2-a1b1-0ae5972109b4 div.sk-label input.sk-toggleable__control:checked~label.sk-toggleable__label {background-color: #d4ebff;}#sk-2700b195-8d93-4fb2-a1b1-0ae5972109b4 input.sk-hidden--visually {border: 0;clip: rect(1px 1px 1px 1px);clip: rect(1px, 1px, 1px, 1px);height: 1px;margin: -1px;overflow: hidden;padding: 0;position: absolute;width: 1px;}#sk-2700b195-8d93-4fb2-a1b1-0ae5972109b4 div.sk-estimator {font-family: monospace;background-color: #f0f8ff;border: 1px dotted black;border-radius: 0.25em;box-sizing: border-box;margin-bottom: 0.5em;}#sk-2700b195-8d93-4fb2-a1b1-0ae5972109b4 div.sk-estimator:hover {background-color: #d4ebff;}#sk-2700b195-8d93-4fb2-a1b1-0ae5972109b4 div.sk-parallel-item::after {content: \"\";width: 100%;border-bottom: 1px solid gray;flex-grow: 1;}#sk-2700b195-8d93-4fb2-a1b1-0ae5972109b4 div.sk-label:hover label.sk-toggleable__label {background-color: #d4ebff;}#sk-2700b195-8d93-4fb2-a1b1-0ae5972109b4 div.sk-serial::before {content: \"\";position: absolute;border-left: 1px solid gray;box-sizing: border-box;top: 2em;bottom: 0;left: 50%;}#sk-2700b195-8d93-4fb2-a1b1-0ae5972109b4 div.sk-serial {display: flex;flex-direction: column;align-items: center;background-color: white;padding-right: 0.2em;padding-left: 0.2em;}#sk-2700b195-8d93-4fb2-a1b1-0ae5972109b4 div.sk-item {z-index: 1;}#sk-2700b195-8d93-4fb2-a1b1-0ae5972109b4 div.sk-parallel {display: flex;align-items: stretch;justify-content: center;background-color: white;}#sk-2700b195-8d93-4fb2-a1b1-0ae5972109b4 div.sk-parallel::before {content: \"\";position: absolute;border-left: 1px solid gray;box-sizing: border-box;top: 2em;bottom: 0;left: 50%;}#sk-2700b195-8d93-4fb2-a1b1-0ae5972109b4 div.sk-parallel-item {display: flex;flex-direction: column;position: relative;background-color: white;}#sk-2700b195-8d93-4fb2-a1b1-0ae5972109b4 div.sk-parallel-item:first-child::after {align-self: flex-end;width: 50%;}#sk-2700b195-8d93-4fb2-a1b1-0ae5972109b4 div.sk-parallel-item:last-child::after {align-self: flex-start;width: 50%;}#sk-2700b195-8d93-4fb2-a1b1-0ae5972109b4 div.sk-parallel-item:only-child::after {width: 0;}#sk-2700b195-8d93-4fb2-a1b1-0ae5972109b4 div.sk-dashed-wrapped {border: 1px dashed gray;margin: 0 0.4em 0.5em 0.4em;box-sizing: border-box;padding-bottom: 0.4em;background-color: white;position: relative;}#sk-2700b195-8d93-4fb2-a1b1-0ae5972109b4 div.sk-label label {font-family: monospace;font-weight: bold;background-color: white;display: inline-block;line-height: 1.2em;}#sk-2700b195-8d93-4fb2-a1b1-0ae5972109b4 div.sk-label-container {position: relative;z-index: 2;text-align: center;}#sk-2700b195-8d93-4fb2-a1b1-0ae5972109b4 div.sk-container {display: inline-block;position: relative;}</style><div id=\"sk-2700b195-8d93-4fb2-a1b1-0ae5972109b4\" class\"sk-top-container\"><div class=\"sk-container\"><div class=\"sk-item sk-dashed-wrapped\"><div class=\"sk-label-container\"><div class=\"sk-label sk-toggleable\"><input class=\"sk-toggleable__control sk-hidden--visually\" id=\"56e4e8b0-b174-4997-adc5-f20ca41150ab\" type=\"checkbox\" ><label class=\"sk-toggleable__label\" for=\"56e4e8b0-b174-4997-adc5-f20ca41150ab\">Pipeline</label><div class=\"sk-toggleable__content\"><pre>Pipeline(steps=[('columntransformer',\n",
       "                 ColumnTransformer(transformers=[('pipeline',\n",
       "                                                  Pipeline(steps=[('simpleimputer',\n",
       "                                                                   SimpleImputer()),\n",
       "                                                                  ('minmaxscaler',\n",
       "                                                                   MinMaxScaler())]),\n",
       "                                                  <sklearn.compose._column_transformer.make_column_selector object at 0x000001D52D896A30>)])),\n",
       "                ('rfe',\n",
       "                 RFE(estimator=LogisticRegression(C=0.1, max_iter=500,\n",
       "                                                  penalty='l1', random_state=1,\n",
       "                                                  solver='saga', tol=0.01),\n",
       "                     n_features_to_select=10)),\n",
       "                ('ridgeclassifier',\n",
       "                 RidgeClassifier(alpha=20, normalize=True, random_state=1))])</pre></div></div></div><div class=\"sk-serial\"><div class=\"sk-item sk-dashed-wrapped\"><div class=\"sk-label-container\"><div class=\"sk-label sk-toggleable\"><input class=\"sk-toggleable__control sk-hidden--visually\" id=\"2a1fb11d-0a04-48d2-890f-1d8d4a5706d7\" type=\"checkbox\" ><label class=\"sk-toggleable__label\" for=\"2a1fb11d-0a04-48d2-890f-1d8d4a5706d7\">columntransformer: ColumnTransformer</label><div class=\"sk-toggleable__content\"><pre>ColumnTransformer(transformers=[('pipeline',\n",
       "                                 Pipeline(steps=[('simpleimputer',\n",
       "                                                  SimpleImputer()),\n",
       "                                                 ('minmaxscaler',\n",
       "                                                  MinMaxScaler())]),\n",
       "                                 <sklearn.compose._column_transformer.make_column_selector object at 0x000001D52D896A30>)])</pre></div></div></div><div class=\"sk-parallel\"><div class=\"sk-parallel-item\"><div class=\"sk-item\"><div class=\"sk-label-container\"><div class=\"sk-label sk-toggleable\"><input class=\"sk-toggleable__control sk-hidden--visually\" id=\"8aba14f9-48cf-4262-907d-ae2fe7432dd1\" type=\"checkbox\" ><label class=\"sk-toggleable__label\" for=\"8aba14f9-48cf-4262-907d-ae2fe7432dd1\">pipeline</label><div class=\"sk-toggleable__content\"><pre><sklearn.compose._column_transformer.make_column_selector object at 0x000001D52D896A30></pre></div></div></div><div class=\"sk-serial\"><div class=\"sk-item\"><div class=\"sk-serial\"><div class=\"sk-item\"><div class=\"sk-estimator sk-toggleable\"><input class=\"sk-toggleable__control sk-hidden--visually\" id=\"63f1b884-41c1-43ff-af42-db56c238e0df\" type=\"checkbox\" ><label class=\"sk-toggleable__label\" for=\"63f1b884-41c1-43ff-af42-db56c238e0df\">SimpleImputer</label><div class=\"sk-toggleable__content\"><pre>SimpleImputer()</pre></div></div></div><div class=\"sk-item\"><div class=\"sk-estimator sk-toggleable\"><input class=\"sk-toggleable__control sk-hidden--visually\" id=\"d998a5c8-2d26-4630-b063-b9d36a763be0\" type=\"checkbox\" ><label class=\"sk-toggleable__label\" for=\"d998a5c8-2d26-4630-b063-b9d36a763be0\">MinMaxScaler</label><div class=\"sk-toggleable__content\"><pre>MinMaxScaler()</pre></div></div></div></div></div></div></div></div></div></div><div class=\"sk-item sk-dashed-wrapped\"><div class=\"sk-label-container\"><div class=\"sk-label sk-toggleable\"><input class=\"sk-toggleable__control sk-hidden--visually\" id=\"9e98affe-2c63-480c-8404-0968ac53f773\" type=\"checkbox\" ><label class=\"sk-toggleable__label\" for=\"9e98affe-2c63-480c-8404-0968ac53f773\">rfe: RFE</label><div class=\"sk-toggleable__content\"><pre>RFE(estimator=LogisticRegression(C=0.1, max_iter=500, penalty='l1',\n",
       "                                 random_state=1, solver='saga', tol=0.01),\n",
       "    n_features_to_select=10)</pre></div></div></div><div class=\"sk-parallel\"><div class=\"sk-parallel-item\"><div class=\"sk-item\"><div class=\"sk-serial\"><div class=\"sk-item\"><div class=\"sk-estimator sk-toggleable\"><input class=\"sk-toggleable__control sk-hidden--visually\" id=\"37692043-3ad2-476d-9ade-eadb85b3683f\" type=\"checkbox\" ><label class=\"sk-toggleable__label\" for=\"37692043-3ad2-476d-9ade-eadb85b3683f\">LogisticRegression</label><div class=\"sk-toggleable__content\"><pre>LogisticRegression(C=0.1, max_iter=500, penalty='l1', random_state=1,\n",
       "                   solver='saga', tol=0.01)</pre></div></div></div></div></div></div></div></div><div class=\"sk-item\"><div class=\"sk-estimator sk-toggleable\"><input class=\"sk-toggleable__control sk-hidden--visually\" id=\"69287817-4eea-4806-b6a4-26193e3aa344\" type=\"checkbox\" ><label class=\"sk-toggleable__label\" for=\"69287817-4eea-4806-b6a4-26193e3aa344\">RidgeClassifier</label><div class=\"sk-toggleable__content\"><pre>RidgeClassifier(alpha=20, normalize=True, random_state=1)</pre></div></div></div></div></div></div></div>"
      ],
      "text/plain": [
       "Pipeline(steps=[('columntransformer',\n",
       "                 ColumnTransformer(transformers=[('pipeline',\n",
       "                                                  Pipeline(steps=[('simpleimputer',\n",
       "                                                                   SimpleImputer()),\n",
       "                                                                  ('minmaxscaler',\n",
       "                                                                   MinMaxScaler())]),\n",
       "                                                  <sklearn.compose._column_transformer.make_column_selector object at 0x000001D52D896A30>)])),\n",
       "                ('rfe',\n",
       "                 RFE(estimator=LogisticRegression(C=0.1, max_iter=500,\n",
       "                                                  penalty='l1', random_state=1,\n",
       "                                                  solver='saga', tol=0.01),\n",
       "                     n_features_to_select=10)),\n",
       "                ('ridgeclassifier',\n",
       "                 RidgeClassifier(alpha=20, normalize=True, random_state=1))])"
      ]
     },
     "execution_count": 62,
     "metadata": {},
     "output_type": "execute_result"
    }
   ],
   "source": [
    "from sklearn.model_selection import train_test_split\n",
    "\n",
    "pipe = make_pipeline(preprocessor, rfe, vc)\n",
    "pipe_lr = make_pipeline(preprocessor, rfe, lr)\n",
    "pipe_knc = make_pipeline(preprocessor, rfe, knc)\n",
    "pipe_svm = make_pipeline(preprocessor, rfe, svm)\n",
    "pipe_rcf = make_pipeline(preprocessor, rfe, rcf)\n",
    "\n",
    "X_train, X_test, y_train, y_test = train_test_split(X, y, test_size=0.15, random_state=0, shuffle=False)\n",
    " \n",
    "pipe.fit(X_train, y_train)\n",
    "pipe_lr.fit(X_train, y_train)\n",
    "pipe_knc.fit(X_train, y_train)\n",
    "pipe_svm.fit(X_train, y_train)\n",
    "pipe_rcf.fit(X_train, y_train)"
   ]
  },
  {
   "cell_type": "markdown",
   "id": "95939fcc-cd59-4f7e-97cd-ec375cbe5922",
   "metadata": {},
   "source": [
    "### Prediction (ให้ model ลองเดาค่า y_test จาก X_test และ f(X) ที่เคยเรียนไปตอน Training)"
   ]
  },
  {
   "cell_type": "code",
   "execution_count": 63,
   "id": "5227db28-5dcb-44cb-94c9-d831ba97e3af",
   "metadata": {},
   "outputs": [],
   "source": [
    "y_pred = pipe.predict(X_test)\n",
    "y_pred_lr = pipe_lr.predict(X_test)\n",
    "y_pred_knc = pipe_knc.predict(X_test)\n",
    "y_pred_svm = pipe_svm.predict(X_test)\n",
    "y_pred_rcf = pipe_rcf.predict(X_test)"
   ]
  },
  {
   "cell_type": "code",
   "execution_count": 64,
   "id": "f195fdf5-dc49-4766-9816-9ee934a7d618",
   "metadata": {},
   "outputs": [
    {
     "data": {
      "text/html": [
       "<div>\n",
       "<style scoped>\n",
       "    .dataframe tbody tr th:only-of-type {\n",
       "        vertical-align: middle;\n",
       "    }\n",
       "\n",
       "    .dataframe tbody tr th {\n",
       "        vertical-align: top;\n",
       "    }\n",
       "\n",
       "    .dataframe thead th {\n",
       "        text-align: right;\n",
       "    }\n",
       "</style>\n",
       "<table border=\"1\" class=\"dataframe\">\n",
       "  <thead>\n",
       "    <tr style=\"text-align: right;\">\n",
       "      <th></th>\n",
       "      <th>y_pred_lr</th>\n",
       "      <th>y_pred_knc</th>\n",
       "      <th>y_pred_svm</th>\n",
       "      <th>y_pred_rcf</th>\n",
       "    </tr>\n",
       "  </thead>\n",
       "  <tbody>\n",
       "    <tr>\n",
       "      <th>0</th>\n",
       "      <td>1</td>\n",
       "      <td>1</td>\n",
       "      <td>1</td>\n",
       "      <td>1</td>\n",
       "    </tr>\n",
       "    <tr>\n",
       "      <th>1</th>\n",
       "      <td>1</td>\n",
       "      <td>1</td>\n",
       "      <td>1</td>\n",
       "      <td>1</td>\n",
       "    </tr>\n",
       "    <tr>\n",
       "      <th>2</th>\n",
       "      <td>1</td>\n",
       "      <td>1</td>\n",
       "      <td>1</td>\n",
       "      <td>1</td>\n",
       "    </tr>\n",
       "    <tr>\n",
       "      <th>3</th>\n",
       "      <td>1</td>\n",
       "      <td>1</td>\n",
       "      <td>1</td>\n",
       "      <td>1</td>\n",
       "    </tr>\n",
       "    <tr>\n",
       "      <th>4</th>\n",
       "      <td>1</td>\n",
       "      <td>1</td>\n",
       "      <td>1</td>\n",
       "      <td>1</td>\n",
       "    </tr>\n",
       "    <tr>\n",
       "      <th>...</th>\n",
       "      <td>...</td>\n",
       "      <td>...</td>\n",
       "      <td>...</td>\n",
       "      <td>...</td>\n",
       "    </tr>\n",
       "    <tr>\n",
       "      <th>289</th>\n",
       "      <td>1</td>\n",
       "      <td>1</td>\n",
       "      <td>1</td>\n",
       "      <td>1</td>\n",
       "    </tr>\n",
       "    <tr>\n",
       "      <th>290</th>\n",
       "      <td>1</td>\n",
       "      <td>1</td>\n",
       "      <td>1</td>\n",
       "      <td>1</td>\n",
       "    </tr>\n",
       "    <tr>\n",
       "      <th>291</th>\n",
       "      <td>1</td>\n",
       "      <td>1</td>\n",
       "      <td>1</td>\n",
       "      <td>1</td>\n",
       "    </tr>\n",
       "    <tr>\n",
       "      <th>292</th>\n",
       "      <td>1</td>\n",
       "      <td>1</td>\n",
       "      <td>1</td>\n",
       "      <td>1</td>\n",
       "    </tr>\n",
       "    <tr>\n",
       "      <th>293</th>\n",
       "      <td>1</td>\n",
       "      <td>0</td>\n",
       "      <td>1</td>\n",
       "      <td>1</td>\n",
       "    </tr>\n",
       "  </tbody>\n",
       "</table>\n",
       "<p>294 rows × 4 columns</p>\n",
       "</div>"
      ],
      "text/plain": [
       "     y_pred_lr  y_pred_knc  y_pred_svm  y_pred_rcf\n",
       "0            1           1           1           1\n",
       "1            1           1           1           1\n",
       "2            1           1           1           1\n",
       "3            1           1           1           1\n",
       "4            1           1           1           1\n",
       "..         ...         ...         ...         ...\n",
       "289          1           1           1           1\n",
       "290          1           1           1           1\n",
       "291          1           1           1           1\n",
       "292          1           1           1           1\n",
       "293          1           0           1           1\n",
       "\n",
       "[294 rows x 4 columns]"
      ]
     },
     "execution_count": 64,
     "metadata": {},
     "output_type": "execute_result"
    }
   ],
   "source": [
    "N225_answer = pd.DataFrame()\n",
    "N225_answer['y_pred_lr'] = y_pred_lr\n",
    "N225_answer['y_pred_knc'] = y_pred_knc\n",
    "N225_answer['y_pred_svm'] = y_pred_svm\n",
    "N225_answer['y_pred_rcf'] = y_pred_rcf\n",
    "N225_answer"
   ]
  },
  {
   "cell_type": "markdown",
   "id": "8c214b92-837c-4fe3-a1ab-6fe32d80c52c",
   "metadata": {
    "tags": []
   },
   "source": [
    "### Evaluation (วัดประสิทธิภาพของ model จากค่า Accuracy Score และ Confusion Matrix)"
   ]
  },
  {
   "cell_type": "code",
   "execution_count": 65,
   "id": "85bfd010-768e-4de5-b7a3-2e84d02873cc",
   "metadata": {},
   "outputs": [
    {
     "name": "stdout",
     "output_type": "stream",
     "text": [
      "Voting\n",
      "[[  0 134]\n",
      " [  0 160]]\n",
      "Accuracy Score: 0.54421768707483\n",
      "lr\n",
      "[[  0 134]\n",
      " [  0 160]]\n",
      "Accuracy Score: 0.54421768707483\n",
      "knc\n",
      "[[  6 128]\n",
      " [  8 152]]\n",
      "Accuracy Score: 0.5374149659863946\n",
      "svm\n",
      "[[  0 134]\n",
      " [  0 160]]\n",
      "Accuracy Score: 0.54421768707483\n",
      "rcf\n",
      "[[  0 134]\n",
      " [  0 160]]\n",
      "Accuracy Score: 0.54421768707483\n",
      "0.5380291246933556\n"
     ]
    }
   ],
   "source": [
    "from sklearn.model_selection import cross_val_score \n",
    "from sklearn.metrics import confusion_matrix\n",
    "from sklearn.metrics import plot_confusion_matrix\n",
    "from sklearn import metrics\n",
    "\n",
    "# print('Voting')\n",
    "# print(pipe.score(X_test, y_test))\n",
    "# print('lr')\n",
    "# print(pipe_lr.score(X_test, y_test))\n",
    "# print('knc')\n",
    "# print(pipe_knc.score(X_test, y_test))\n",
    "# print('svm')\n",
    "# print(pipe_svm.score(X_test, y_test))\n",
    "# print('rcf')\n",
    "# print(pipe_rcf.score(X_test, y_test))\n",
    "\n",
    "cm = confusion_matrix(y_test, y_pred)\n",
    "print('Voting')\n",
    "print(cm)\n",
    "print('Accuracy Score:', metrics.accuracy_score(y_test, y_pred))\n",
    "\n",
    "# disp = plot_confusion_matrix(pipe, X_test, y_test)\n",
    "# plt.show()\n",
    "\n",
    "cm_lr = confusion_matrix(y_test, y_pred_lr)\n",
    "print('lr')\n",
    "print(cm_lr)\n",
    "print('Accuracy Score:', metrics.accuracy_score(y_test, y_pred_lr))\n",
    "\n",
    "cm_knc = confusion_matrix(y_test, y_pred_knc)\n",
    "print('knc')\n",
    "print(cm_knc)\n",
    "print('Accuracy Score:', metrics.accuracy_score(y_test, y_pred_knc))\n",
    "\n",
    "cm_svm = confusion_matrix(y_test, y_pred_svm)\n",
    "print('svm')\n",
    "print(cm_svm)\n",
    "print('Accuracy Score:', metrics.accuracy_score(y_test, y_pred_svm))\n",
    "\n",
    "cm_rcf = confusion_matrix(y_test, y_pred)\n",
    "print('rcf')\n",
    "print(cm_rcf)\n",
    "print('Accuracy Score:', metrics.accuracy_score(y_test, y_pred_rcf))\n",
    "\n",
    "# pipe.named_steps.rfe.ranking_\n",
    "\n",
    "# CV mean score\n",
    "print(cross_val_score(pipe_rcf, X, y, cv=5 ,scoring='accuracy').mean())\n"
   ]
  },
  {
   "cell_type": "markdown",
   "id": "13fd605c-913c-47e5-b931-a8b237a2b8f9",
   "metadata": {
    "tags": []
   },
   "source": [
    " ## __<font color=green> Parameter Tuning </font>__ "
   ]
  },
  {
   "cell_type": "code",
   "execution_count": 66,
   "id": "43c3e66a-bbbc-4ecf-9a45-376c3bc9dce9",
   "metadata": {},
   "outputs": [
    {
     "name": "stdout",
     "output_type": "stream",
     "text": [
      "{}\n"
     ]
    },
    {
     "data": {
      "text/plain": [
       "0.5380291246933556"
      ]
     },
     "execution_count": 66,
     "metadata": {},
     "output_type": "execute_result"
    }
   ],
   "source": [
    "\n",
    "from sklearn.model_selection import GridSearchCV, RandomizedSearchCV\n",
    "\n",
    "params = {}\n",
    "# params = {'voting': ['hard', 'soft'],\n",
    "#          'weights': [(1, 1, 1, 1), (2, 1 ,1 ,1), (1, 2, 1, 1)]}\n",
    "# params['columntransformer__pipeline__simpleimputer__add_indicator'] = [False, True]\n",
    "# params['columntransformer__pipeline__simpleimputer__strategy'] = ['mean', 'median', 'most_frequent', 'constant']\n",
    "# params['logisticregression__C'] = [0.1, 1, 10]\n",
    "# params['logisticregression__penalty'] = ['l1', 'l2']\n",
    "# params['logisticregression__solver'] = ['sag', 'saga']\n",
    "# params['kneighborsclassifier__n_neighbors'] = [510, 500, 560]\n",
    "# params['kneighborsclassifier__leaf_size'] = [30, 20, 50, 10]\n",
    "# params['kneighborsclassifier__p'] = [9, 10, 11 ]\n",
    "# params['kneighborsclassifier__weights'] = ['distance', 'uniform']\n",
    "# params['kneighborsclassifier__algorithm'] = ['auto', 'brute', 'ball_tree' ]\n",
    "# params['svc__C'] = [0.1, 0.2, 0.3]\n",
    "# params['svc__degree'] = [3, 6, 9, 12]\n",
    "# params['svc__kernel'] = ['linear', 'poly', 'rbf', 'sigmoid', 'precomputed']\n",
    "# params['svc__gamma'] = ['scale', 'auto']\n",
    "# params['ridgeclassifier__alpha'] = [1, 20, 33, 35, 37, 40]\n",
    "# params['ridgeclassifier__solver'] = ['auto', 'svd', 'cholesky', 'lsqr', 'sparse_cg', 'sag', 'saga', 'lbfgs']\n",
    "# params['ridgeclassifier__fit_intercept'] = [True, False]\n",
    "# params['ridgeclassifier__normalize'] = [True, False]\n",
    "# params['ridgeclassifier__copy_X'] = [True, False]\n",
    "# params['ridgeclassifier__positive'] = [True, False]\n",
    "# params['votingclassifier__voting'] = ['hard', 'soft']\n",
    "# params['votingclassifier__weights'] = [(1, 1, 1, 1), (2, 1 ,1 ,1), (1, 2, 1, 1), (2, 2, 1, 1)]\n",
    "\n",
    "grid = GridSearchCV(pipe_rcf, params, cv=5, scoring='accuracy')\n",
    "grid.fit(X, y)\n",
    "print(grid.best_params_)\n",
    "grid.best_score_\n",
    "\n",
    "# rand = RandomizedSearchCV(pipe_rfr, params, cv=5, n_iter=10, scoring='r2')\n",
    "# rand.fit(X, y)\n",
    "# print(rand.best_params_)\n",
    "# rand.best_score_\n",
    "\n",
    "# 0.5417380247231522"
   ]
  },
  {
   "cell_type": "markdown",
   "id": "73e4fb63-045c-4cea-a0f8-34834e07334f",
   "metadata": {
    "tags": []
   },
   "source": [
    " ## __<font color=green> Regression </font>__"
   ]
  },
  {
   "cell_type": "markdown",
   "id": "d1a5a6ed-2917-4f2f-88fa-fba0730492f6",
   "metadata": {
    "tags": []
   },
   "source": [
    "### Preprocessing data (เตรียมข้อมูลก่อนนำไปใช้ ตย.แก้ข้อมูล NaN, ปรับสัดส่วนข้อมูล/Scaling)"
   ]
  },
  {
   "cell_type": "code",
   "execution_count": 68,
   "id": "64df5bb3-13bb-4093-80e3-bfc308567529",
   "metadata": {},
   "outputs": [],
   "source": [
    "temp = df.dropna().copy()\n",
    "\n",
    "generateYRegression(temp)\n",
    "\n",
    "temp['Y_Reg'].iloc[-1] = np.mean(temp['Y_Reg'].iloc[-15:])\n",
    "\n",
    "X = temp.iloc[:, 6:-2]\n",
    "y = temp.loc[:, 'Y_Reg']\n",
    "X_N = temp.iloc[:, 6:-2]\n",
    "y_N = temp.loc[:, 'Y_Reg']\n",
    "\n",
    "from sklearn.impute import SimpleImputer\n",
    "from sklearn.preprocessing import StandardScaler, MinMaxScaler\n",
    "from sklearn.compose import make_column_selector, make_column_transformer\n",
    "from sklearn.pipeline import make_pipeline\n",
    "\n",
    "imp = SimpleImputer(strategy='mean', add_indicator=False)\n",
    "scaler = MinMaxScaler()\n",
    "\n",
    "num_cols = make_column_selector(dtype_include='number')\n",
    "\n",
    "preprocessor = make_column_transformer((make_pipeline(imp, scaler), num_cols))"
   ]
  },
  {
   "cell_type": "markdown",
   "id": "c2e91881-ce6d-4030-a589-8e1582b60218",
   "metadata": {
    "tags": []
   },
   "source": [
    "### Create Models (สร้าง Models)"
   ]
  },
  {
   "cell_type": "code",
   "execution_count": 69,
   "id": "daffe9f9-75b3-46bb-9de2-70f164eeed29",
   "metadata": {},
   "outputs": [],
   "source": [
    "from sklearn.ensemble import RandomForestRegressor\n",
    "from sklearn.svm import SVR\n",
    "from sklearn.ensemble import VotingRegressor\n",
    "\n",
    "rfr = RandomForestRegressor(n_estimators=250, criterion='absolute_error', max_features=7, min_samples_leaf=6, min_samples_split=3, random_state=0)\n",
    "svr = SVR(degree=3, kernel='linear', gamma='scale', C=12.5, coef0=0)\n",
    "vr = VotingRegressor([('reg1', rfr), ('reg2', svr)],  weights=(1, 2))"
   ]
  },
  {
   "cell_type": "markdown",
   "id": "1f7fbce4-7941-4974-b233-a3b440aa97a0",
   "metadata": {
    "tags": []
   },
   "source": [
    "### Features Selection (เลือก Features ที่จะใช้เป็น X)"
   ]
  },
  {
   "cell_type": "code",
   "execution_count": 70,
   "id": "dff5927d-53cd-4321-a44e-882f4d3b5ddc",
   "metadata": {},
   "outputs": [],
   "source": [
    "from sklearn.feature_selection import RFE\n",
    "# RFE(modelที่ใช้เลือก, จำนวน Features ที่จะให้เลือก=N)\n",
    "rfe = RFE(svr, n_features_to_select=10)"
   ]
  },
  {
   "cell_type": "markdown",
   "id": "2891cb81-a95a-4cfa-87e6-cd8b0efde8a1",
   "metadata": {
    "tags": []
   },
   "source": [
    "### Splitting data & Training model (แบ่งข้อมูลเป็นส่วนที่ให้ model เรียน กะส่วนที่ให้ model ลองตอบ/ลองเดา)"
   ]
  },
  {
   "cell_type": "code",
   "execution_count": 71,
   "id": "b9b0f158-0a4e-431c-8256-4b1dd15a61b3",
   "metadata": {},
   "outputs": [
    {
     "data": {
      "text/html": [
       "<style>#sk-8aed54fd-15eb-40c7-96ca-2bb32446048e {color: black;background-color: white;}#sk-8aed54fd-15eb-40c7-96ca-2bb32446048e pre{padding: 0;}#sk-8aed54fd-15eb-40c7-96ca-2bb32446048e div.sk-toggleable {background-color: white;}#sk-8aed54fd-15eb-40c7-96ca-2bb32446048e label.sk-toggleable__label {cursor: pointer;display: block;width: 100%;margin-bottom: 0;padding: 0.3em;box-sizing: border-box;text-align: center;}#sk-8aed54fd-15eb-40c7-96ca-2bb32446048e div.sk-toggleable__content {max-height: 0;max-width: 0;overflow: hidden;text-align: left;background-color: #f0f8ff;}#sk-8aed54fd-15eb-40c7-96ca-2bb32446048e div.sk-toggleable__content pre {margin: 0.2em;color: black;border-radius: 0.25em;background-color: #f0f8ff;}#sk-8aed54fd-15eb-40c7-96ca-2bb32446048e input.sk-toggleable__control:checked~div.sk-toggleable__content {max-height: 200px;max-width: 100%;overflow: auto;}#sk-8aed54fd-15eb-40c7-96ca-2bb32446048e div.sk-estimator input.sk-toggleable__control:checked~label.sk-toggleable__label {background-color: #d4ebff;}#sk-8aed54fd-15eb-40c7-96ca-2bb32446048e div.sk-label input.sk-toggleable__control:checked~label.sk-toggleable__label {background-color: #d4ebff;}#sk-8aed54fd-15eb-40c7-96ca-2bb32446048e input.sk-hidden--visually {border: 0;clip: rect(1px 1px 1px 1px);clip: rect(1px, 1px, 1px, 1px);height: 1px;margin: -1px;overflow: hidden;padding: 0;position: absolute;width: 1px;}#sk-8aed54fd-15eb-40c7-96ca-2bb32446048e div.sk-estimator {font-family: monospace;background-color: #f0f8ff;border: 1px dotted black;border-radius: 0.25em;box-sizing: border-box;margin-bottom: 0.5em;}#sk-8aed54fd-15eb-40c7-96ca-2bb32446048e div.sk-estimator:hover {background-color: #d4ebff;}#sk-8aed54fd-15eb-40c7-96ca-2bb32446048e div.sk-parallel-item::after {content: \"\";width: 100%;border-bottom: 1px solid gray;flex-grow: 1;}#sk-8aed54fd-15eb-40c7-96ca-2bb32446048e div.sk-label:hover label.sk-toggleable__label {background-color: #d4ebff;}#sk-8aed54fd-15eb-40c7-96ca-2bb32446048e div.sk-serial::before {content: \"\";position: absolute;border-left: 1px solid gray;box-sizing: border-box;top: 2em;bottom: 0;left: 50%;}#sk-8aed54fd-15eb-40c7-96ca-2bb32446048e div.sk-serial {display: flex;flex-direction: column;align-items: center;background-color: white;padding-right: 0.2em;padding-left: 0.2em;}#sk-8aed54fd-15eb-40c7-96ca-2bb32446048e div.sk-item {z-index: 1;}#sk-8aed54fd-15eb-40c7-96ca-2bb32446048e div.sk-parallel {display: flex;align-items: stretch;justify-content: center;background-color: white;}#sk-8aed54fd-15eb-40c7-96ca-2bb32446048e div.sk-parallel::before {content: \"\";position: absolute;border-left: 1px solid gray;box-sizing: border-box;top: 2em;bottom: 0;left: 50%;}#sk-8aed54fd-15eb-40c7-96ca-2bb32446048e div.sk-parallel-item {display: flex;flex-direction: column;position: relative;background-color: white;}#sk-8aed54fd-15eb-40c7-96ca-2bb32446048e div.sk-parallel-item:first-child::after {align-self: flex-end;width: 50%;}#sk-8aed54fd-15eb-40c7-96ca-2bb32446048e div.sk-parallel-item:last-child::after {align-self: flex-start;width: 50%;}#sk-8aed54fd-15eb-40c7-96ca-2bb32446048e div.sk-parallel-item:only-child::after {width: 0;}#sk-8aed54fd-15eb-40c7-96ca-2bb32446048e div.sk-dashed-wrapped {border: 1px dashed gray;margin: 0 0.4em 0.5em 0.4em;box-sizing: border-box;padding-bottom: 0.4em;background-color: white;position: relative;}#sk-8aed54fd-15eb-40c7-96ca-2bb32446048e div.sk-label label {font-family: monospace;font-weight: bold;background-color: white;display: inline-block;line-height: 1.2em;}#sk-8aed54fd-15eb-40c7-96ca-2bb32446048e div.sk-label-container {position: relative;z-index: 2;text-align: center;}#sk-8aed54fd-15eb-40c7-96ca-2bb32446048e div.sk-container {display: inline-block;position: relative;}</style><div id=\"sk-8aed54fd-15eb-40c7-96ca-2bb32446048e\" class\"sk-top-container\"><div class=\"sk-container\"><div class=\"sk-item sk-dashed-wrapped\"><div class=\"sk-label-container\"><div class=\"sk-label sk-toggleable\"><input class=\"sk-toggleable__control sk-hidden--visually\" id=\"6cf55954-77e8-485a-923d-7b174b203689\" type=\"checkbox\" ><label class=\"sk-toggleable__label\" for=\"6cf55954-77e8-485a-923d-7b174b203689\">Pipeline</label><div class=\"sk-toggleable__content\"><pre>Pipeline(steps=[('columntransformer',\n",
       "                 ColumnTransformer(transformers=[('pipeline',\n",
       "                                                  Pipeline(steps=[('simpleimputer',\n",
       "                                                                   SimpleImputer()),\n",
       "                                                                  ('minmaxscaler',\n",
       "                                                                   MinMaxScaler())]),\n",
       "                                                  <sklearn.compose._column_transformer.make_column_selector object at 0x000001D52A3EDF70>)])),\n",
       "                ('rfe',\n",
       "                 RFE(estimator=SVR(C=12.5, coef0=0, kernel='linear'),\n",
       "                     n_features_to_select=10)),\n",
       "                ('votingregressor',\n",
       "                 VotingRegressor(estimators=[('reg1',\n",
       "                                              RandomForestRegressor(criterion='absolute_error',\n",
       "                                                                    max_features=7,\n",
       "                                                                    min_samples_leaf=6,\n",
       "                                                                    min_samples_split=3,\n",
       "                                                                    n_estimators=250,\n",
       "                                                                    random_state=0)),\n",
       "                                             ('reg2',\n",
       "                                              SVR(C=12.5, coef0=0,\n",
       "                                                  kernel='linear'))],\n",
       "                                 weights=(1, 2)))])</pre></div></div></div><div class=\"sk-serial\"><div class=\"sk-item sk-dashed-wrapped\"><div class=\"sk-label-container\"><div class=\"sk-label sk-toggleable\"><input class=\"sk-toggleable__control sk-hidden--visually\" id=\"c68db1b4-056b-4da2-ade8-069f7193fee6\" type=\"checkbox\" ><label class=\"sk-toggleable__label\" for=\"c68db1b4-056b-4da2-ade8-069f7193fee6\">columntransformer: ColumnTransformer</label><div class=\"sk-toggleable__content\"><pre>ColumnTransformer(transformers=[('pipeline',\n",
       "                                 Pipeline(steps=[('simpleimputer',\n",
       "                                                  SimpleImputer()),\n",
       "                                                 ('minmaxscaler',\n",
       "                                                  MinMaxScaler())]),\n",
       "                                 <sklearn.compose._column_transformer.make_column_selector object at 0x000001D52A3EDF70>)])</pre></div></div></div><div class=\"sk-parallel\"><div class=\"sk-parallel-item\"><div class=\"sk-item\"><div class=\"sk-label-container\"><div class=\"sk-label sk-toggleable\"><input class=\"sk-toggleable__control sk-hidden--visually\" id=\"da820678-0409-4b0f-b7b6-5dadf535ef02\" type=\"checkbox\" ><label class=\"sk-toggleable__label\" for=\"da820678-0409-4b0f-b7b6-5dadf535ef02\">pipeline</label><div class=\"sk-toggleable__content\"><pre><sklearn.compose._column_transformer.make_column_selector object at 0x000001D52A3EDF70></pre></div></div></div><div class=\"sk-serial\"><div class=\"sk-item\"><div class=\"sk-serial\"><div class=\"sk-item\"><div class=\"sk-estimator sk-toggleable\"><input class=\"sk-toggleable__control sk-hidden--visually\" id=\"9c924648-b7d4-49f1-ae53-31aaa02104c8\" type=\"checkbox\" ><label class=\"sk-toggleable__label\" for=\"9c924648-b7d4-49f1-ae53-31aaa02104c8\">SimpleImputer</label><div class=\"sk-toggleable__content\"><pre>SimpleImputer()</pre></div></div></div><div class=\"sk-item\"><div class=\"sk-estimator sk-toggleable\"><input class=\"sk-toggleable__control sk-hidden--visually\" id=\"c8e5361c-53f6-46dd-ad03-5853e00a7962\" type=\"checkbox\" ><label class=\"sk-toggleable__label\" for=\"c8e5361c-53f6-46dd-ad03-5853e00a7962\">MinMaxScaler</label><div class=\"sk-toggleable__content\"><pre>MinMaxScaler()</pre></div></div></div></div></div></div></div></div></div></div><div class=\"sk-item sk-dashed-wrapped\"><div class=\"sk-label-container\"><div class=\"sk-label sk-toggleable\"><input class=\"sk-toggleable__control sk-hidden--visually\" id=\"6a83f8b8-457c-4397-9477-e89b1b5e7209\" type=\"checkbox\" ><label class=\"sk-toggleable__label\" for=\"6a83f8b8-457c-4397-9477-e89b1b5e7209\">rfe: RFE</label><div class=\"sk-toggleable__content\"><pre>RFE(estimator=SVR(C=12.5, coef0=0, kernel='linear'), n_features_to_select=10)</pre></div></div></div><div class=\"sk-parallel\"><div class=\"sk-parallel-item\"><div class=\"sk-item\"><div class=\"sk-serial\"><div class=\"sk-item\"><div class=\"sk-estimator sk-toggleable\"><input class=\"sk-toggleable__control sk-hidden--visually\" id=\"abdac7b9-8ed0-4b51-b77a-91ce06b5ad8b\" type=\"checkbox\" ><label class=\"sk-toggleable__label\" for=\"abdac7b9-8ed0-4b51-b77a-91ce06b5ad8b\">SVR</label><div class=\"sk-toggleable__content\"><pre>SVR(C=12.5, coef0=0, kernel='linear')</pre></div></div></div></div></div></div></div></div><div class=\"sk-item sk-dashed-wrapped\"><div class=\"sk-label-container\"><div class=\"sk-label sk-toggleable\"><input class=\"sk-toggleable__control sk-hidden--visually\" id=\"b8091b17-16b4-4a8d-90c8-c288ced4442e\" type=\"checkbox\" ><label class=\"sk-toggleable__label\" for=\"b8091b17-16b4-4a8d-90c8-c288ced4442e\">votingregressor: VotingRegressor</label><div class=\"sk-toggleable__content\"><pre>VotingRegressor(estimators=[('reg1',\n",
       "                             RandomForestRegressor(criterion='absolute_error',\n",
       "                                                   max_features=7,\n",
       "                                                   min_samples_leaf=6,\n",
       "                                                   min_samples_split=3,\n",
       "                                                   n_estimators=250,\n",
       "                                                   random_state=0)),\n",
       "                            ('reg2', SVR(C=12.5, coef0=0, kernel='linear'))],\n",
       "                weights=(1, 2))</pre></div></div></div><div class=\"sk-parallel\"><div class=\"sk-parallel-item\"><div class=\"sk-item\"><div class=\"sk-label-container\"><div class=\"sk-label sk-toggleable\"><label>reg1</label></div></div><div class=\"sk-serial\"><div class=\"sk-item\"><div class=\"sk-estimator sk-toggleable\"><input class=\"sk-toggleable__control sk-hidden--visually\" id=\"db51414f-761b-48d3-9a7d-705620df2004\" type=\"checkbox\" ><label class=\"sk-toggleable__label\" for=\"db51414f-761b-48d3-9a7d-705620df2004\">RandomForestRegressor</label><div class=\"sk-toggleable__content\"><pre>RandomForestRegressor(criterion='absolute_error', max_features=7,\n",
       "                      min_samples_leaf=6, min_samples_split=3, n_estimators=250,\n",
       "                      random_state=0)</pre></div></div></div></div></div></div><div class=\"sk-parallel-item\"><div class=\"sk-item\"><div class=\"sk-label-container\"><div class=\"sk-label sk-toggleable\"><label>reg2</label></div></div><div class=\"sk-serial\"><div class=\"sk-item\"><div class=\"sk-estimator sk-toggleable\"><input class=\"sk-toggleable__control sk-hidden--visually\" id=\"cae8a48e-8f06-4019-8967-445525a7cc77\" type=\"checkbox\" ><label class=\"sk-toggleable__label\" for=\"cae8a48e-8f06-4019-8967-445525a7cc77\">SVR</label><div class=\"sk-toggleable__content\"><pre>SVR(C=12.5, coef0=0, kernel='linear')</pre></div></div></div></div></div></div></div></div></div></div></div></div>"
      ],
      "text/plain": [
       "Pipeline(steps=[('columntransformer',\n",
       "                 ColumnTransformer(transformers=[('pipeline',\n",
       "                                                  Pipeline(steps=[('simpleimputer',\n",
       "                                                                   SimpleImputer()),\n",
       "                                                                  ('minmaxscaler',\n",
       "                                                                   MinMaxScaler())]),\n",
       "                                                  <sklearn.compose._column_transformer.make_column_selector object at 0x000001D52A3EDF70>)])),\n",
       "                ('rfe',\n",
       "                 RFE(estimator=SVR(C=12.5, coef0=0, kernel='linear'),\n",
       "                     n_features_to_select=10)),\n",
       "                ('votingregressor',\n",
       "                 VotingRegressor(estimators=[('reg1',\n",
       "                                              RandomForestRegressor(criterion='absolute_error',\n",
       "                                                                    max_features=7,\n",
       "                                                                    min_samples_leaf=6,\n",
       "                                                                    min_samples_split=3,\n",
       "                                                                    n_estimators=250,\n",
       "                                                                    random_state=0)),\n",
       "                                             ('reg2',\n",
       "                                              SVR(C=12.5, coef0=0,\n",
       "                                                  kernel='linear'))],\n",
       "                                 weights=(1, 2)))])"
      ]
     },
     "execution_count": 71,
     "metadata": {},
     "output_type": "execute_result"
    }
   ],
   "source": [
    "from sklearn.model_selection import train_test_split\n",
    "\n",
    "pipe_rfr = make_pipeline(preprocessor, rfe, rfr)\n",
    "pipe_svr = make_pipeline(preprocessor, rfe, svr)\n",
    "pipe_vr = make_pipeline(preprocessor, rfe, vr)\n",
    "\n",
    "X_train, X_test, y_train, y_test = train_test_split(X, y, test_size=0.15, random_state=0, shuffle=False)\n",
    " \n",
    "pipe_rfr.fit(X_train, y_train)\n",
    "pipe_svr.fit(X_train, y_train)\n",
    "pipe_vr.fit(X_train, y_train)"
   ]
  },
  {
   "cell_type": "markdown",
   "id": "10c3d739-4c2f-49c3-a5c9-79ba9aa628cf",
   "metadata": {
    "tags": []
   },
   "source": [
    "### Prediction (ให้ model ลองเดาค่า y_test จาก X_test และ f(X) ที่เคยเรียนไปต้อน Training)"
   ]
  },
  {
   "cell_type": "code",
   "execution_count": 72,
   "id": "f04aa54e-bdfd-4f78-84cb-1399f4f035f2",
   "metadata": {},
   "outputs": [],
   "source": [
    "y_pred_rfr = pipe_rfr.predict(X_test)\n",
    "y_pred_svr = pipe_svr.predict(X_test)\n",
    "y_pred_vr = pipe_vr.predict(X_test)"
   ]
  },
  {
   "cell_type": "markdown",
   "id": "8cf37584-46d9-469c-93b3-2910b7c510c6",
   "metadata": {
    "tags": []
   },
   "source": [
    "### Evaluation (วัดประสิทธิภาพของ model จากค่า RMSE, R2 score, Accuracy Score และ Confusion Matrix)"
   ]
  },
  {
   "cell_type": "code",
   "execution_count": 73,
   "id": "079414ca-b611-45fa-824c-be88977328f3",
   "metadata": {},
   "outputs": [
    {
     "data": {
      "image/png": "[encoded data removed]",
      "text/plain": [
       "<Figure size 432x288 with 1 Axes>"
      ]
     },
     "metadata": {},
     "output_type": "display_data"
    },
    {
     "name": "stdout",
     "output_type": "stream",
     "text": [
      "RMSE:      1103.4707543912916\n",
      "R2 score:  -0.24875801448709556\n",
      "[[102  16]\n",
      " [ 18 128]]\n",
      "Accuracy Score: 0.8712121212121212\n"
     ]
    },
    {
     "data": {
      "image/png": "[encoded data removed]",
      "text/plain": [
       "<Figure size 432x288 with 1 Axes>"
      ]
     },
     "metadata": {},
     "output_type": "display_data"
    },
    {
     "name": "stdout",
     "output_type": "stream",
     "text": [
      "RMSE:      633.5243878300541\n",
      "R2 score:  0.5883924715782439\n",
      "[[111   7]\n",
      " [ 10 136]]\n",
      "Accuracy Score: 0.9356060606060606\n"
     ]
    },
    {
     "data": {
      "image/png": "[encoded data removed]",
      "text/plain": [
       "<Figure size 432x288 with 1 Axes>"
      ]
     },
     "metadata": {},
     "output_type": "display_data"
    },
    {
     "name": "stdout",
     "output_type": "stream",
     "text": [
      "RMSE:      525.7944854611967\n",
      "R2 score:  0.7164767441224136\n",
      "[[108  10]\n",
      " [  9 137]]\n",
      "Accuracy Score: 0.928030303030303\n"
     ]
    }
   ],
   "source": [
    "from sklearn import metrics\n",
    "from sklearn.metrics import mean_squared_error, r2_score\n",
    "from sklearn.metrics import confusion_matrix\n",
    "\n",
    "X_test_len = len(X_test)\n",
    "\n",
    "# y_test_scaled = scaler.fit_transform(y_test)\n",
    "plt.plot(range(X_test_len), y_test)\n",
    "plt.plot(range(X_test_len), y_pred_rfr,'r');\n",
    "plt.show()\n",
    "\n",
    "rmse = mean_squared_error(y_test, y_pred_rfr, squared=False)\n",
    "r2 = r2_score(y_test, y_pred_rfr)\n",
    "\n",
    "print('RMSE:     ', rmse)  # Root mean squared error\n",
    "print('R2 score: ', r2)\n",
    "\n",
    "pred_len = len(y_pred_rfr)\n",
    "test_rfr = pd.DataFrame(data=y_pred_rfr, columns=['y_pred'])\n",
    "test_rfr['y_pred'] = y_pred_rfr\n",
    "\n",
    "test_rfr['Real'] = temp.iloc[-pred_len:, -2].values\n",
    "\n",
    "generateUpDown2(test_rfr)\n",
    "\n",
    "cm = confusion_matrix(test_rfr['Real'], test_rfr['Forecast'])\n",
    "print(cm)\n",
    "print('Accuracy Score:', metrics.accuracy_score(test_rfr['Real'], test_rfr['Forecast']))\n",
    "\n",
    "# ***SVR***\n",
    "\n",
    "plt.plot(range(X_test_len), y_test)\n",
    "plt.plot(range(X_test_len), y_pred_svr,'r');\n",
    "plt.show()\n",
    "\n",
    "rmse_svr = mean_squared_error(y_test, y_pred_svr, squared=False)\n",
    "r2_svr = r2_score(y_test, y_pred_svr)\n",
    "\n",
    "print('RMSE:     ', rmse_svr)  # Root mean squared error\n",
    "print('R2 score: ', r2_svr)\n",
    "\n",
    "pred_len = len(y_pred_svr)\n",
    "test_svr = pd.DataFrame(data=y_pred_svr, columns=['y_pred'])\n",
    "test_svr['y_pred'] = y_pred_svr\n",
    "test_svr['Real'] = temp.iloc[-pred_len:, -2].values\n",
    "\n",
    "generateUpDown2(test_svr)\n",
    "\n",
    "cm_svr = confusion_matrix(test_svr['Real'], test_svr['Forecast'])\n",
    "print(cm_svr)\n",
    "print('Accuracy Score:', metrics.accuracy_score(test_svr['Real'], test_svr['Forecast']))\n",
    "\n",
    "# ***Voting regessor***\n",
    "\n",
    "plt.plot(range(X_test_len), y_test)\n",
    "plt.plot(range(X_test_len), y_pred_vr,'r');\n",
    "plt.show()\n",
    "\n",
    "rmse = mean_squared_error(y_test, y_pred_vr, squared=False)\n",
    "r2 = r2_score(y_test, y_pred_vr)\n",
    "\n",
    "print('RMSE:     ', rmse)  # Root mean squared error\n",
    "print('R2 score: ', r2)\n",
    "\n",
    "pred_len2 = len(y_pred_vr)\n",
    "test = pd.DataFrame(data=y_pred_vr, columns=['y_pred'])\n",
    "test['y_pred'] = y_pred_vr\n",
    "test['Real'] = temp.iloc[-pred_len2:, -2].values\n",
    "\n",
    "generateUpDown2(test)\n",
    "\n",
    "cm = confusion_matrix(test['Real'], test['Forecast'])\n",
    "print(cm)\n",
    "print('Accuracy Score:', metrics.accuracy_score(test['Real'], test['Forecast']))\n",
    "\n",
    "# --------------------------------------------------------------------------------------------------------------------------------------------------\n",
    "\n",
    "# # ***TRY REAL DATA*** \n",
    "\n",
    "# True_predict = pdr.get_data_yahoo(\"^N225\", start=\"2020-11-01\", end=\"2021-11-25\")\n",
    "\n",
    "# close = True_predict['Close']\n",
    "\n",
    "# True_predict['EMA50'] = talib.MA(close, timeperiod=50, matype=0)\n",
    "\n",
    "# True_predict_drop = True_predict.dropna()\n",
    "\n",
    "# generateUpDown(True_predict_drop)\n",
    "\n",
    "# X = True_predict_drop.iloc[:, 6].values\n",
    "\n",
    "# X = scaler.fit_transform(X[:, np.newaxis])\n",
    "\n",
    "\n",
    "# y_true = svr.predict(X) \n",
    "\n",
    "# test_true = pd.DataFrame(data=y_true, columns=['y_true'])\n",
    "# test_true['y_pred'] = y_true\n",
    "# test_true['Real'] = True_predict_drop.iloc[:, -1].values\n",
    "\n",
    "# generateUpDown2(test_true)\n",
    "\n",
    "# # test_true\n",
    "\n",
    "# cm = confusion_matrix(test_true['Real'], test_true['Forecast'])\n",
    "# print(cm)\n",
    "# print('Accuracy Score:', metrics.accuracy_score(test_true['Real'], test_true['Forecast']))\n"
   ]
  },
  {
   "cell_type": "code",
   "execution_count": 74,
   "id": "0e684495-74fd-431c-adaa-3fee0a48c343",
   "metadata": {},
   "outputs": [
    {
     "name": "stdout",
     "output_type": "stream",
     "text": [
      "[[  0 134]\n",
      " [  0 160]]\n",
      "Accuracy Score: 0.54421768707483\n"
     ]
    }
   ],
   "source": [
    "N225_answer['y_pred_rfr'] = test_rfr.iloc[:, -1]\n",
    "N225_answer['y_pred_svr'] = test_svr.iloc[:, -1]\n",
    "N225_answer['y_pred_vr'] = test.iloc[:, -1]\n",
    "summitAnswer(N225_answer)\n",
    "N225_answer['Real'] = df.tail(len(N225_answer)).iloc[:, -1].values\n",
    "cm = confusion_matrix(N225_answer['Real'], N225_answer['Answer'])\n",
    "print(cm)\n",
    "print('Accuracy Score:', metrics.accuracy_score(N225_answer['Real'], N225_answer['Answer']))"
   ]
  },
  {
   "cell_type": "markdown",
   "id": "5e123b1b-5bcd-4601-919d-af1240589088",
   "metadata": {
    "tags": []
   },
   "source": [
    " ## __<font color=green> Parameter Tuning </font>__ "
   ]
  },
  {
   "cell_type": "code",
   "execution_count": 75,
   "id": "8941abc8-29c8-47b7-a08a-fb9ca0189761",
   "metadata": {
    "tags": []
   },
   "outputs": [
    {
     "name": "stdout",
     "output_type": "stream",
     "text": [
      "{}\n"
     ]
    },
    {
     "data": {
      "text/plain": [
       "0.11751568391602504"
      ]
     },
     "execution_count": 75,
     "metadata": {},
     "output_type": "execute_result"
    }
   ],
   "source": [
    "\n",
    "from sklearn.model_selection import GridSearchCV, RandomizedSearchCV\n",
    "\n",
    "params = {}\n",
    "# params = {'voting': ['hard', 'soft'],\n",
    "#          'weights': [(1, 1, 1, 1), (2, 1 ,1 ,1), (1, 2, 1, 1)]}\n",
    "# params['columntransformer__pipeline__simpleimputer__add_indicator'] = [False, True]\n",
    "# params['columntransformer__pipeline__simpleimputer__strategy'] = ['mean', 'median', 'most_frequent', 'constant']\n",
    "\n",
    "# params['randomforestregressor__n_estimators'] = [250, 500, 150]\n",
    "# params['randomforestregressor__criterion'] = ['squared_error', 'absolute_error', 'poisson']\n",
    "\n",
    "# params['svr__degree'] = [3, 6, 9, 12]\n",
    "# params['svr__kernel'] = ['linear', 'poly', 'rbf', 'sigmoid', 'precomputed']\n",
    "# params['svr__gamma'] = ['scale', 'auto']\n",
    "\n",
    "# params['votingregressor__voting'] = ['hard', 'soft']\n",
    "# params['votingregressor__weights'] = [(1, 1, 1, 1), (2, 1 ,1 ,1), (1, 2, 1, 1), (2, 2, 1, 1)]\n",
    "\n",
    "grid = GridSearchCV(pipe_rfr, params, cv=5, scoring='r2')\n",
    "grid.fit(X, y)\n",
    "print(grid.best_params_)\n",
    "grid.best_score_\n",
    "\n",
    "# rand = RandomizedSearchCV(pipe_rfr, params, cv=5, scoring='r2')\n",
    "# rand.fit(X, y)\n",
    "# print(rand.best_params_)\n",
    "# rand.best_score_\n",
    "\n",
    "#0.5428743883595157"
   ]
  },
  {
   "cell_type": "markdown",
   "id": "c7045539-0215-4622-b4fd-a0244384c57f",
   "metadata": {
    "tags": []
   },
   "source": [
    "# __HANG SENG INDEX (^HSI)__"
   ]
  },
  {
   "cell_type": "markdown",
   "id": "85a7e6de-265d-4ac4-95fa-02aa44e849b8",
   "metadata": {
    "tags": []
   },
   "source": [
    " ## __<font color=green>Classification</font>__"
   ]
  },
  {
   "cell_type": "markdown",
   "id": "07da30a2-53d6-4186-8e25-efabf73962cc",
   "metadata": {
    "tags": []
   },
   "source": [
    "### PREPARE DATA FOR INDICATOR (เตรียมข้อมูลสำหรับนำไปใส่ Indicator)"
   ]
  },
  {
   "cell_type": "code",
   "execution_count": 76,
   "id": "da3c33a3-907b-47c4-a187-dce3dae61b93",
   "metadata": {},
   "outputs": [],
   "source": [
    "open = HSI['Open']\n",
    "high = HSI['High']\n",
    "low = HSI['Low']\n",
    "close = HSI['Close']\n",
    "volume = HSI['Volume']"
   ]
  },
  {
   "cell_type": "markdown",
   "id": "d98a3993-47f5-485e-9cac-a1f370a919b9",
   "metadata": {
    "tags": []
   },
   "source": [
    "### CREATE INDICATORS (สร้าง Indicator จากข้อมูล open, high, low, close, volume)"
   ]
  },
  {
   "cell_type": "markdown",
   "id": "8bd2a5ba-d3f2-4216-8a19-38a581c019bd",
   "metadata": {
    "tags": []
   },
   "source": [
    "#### Overlap Studies"
   ]
  },
  {
   "cell_type": "code",
   "execution_count": 77,
   "id": "b9e92cda-fd7a-4c2a-a707-c7d63d4bf570",
   "metadata": {},
   "outputs": [],
   "source": [
    "HSI['EMA50'] = talib.MA(close, timeperiod=50, matype=0)\n",
    "HSI['EMA200'] = talib.MA(close, timeperiod=200, matype=0)"
   ]
  },
  {
   "cell_type": "markdown",
   "id": "d0d9b612-c1ae-4172-8ce5-cf4405137252",
   "metadata": {},
   "source": [
    "#### Momentum Indicators"
   ]
  },
  {
   "cell_type": "code",
   "execution_count": 78,
   "id": "d9919bde-934a-4fc5-893e-11ff5bc0f85f",
   "metadata": {},
   "outputs": [],
   "source": [
    "HSI['ADX'] = talib.ADX(high, low, close, timeperiod=14)\n",
    "HSI['AROON_DOWN'], HSI['AROON_UP'] = talib.AROON(high, low, timeperiod=14)\n",
    "HSI['CCI'] = talib.CCI(high, low, close, timeperiod=14)\n",
    "HSI['MACD'], HSI['MACD_SIGNAL'], HSI['MACD_HIST'] = talib.MACD(close, fastperiod=12, slowperiod=26, signalperiod=9)\n",
    "HSI['MINUS_DI'] = talib.MINUS_DI(high, low, close, timeperiod=14)\n",
    "HSI['PLUS_DI'] = talib.PLUS_DI(high, low, close, timeperiod=14)\n",
    "HSI['RSI'] = talib.RSI(close, timeperiod=14)\n",
    "HSI['SLOWK'], HSI['SLOWD'] = talib.STOCH(high, low, close, fastk_period=5, slowk_period=3, slowk_matype=0, slowd_period=3, slowd_matype=0)\n",
    "HSI['ROC'] = talib.ROC(close, timeperiod=10)"
   ]
  },
  {
   "cell_type": "markdown",
   "id": "f2ff9fb6-3c0d-4d21-8947-04352a89f3ab",
   "metadata": {
    "tags": []
   },
   "source": [
    "#### Volume Indicators"
   ]
  },
  {
   "cell_type": "code",
   "execution_count": 79,
   "id": "ec2e11d4-b479-4d70-afa8-f53e3c2c63bd",
   "metadata": {},
   "outputs": [],
   "source": [
    "HSI['AD'] = talib.AD(high, low, close, volume)\n",
    "HSI['OBV'] = talib.OBV(close, volume)"
   ]
  },
  {
   "cell_type": "markdown",
   "id": "39dfa606-59ae-4154-8b23-d9f39c48cab0",
   "metadata": {
    "tags": []
   },
   "source": [
    "#### Volatility Indicator"
   ]
  },
  {
   "cell_type": "code",
   "execution_count": 80,
   "id": "8679cb04-e3be-4f88-a929-00ee5c1c9c4a",
   "metadata": {
    "tags": []
   },
   "outputs": [],
   "source": [
    "HSI['ATR'] = talib.ATR(high, low, close, timeperiod=14)"
   ]
  },
  {
   "cell_type": "markdown",
   "id": "5f7b0ab5-784b-49dc-8b4b-2e12fe8f5f9b",
   "metadata": {
    "tags": []
   },
   "source": [
    "#### Pattern Recognition"
   ]
  },
  {
   "cell_type": "code",
   "execution_count": 81,
   "id": "825ec79d-6d92-426f-8b8a-384025c29a0b",
   "metadata": {},
   "outputs": [],
   "source": [
    "HSI['CDLMORNINGSTAR'] = talib.CDLMORNINGSTAR(open, high, low, close, penetration=0)\n",
    "HSI['CDLENGULFING'] = talib.CDLENGULFING(open, high, low, close)"
   ]
  },
  {
   "cell_type": "markdown",
   "id": "5eb2a07e-a4cd-46b2-b472-2a26eee9ea81",
   "metadata": {
    "tags": []
   },
   "source": [
    "### Preprocessing data (เตรียมข้อมูลก่อนนำไปใช้ ตย.แก้ข้อมูล NaN, ปรับสัดส่วนข้อมูล/Scaling)"
   ]
  },
  {
   "cell_type": "code",
   "execution_count": 82,
   "id": "ade1add3-9725-4af0-9894-3866c0964d8a",
   "metadata": {},
   "outputs": [],
   "source": [
    "df = HSI\n",
    "\n",
    "# สร้างค่าที่บอกว่าวัน่อไปราคาหุ้นขึ้นหรือลง ขึ้น = 1, ลง = 0)\n",
    "generateUpDown(df)\n",
    "\n",
    "# สร้างค่า X(open, high, low, close, volume, indicators) และ y(Up, Down)\n",
    "# temp = df.dropna()\n",
    "X = df.iloc[:, 0:-1]\n",
    "y = df.loc[:, 'Real']\n",
    "\n",
    "from sklearn.impute import SimpleImputer\n",
    "from sklearn.preprocessing import StandardScaler, MinMaxScaler\n",
    "from sklearn.compose import make_column_selector, make_column_transformer\n",
    "from sklearn.pipeline import make_pipeline\n",
    "\n",
    "imp = SimpleImputer(strategy='mean', add_indicator=False)\n",
    "scaler = MinMaxScaler()\n",
    "\n",
    "num_cols = make_column_selector(dtype_include='number')\n",
    "\n",
    "preprocessor = make_column_transformer((make_pipeline(imp, scaler), num_cols))"
   ]
  },
  {
   "cell_type": "code",
   "execution_count": 83,
   "id": "14a9edd8-8ffb-494e-945c-80590ca70568",
   "metadata": {},
   "outputs": [
    {
     "data": {
      "text/html": [
       "<div>\n",
       "<style scoped>\n",
       "    .dataframe tbody tr th:only-of-type {\n",
       "        vertical-align: middle;\n",
       "    }\n",
       "\n",
       "    .dataframe tbody tr th {\n",
       "        vertical-align: top;\n",
       "    }\n",
       "\n",
       "    .dataframe thead th {\n",
       "        text-align: right;\n",
       "    }\n",
       "</style>\n",
       "<table border=\"1\" class=\"dataframe\">\n",
       "  <thead>\n",
       "    <tr style=\"text-align: right;\">\n",
       "      <th></th>\n",
       "      <th>High</th>\n",
       "      <th>Low</th>\n",
       "      <th>Open</th>\n",
       "      <th>Close</th>\n",
       "      <th>Volume</th>\n",
       "      <th>Adj Close</th>\n",
       "      <th>EMA50</th>\n",
       "      <th>EMA200</th>\n",
       "      <th>ADX</th>\n",
       "      <th>AROON_DOWN</th>\n",
       "      <th>...</th>\n",
       "      <th>SLOWK</th>\n",
       "      <th>SLOWD</th>\n",
       "      <th>ROC</th>\n",
       "      <th>AD</th>\n",
       "      <th>OBV</th>\n",
       "      <th>ATR</th>\n",
       "      <th>CDLMORNINGSTAR</th>\n",
       "      <th>CDLENGULFING</th>\n",
       "      <th>Forecast</th>\n",
       "      <th>Real</th>\n",
       "    </tr>\n",
       "    <tr>\n",
       "      <th>Date</th>\n",
       "      <th></th>\n",
       "      <th></th>\n",
       "      <th></th>\n",
       "      <th></th>\n",
       "      <th></th>\n",
       "      <th></th>\n",
       "      <th></th>\n",
       "      <th></th>\n",
       "      <th></th>\n",
       "      <th></th>\n",
       "      <th></th>\n",
       "      <th></th>\n",
       "      <th></th>\n",
       "      <th></th>\n",
       "      <th></th>\n",
       "      <th></th>\n",
       "      <th></th>\n",
       "      <th></th>\n",
       "      <th></th>\n",
       "      <th></th>\n",
       "      <th></th>\n",
       "    </tr>\n",
       "  </thead>\n",
       "  <tbody>\n",
       "    <tr>\n",
       "      <th>2012-01-03</th>\n",
       "      <td>18886.119141</td>\n",
       "      <td>18724.169922</td>\n",
       "      <td>18770.640625</td>\n",
       "      <td>18877.410156</td>\n",
       "      <td>1.247580e+09</td>\n",
       "      <td>18877.410156</td>\n",
       "      <td>NaN</td>\n",
       "      <td>NaN</td>\n",
       "      <td>NaN</td>\n",
       "      <td>NaN</td>\n",
       "      <td>...</td>\n",
       "      <td>NaN</td>\n",
       "      <td>NaN</td>\n",
       "      <td>NaN</td>\n",
       "      <td>1.113400e+09</td>\n",
       "      <td>1.247580e+09</td>\n",
       "      <td>NaN</td>\n",
       "      <td>0</td>\n",
       "      <td>0</td>\n",
       "      <td>0</td>\n",
       "      <td>0</td>\n",
       "    </tr>\n",
       "    <tr>\n",
       "      <th>2012-01-04</th>\n",
       "      <td>18970.599609</td>\n",
       "      <td>18687.939453</td>\n",
       "      <td>18970.599609</td>\n",
       "      <td>18727.310547</td>\n",
       "      <td>1.169241e+09</td>\n",
       "      <td>18727.310547</td>\n",
       "      <td>NaN</td>\n",
       "      <td>NaN</td>\n",
       "      <td>NaN</td>\n",
       "      <td>NaN</td>\n",
       "      <td>...</td>\n",
       "      <td>NaN</td>\n",
       "      <td>NaN</td>\n",
       "      <td>NaN</td>\n",
       "      <td>2.698812e+08</td>\n",
       "      <td>7.833910e+07</td>\n",
       "      <td>NaN</td>\n",
       "      <td>0</td>\n",
       "      <td>0</td>\n",
       "      <td>0</td>\n",
       "      <td>1</td>\n",
       "    </tr>\n",
       "    <tr>\n",
       "      <th>2012-01-05</th>\n",
       "      <td>18821.089844</td>\n",
       "      <td>18723.279297</td>\n",
       "      <td>18753.380859</td>\n",
       "      <td>18813.410156</td>\n",
       "      <td>1.035427e+09</td>\n",
       "      <td>18813.410156</td>\n",
       "      <td>NaN</td>\n",
       "      <td>NaN</td>\n",
       "      <td>NaN</td>\n",
       "      <td>NaN</td>\n",
       "      <td>...</td>\n",
       "      <td>NaN</td>\n",
       "      <td>NaN</td>\n",
       "      <td>NaN</td>\n",
       "      <td>1.142713e+09</td>\n",
       "      <td>1.113766e+09</td>\n",
       "      <td>NaN</td>\n",
       "      <td>0</td>\n",
       "      <td>0</td>\n",
       "      <td>0</td>\n",
       "      <td>0</td>\n",
       "    </tr>\n",
       "    <tr>\n",
       "      <th>2012-01-06</th>\n",
       "      <td>18784.859375</td>\n",
       "      <td>18506.580078</td>\n",
       "      <td>18784.859375</td>\n",
       "      <td>18593.060547</td>\n",
       "      <td>1.434069e+09</td>\n",
       "      <td>18593.060547</td>\n",
       "      <td>NaN</td>\n",
       "      <td>NaN</td>\n",
       "      <td>NaN</td>\n",
       "      <td>NaN</td>\n",
       "      <td>...</td>\n",
       "      <td>NaN</td>\n",
       "      <td>NaN</td>\n",
       "      <td>NaN</td>\n",
       "      <td>5.999714e+08</td>\n",
       "      <td>-3.203029e+08</td>\n",
       "      <td>NaN</td>\n",
       "      <td>0</td>\n",
       "      <td>0</td>\n",
       "      <td>0</td>\n",
       "      <td>1</td>\n",
       "    </tr>\n",
       "    <tr>\n",
       "      <th>2012-01-09</th>\n",
       "      <td>18884.259766</td>\n",
       "      <td>18302.839844</td>\n",
       "      <td>18588.359375</td>\n",
       "      <td>18865.720703</td>\n",
       "      <td>1.380952e+09</td>\n",
       "      <td>18865.720703</td>\n",
       "      <td>NaN</td>\n",
       "      <td>NaN</td>\n",
       "      <td>NaN</td>\n",
       "      <td>NaN</td>\n",
       "      <td>...</td>\n",
       "      <td>NaN</td>\n",
       "      <td>NaN</td>\n",
       "      <td>NaN</td>\n",
       "      <td>1.892857e+09</td>\n",
       "      <td>1.060649e+09</td>\n",
       "      <td>NaN</td>\n",
       "      <td>0</td>\n",
       "      <td>100</td>\n",
       "      <td>0</td>\n",
       "      <td>1</td>\n",
       "    </tr>\n",
       "    <tr>\n",
       "      <th>...</th>\n",
       "      <td>...</td>\n",
       "      <td>...</td>\n",
       "      <td>...</td>\n",
       "      <td>...</td>\n",
       "      <td>...</td>\n",
       "      <td>...</td>\n",
       "      <td>...</td>\n",
       "      <td>...</td>\n",
       "      <td>...</td>\n",
       "      <td>...</td>\n",
       "      <td>...</td>\n",
       "      <td>...</td>\n",
       "      <td>...</td>\n",
       "      <td>...</td>\n",
       "      <td>...</td>\n",
       "      <td>...</td>\n",
       "      <td>...</td>\n",
       "      <td>...</td>\n",
       "      <td>...</td>\n",
       "      <td>...</td>\n",
       "      <td>...</td>\n",
       "    </tr>\n",
       "    <tr>\n",
       "      <th>2019-12-23</th>\n",
       "      <td>28024.619141</td>\n",
       "      <td>27830.080078</td>\n",
       "      <td>28024.619141</td>\n",
       "      <td>27906.410156</td>\n",
       "      <td>1.216834e+09</td>\n",
       "      <td>27906.410156</td>\n",
       "      <td>26935.587305</td>\n",
       "      <td>27570.626543</td>\n",
       "      <td>20.661977</td>\n",
       "      <td>7.142857</td>\n",
       "      <td>...</td>\n",
       "      <td>78.242392</td>\n",
       "      <td>85.361938</td>\n",
       "      <td>5.328153</td>\n",
       "      <td>1.460822e+11</td>\n",
       "      <td>1.649900e+11</td>\n",
       "      <td>301.554434</td>\n",
       "      <td>0</td>\n",
       "      <td>0</td>\n",
       "      <td>0</td>\n",
       "      <td>0</td>\n",
       "    </tr>\n",
       "    <tr>\n",
       "      <th>2019-12-24</th>\n",
       "      <td>27921.289062</td>\n",
       "      <td>27792.660156</td>\n",
       "      <td>27901.509766</td>\n",
       "      <td>27864.210938</td>\n",
       "      <td>4.839841e+08</td>\n",
       "      <td>27864.210938</td>\n",
       "      <td>26962.792930</td>\n",
       "      <td>27564.759600</td>\n",
       "      <td>21.102252</td>\n",
       "      <td>0.000000</td>\n",
       "      <td>...</td>\n",
       "      <td>70.107071</td>\n",
       "      <td>78.268103</td>\n",
       "      <td>5.400054</td>\n",
       "      <td>1.461366e+11</td>\n",
       "      <td>1.645060e+11</td>\n",
       "      <td>289.202610</td>\n",
       "      <td>0</td>\n",
       "      <td>0</td>\n",
       "      <td>0</td>\n",
       "      <td>1</td>\n",
       "    </tr>\n",
       "    <tr>\n",
       "      <th>2019-12-27</th>\n",
       "      <td>28226.109375</td>\n",
       "      <td>28000.619141</td>\n",
       "      <td>28033.660156</td>\n",
       "      <td>28225.419922</td>\n",
       "      <td>1.375016e+09</td>\n",
       "      <td>28225.419922</td>\n",
       "      <td>26994.015742</td>\n",
       "      <td>27561.989453</td>\n",
       "      <td>22.174069</td>\n",
       "      <td>0.000000</td>\n",
       "      <td>...</td>\n",
       "      <td>76.110194</td>\n",
       "      <td>74.819886</td>\n",
       "      <td>5.929686</td>\n",
       "      <td>1.475032e+11</td>\n",
       "      <td>1.658810e+11</td>\n",
       "      <td>294.395170</td>\n",
       "      <td>100</td>\n",
       "      <td>0</td>\n",
       "      <td>0</td>\n",
       "      <td>1</td>\n",
       "    </tr>\n",
       "    <tr>\n",
       "      <th>2019-12-30</th>\n",
       "      <td>28418.650391</td>\n",
       "      <td>28165.130859</td>\n",
       "      <td>28250.480469</td>\n",
       "      <td>28319.390625</td>\n",
       "      <td>1.420447e+09</td>\n",
       "      <td>28319.390625</td>\n",
       "      <td>27023.433750</td>\n",
       "      <td>27562.444307</td>\n",
       "      <td>23.531835</td>\n",
       "      <td>0.000000</td>\n",
       "      <td>...</td>\n",
       "      <td>79.774053</td>\n",
       "      <td>75.330439</td>\n",
       "      <td>4.909399</td>\n",
       "      <td>1.478114e+11</td>\n",
       "      <td>1.673015e+11</td>\n",
       "      <td>291.475481</td>\n",
       "      <td>0</td>\n",
       "      <td>0</td>\n",
       "      <td>0</td>\n",
       "      <td>0</td>\n",
       "    </tr>\n",
       "    <tr>\n",
       "      <th>2019-12-31</th>\n",
       "      <td>28298.460938</td>\n",
       "      <td>28123.859375</td>\n",
       "      <td>28241.429688</td>\n",
       "      <td>28189.750000</td>\n",
       "      <td>8.737139e+08</td>\n",
       "      <td>28189.750000</td>\n",
       "      <td>27052.837148</td>\n",
       "      <td>27560.876553</td>\n",
       "      <td>24.611037</td>\n",
       "      <td>7.142857</td>\n",
       "      <td>...</td>\n",
       "      <td>82.889473</td>\n",
       "      <td>79.591240</td>\n",
       "      <td>1.813040</td>\n",
       "      <td>1.475971e+11</td>\n",
       "      <td>1.664277e+11</td>\n",
       "      <td>284.622322</td>\n",
       "      <td>0</td>\n",
       "      <td>0</td>\n",
       "      <td>0</td>\n",
       "      <td>0</td>\n",
       "    </tr>\n",
       "  </tbody>\n",
       "</table>\n",
       "<p>1967 rows × 28 columns</p>\n",
       "</div>"
      ],
      "text/plain": [
       "                    High           Low          Open         Close  \\\n",
       "Date                                                                 \n",
       "2012-01-03  18886.119141  18724.169922  18770.640625  18877.410156   \n",
       "2012-01-04  18970.599609  18687.939453  18970.599609  18727.310547   \n",
       "2012-01-05  18821.089844  18723.279297  18753.380859  18813.410156   \n",
       "2012-01-06  18784.859375  18506.580078  18784.859375  18593.060547   \n",
       "2012-01-09  18884.259766  18302.839844  18588.359375  18865.720703   \n",
       "...                  ...           ...           ...           ...   \n",
       "2019-12-23  28024.619141  27830.080078  28024.619141  27906.410156   \n",
       "2019-12-24  27921.289062  27792.660156  27901.509766  27864.210938   \n",
       "2019-12-27  28226.109375  28000.619141  28033.660156  28225.419922   \n",
       "2019-12-30  28418.650391  28165.130859  28250.480469  28319.390625   \n",
       "2019-12-31  28298.460938  28123.859375  28241.429688  28189.750000   \n",
       "\n",
       "                  Volume     Adj Close         EMA50        EMA200        ADX  \\\n",
       "Date                                                                            \n",
       "2012-01-03  1.247580e+09  18877.410156           NaN           NaN        NaN   \n",
       "2012-01-04  1.169241e+09  18727.310547           NaN           NaN        NaN   \n",
       "2012-01-05  1.035427e+09  18813.410156           NaN           NaN        NaN   \n",
       "2012-01-06  1.434069e+09  18593.060547           NaN           NaN        NaN   \n",
       "2012-01-09  1.380952e+09  18865.720703           NaN           NaN        NaN   \n",
       "...                  ...           ...           ...           ...        ...   \n",
       "2019-12-23  1.216834e+09  27906.410156  26935.587305  27570.626543  20.661977   \n",
       "2019-12-24  4.839841e+08  27864.210938  26962.792930  27564.759600  21.102252   \n",
       "2019-12-27  1.375016e+09  28225.419922  26994.015742  27561.989453  22.174069   \n",
       "2019-12-30  1.420447e+09  28319.390625  27023.433750  27562.444307  23.531835   \n",
       "2019-12-31  8.737139e+08  28189.750000  27052.837148  27560.876553  24.611037   \n",
       "\n",
       "            AROON_DOWN  ...      SLOWK      SLOWD       ROC            AD  \\\n",
       "Date                    ...                                                 \n",
       "2012-01-03         NaN  ...        NaN        NaN       NaN  1.113400e+09   \n",
       "2012-01-04         NaN  ...        NaN        NaN       NaN  2.698812e+08   \n",
       "2012-01-05         NaN  ...        NaN        NaN       NaN  1.142713e+09   \n",
       "2012-01-06         NaN  ...        NaN        NaN       NaN  5.999714e+08   \n",
       "2012-01-09         NaN  ...        NaN        NaN       NaN  1.892857e+09   \n",
       "...                ...  ...        ...        ...       ...           ...   \n",
       "2019-12-23    7.142857  ...  78.242392  85.361938  5.328153  1.460822e+11   \n",
       "2019-12-24    0.000000  ...  70.107071  78.268103  5.400054  1.461366e+11   \n",
       "2019-12-27    0.000000  ...  76.110194  74.819886  5.929686  1.475032e+11   \n",
       "2019-12-30    0.000000  ...  79.774053  75.330439  4.909399  1.478114e+11   \n",
       "2019-12-31    7.142857  ...  82.889473  79.591240  1.813040  1.475971e+11   \n",
       "\n",
       "                     OBV         ATR  CDLMORNINGSTAR  CDLENGULFING  Forecast  \\\n",
       "Date                                                                           \n",
       "2012-01-03  1.247580e+09         NaN               0             0         0   \n",
       "2012-01-04  7.833910e+07         NaN               0             0         0   \n",
       "2012-01-05  1.113766e+09         NaN               0             0         0   \n",
       "2012-01-06 -3.203029e+08         NaN               0             0         0   \n",
       "2012-01-09  1.060649e+09         NaN               0           100         0   \n",
       "...                  ...         ...             ...           ...       ...   \n",
       "2019-12-23  1.649900e+11  301.554434               0             0         0   \n",
       "2019-12-24  1.645060e+11  289.202610               0             0         0   \n",
       "2019-12-27  1.658810e+11  294.395170             100             0         0   \n",
       "2019-12-30  1.673015e+11  291.475481               0             0         0   \n",
       "2019-12-31  1.664277e+11  284.622322               0             0         0   \n",
       "\n",
       "            Real  \n",
       "Date              \n",
       "2012-01-03     0  \n",
       "2012-01-04     1  \n",
       "2012-01-05     0  \n",
       "2012-01-06     1  \n",
       "2012-01-09     1  \n",
       "...          ...  \n",
       "2019-12-23     0  \n",
       "2019-12-24     1  \n",
       "2019-12-27     1  \n",
       "2019-12-30     0  \n",
       "2019-12-31     0  \n",
       "\n",
       "[1967 rows x 28 columns]"
      ]
     },
     "execution_count": 83,
     "metadata": {},
     "output_type": "execute_result"
    }
   ],
   "source": [
    "df"
   ]
  },
  {
   "cell_type": "markdown",
   "id": "9e5ceedf-9381-4bd9-aaaa-8059db3fb744",
   "metadata": {
    "tags": []
   },
   "source": [
    "### Create Models (สร้าง Models)"
   ]
  },
  {
   "cell_type": "code",
   "execution_count": 84,
   "id": "d799a85c-3256-4c56-afcc-3c36f6020ba4",
   "metadata": {},
   "outputs": [],
   "source": [
    "from sklearn.linear_model import LogisticRegression\n",
    "from sklearn.neighbors import KNeighborsClassifier\n",
    "from sklearn import svm\n",
    "from sklearn.linear_model import RidgeClassifier\n",
    "\n",
    "lr = LogisticRegression(penalty='l1', C=0.1, solver='saga', random_state=1, max_iter=500, tol=0.01, dual=False)\n",
    "knc = KNeighborsClassifier(n_neighbors=470, p=9, algorithm='auto', leaf_size=30, weights='uniform')\n",
    "svm = svm.SVC(C=0.3, random_state=1, kernel='linear', gamma='auto', degree=3)\n",
    "rcf = RidgeClassifier(alpha=20, random_state=1, normalize=True)"
   ]
  },
  {
   "cell_type": "markdown",
   "id": "26008851-394f-4e19-a2ad-4a3667105926",
   "metadata": {
    "tags": []
   },
   "source": [
    "### Features Selection (เลือก Features ที่จะใช้เป็น X)"
   ]
  },
  {
   "cell_type": "code",
   "execution_count": 85,
   "id": "19d0f8d2-d5b5-4adc-9baf-83fd3e6bf38d",
   "metadata": {},
   "outputs": [
    {
     "data": {
      "text/html": [
       "<style>#sk-9d3efd22-44f2-4f35-b256-e82231eb3619 {color: black;background-color: white;}#sk-9d3efd22-44f2-4f35-b256-e82231eb3619 pre{padding: 0;}#sk-9d3efd22-44f2-4f35-b256-e82231eb3619 div.sk-toggleable {background-color: white;}#sk-9d3efd22-44f2-4f35-b256-e82231eb3619 label.sk-toggleable__label {cursor: pointer;display: block;width: 100%;margin-bottom: 0;padding: 0.3em;box-sizing: border-box;text-align: center;}#sk-9d3efd22-44f2-4f35-b256-e82231eb3619 div.sk-toggleable__content {max-height: 0;max-width: 0;overflow: hidden;text-align: left;background-color: #f0f8ff;}#sk-9d3efd22-44f2-4f35-b256-e82231eb3619 div.sk-toggleable__content pre {margin: 0.2em;color: black;border-radius: 0.25em;background-color: #f0f8ff;}#sk-9d3efd22-44f2-4f35-b256-e82231eb3619 input.sk-toggleable__control:checked~div.sk-toggleable__content {max-height: 200px;max-width: 100%;overflow: auto;}#sk-9d3efd22-44f2-4f35-b256-e82231eb3619 div.sk-estimator input.sk-toggleable__control:checked~label.sk-toggleable__label {background-color: #d4ebff;}#sk-9d3efd22-44f2-4f35-b256-e82231eb3619 div.sk-label input.sk-toggleable__control:checked~label.sk-toggleable__label {background-color: #d4ebff;}#sk-9d3efd22-44f2-4f35-b256-e82231eb3619 input.sk-hidden--visually {border: 0;clip: rect(1px 1px 1px 1px);clip: rect(1px, 1px, 1px, 1px);height: 1px;margin: -1px;overflow: hidden;padding: 0;position: absolute;width: 1px;}#sk-9d3efd22-44f2-4f35-b256-e82231eb3619 div.sk-estimator {font-family: monospace;background-color: #f0f8ff;border: 1px dotted black;border-radius: 0.25em;box-sizing: border-box;margin-bottom: 0.5em;}#sk-9d3efd22-44f2-4f35-b256-e82231eb3619 div.sk-estimator:hover {background-color: #d4ebff;}#sk-9d3efd22-44f2-4f35-b256-e82231eb3619 div.sk-parallel-item::after {content: \"\";width: 100%;border-bottom: 1px solid gray;flex-grow: 1;}#sk-9d3efd22-44f2-4f35-b256-e82231eb3619 div.sk-label:hover label.sk-toggleable__label {background-color: #d4ebff;}#sk-9d3efd22-44f2-4f35-b256-e82231eb3619 div.sk-serial::before {content: \"\";position: absolute;border-left: 1px solid gray;box-sizing: border-box;top: 2em;bottom: 0;left: 50%;}#sk-9d3efd22-44f2-4f35-b256-e82231eb3619 div.sk-serial {display: flex;flex-direction: column;align-items: center;background-color: white;padding-right: 0.2em;padding-left: 0.2em;}#sk-9d3efd22-44f2-4f35-b256-e82231eb3619 div.sk-item {z-index: 1;}#sk-9d3efd22-44f2-4f35-b256-e82231eb3619 div.sk-parallel {display: flex;align-items: stretch;justify-content: center;background-color: white;}#sk-9d3efd22-44f2-4f35-b256-e82231eb3619 div.sk-parallel::before {content: \"\";position: absolute;border-left: 1px solid gray;box-sizing: border-box;top: 2em;bottom: 0;left: 50%;}#sk-9d3efd22-44f2-4f35-b256-e82231eb3619 div.sk-parallel-item {display: flex;flex-direction: column;position: relative;background-color: white;}#sk-9d3efd22-44f2-4f35-b256-e82231eb3619 div.sk-parallel-item:first-child::after {align-self: flex-end;width: 50%;}#sk-9d3efd22-44f2-4f35-b256-e82231eb3619 div.sk-parallel-item:last-child::after {align-self: flex-start;width: 50%;}#sk-9d3efd22-44f2-4f35-b256-e82231eb3619 div.sk-parallel-item:only-child::after {width: 0;}#sk-9d3efd22-44f2-4f35-b256-e82231eb3619 div.sk-dashed-wrapped {border: 1px dashed gray;margin: 0 0.4em 0.5em 0.4em;box-sizing: border-box;padding-bottom: 0.4em;background-color: white;position: relative;}#sk-9d3efd22-44f2-4f35-b256-e82231eb3619 div.sk-label label {font-family: monospace;font-weight: bold;background-color: white;display: inline-block;line-height: 1.2em;}#sk-9d3efd22-44f2-4f35-b256-e82231eb3619 div.sk-label-container {position: relative;z-index: 2;text-align: center;}#sk-9d3efd22-44f2-4f35-b256-e82231eb3619 div.sk-container {display: inline-block;position: relative;}</style><div id=\"sk-9d3efd22-44f2-4f35-b256-e82231eb3619\" class\"sk-top-container\"><div class=\"sk-container\"><div class=\"sk-item sk-dashed-wrapped\"><div class=\"sk-label-container\"><div class=\"sk-label sk-toggleable\"><input class=\"sk-toggleable__control sk-hidden--visually\" id=\"bc4b73ca-89ec-45b3-af63-c68d892f8932\" type=\"checkbox\" ><label class=\"sk-toggleable__label\" for=\"bc4b73ca-89ec-45b3-af63-c68d892f8932\">RFE</label><div class=\"sk-toggleable__content\"><pre>RFE(estimator=LogisticRegression(C=0.1, max_iter=500, penalty='l1',\n",
       "                                 random_state=1, solver='saga', tol=0.01),\n",
       "    n_features_to_select=10)</pre></div></div></div><div class=\"sk-parallel\"><div class=\"sk-parallel-item\"><div class=\"sk-item\"><div class=\"sk-serial\"><div class=\"sk-item\"><div class=\"sk-estimator sk-toggleable\"><input class=\"sk-toggleable__control sk-hidden--visually\" id=\"a49640b9-e202-4f9c-b069-8be2a3ad2246\" type=\"checkbox\" ><label class=\"sk-toggleable__label\" for=\"a49640b9-e202-4f9c-b069-8be2a3ad2246\">LogisticRegression</label><div class=\"sk-toggleable__content\"><pre>LogisticRegression(C=0.1, max_iter=500, penalty='l1', random_state=1,\n",
       "                   solver='saga', tol=0.01)</pre></div></div></div></div></div></div></div></div></div></div>"
      ],
      "text/plain": [
       "RFE(estimator=LogisticRegression(C=0.1, max_iter=500, penalty='l1',\n",
       "                                 random_state=1, solver='saga', tol=0.01),\n",
       "    n_features_to_select=10)"
      ]
     },
     "execution_count": 85,
     "metadata": {},
     "output_type": "execute_result"
    }
   ],
   "source": [
    "from sklearn.feature_selection import RFE\n",
    "# RFE(modelที่ใช้เลือก, จำนวน Features ที่จะให้เลือก=N)\n",
    "rfe = RFE(lr, n_features_to_select=10)\n",
    "rfe"
   ]
  },
  {
   "cell_type": "markdown",
   "id": "218dbfe3-41b6-4fa8-82eb-2860fa34f6ee",
   "metadata": {
    "tags": []
   },
   "source": [
    "### Ensemble Models (Model แบบ Ensemble *แบบเอาหลายๆ model มาหาอันที่ดีที่สุดแล้วเอียงไปตอยตามตัวนั้นๆ)"
   ]
  },
  {
   "cell_type": "code",
   "execution_count": 86,
   "id": "6ed15b2f-a9d8-4900-94e7-3a9fe928e117",
   "metadata": {},
   "outputs": [
    {
     "data": {
      "text/html": [
       "<style>#sk-0217b65a-9ac0-4d04-947a-541362abddcc {color: black;background-color: white;}#sk-0217b65a-9ac0-4d04-947a-541362abddcc pre{padding: 0;}#sk-0217b65a-9ac0-4d04-947a-541362abddcc div.sk-toggleable {background-color: white;}#sk-0217b65a-9ac0-4d04-947a-541362abddcc label.sk-toggleable__label {cursor: pointer;display: block;width: 100%;margin-bottom: 0;padding: 0.3em;box-sizing: border-box;text-align: center;}#sk-0217b65a-9ac0-4d04-947a-541362abddcc div.sk-toggleable__content {max-height: 0;max-width: 0;overflow: hidden;text-align: left;background-color: #f0f8ff;}#sk-0217b65a-9ac0-4d04-947a-541362abddcc div.sk-toggleable__content pre {margin: 0.2em;color: black;border-radius: 0.25em;background-color: #f0f8ff;}#sk-0217b65a-9ac0-4d04-947a-541362abddcc input.sk-toggleable__control:checked~div.sk-toggleable__content {max-height: 200px;max-width: 100%;overflow: auto;}#sk-0217b65a-9ac0-4d04-947a-541362abddcc div.sk-estimator input.sk-toggleable__control:checked~label.sk-toggleable__label {background-color: #d4ebff;}#sk-0217b65a-9ac0-4d04-947a-541362abddcc div.sk-label input.sk-toggleable__control:checked~label.sk-toggleable__label {background-color: #d4ebff;}#sk-0217b65a-9ac0-4d04-947a-541362abddcc input.sk-hidden--visually {border: 0;clip: rect(1px 1px 1px 1px);clip: rect(1px, 1px, 1px, 1px);height: 1px;margin: -1px;overflow: hidden;padding: 0;position: absolute;width: 1px;}#sk-0217b65a-9ac0-4d04-947a-541362abddcc div.sk-estimator {font-family: monospace;background-color: #f0f8ff;border: 1px dotted black;border-radius: 0.25em;box-sizing: border-box;margin-bottom: 0.5em;}#sk-0217b65a-9ac0-4d04-947a-541362abddcc div.sk-estimator:hover {background-color: #d4ebff;}#sk-0217b65a-9ac0-4d04-947a-541362abddcc div.sk-parallel-item::after {content: \"\";width: 100%;border-bottom: 1px solid gray;flex-grow: 1;}#sk-0217b65a-9ac0-4d04-947a-541362abddcc div.sk-label:hover label.sk-toggleable__label {background-color: #d4ebff;}#sk-0217b65a-9ac0-4d04-947a-541362abddcc div.sk-serial::before {content: \"\";position: absolute;border-left: 1px solid gray;box-sizing: border-box;top: 2em;bottom: 0;left: 50%;}#sk-0217b65a-9ac0-4d04-947a-541362abddcc div.sk-serial {display: flex;flex-direction: column;align-items: center;background-color: white;padding-right: 0.2em;padding-left: 0.2em;}#sk-0217b65a-9ac0-4d04-947a-541362abddcc div.sk-item {z-index: 1;}#sk-0217b65a-9ac0-4d04-947a-541362abddcc div.sk-parallel {display: flex;align-items: stretch;justify-content: center;background-color: white;}#sk-0217b65a-9ac0-4d04-947a-541362abddcc div.sk-parallel::before {content: \"\";position: absolute;border-left: 1px solid gray;box-sizing: border-box;top: 2em;bottom: 0;left: 50%;}#sk-0217b65a-9ac0-4d04-947a-541362abddcc div.sk-parallel-item {display: flex;flex-direction: column;position: relative;background-color: white;}#sk-0217b65a-9ac0-4d04-947a-541362abddcc div.sk-parallel-item:first-child::after {align-self: flex-end;width: 50%;}#sk-0217b65a-9ac0-4d04-947a-541362abddcc div.sk-parallel-item:last-child::after {align-self: flex-start;width: 50%;}#sk-0217b65a-9ac0-4d04-947a-541362abddcc div.sk-parallel-item:only-child::after {width: 0;}#sk-0217b65a-9ac0-4d04-947a-541362abddcc div.sk-dashed-wrapped {border: 1px dashed gray;margin: 0 0.4em 0.5em 0.4em;box-sizing: border-box;padding-bottom: 0.4em;background-color: white;position: relative;}#sk-0217b65a-9ac0-4d04-947a-541362abddcc div.sk-label label {font-family: monospace;font-weight: bold;background-color: white;display: inline-block;line-height: 1.2em;}#sk-0217b65a-9ac0-4d04-947a-541362abddcc div.sk-label-container {position: relative;z-index: 2;text-align: center;}#sk-0217b65a-9ac0-4d04-947a-541362abddcc div.sk-container {display: inline-block;position: relative;}</style><div id=\"sk-0217b65a-9ac0-4d04-947a-541362abddcc\" class\"sk-top-container\"><div class=\"sk-container\"><div class=\"sk-item sk-dashed-wrapped\"><div class=\"sk-label-container\"><div class=\"sk-label sk-toggleable\"><input class=\"sk-toggleable__control sk-hidden--visually\" id=\"b4fa7826-df9f-4f95-8cd8-85631b1afc22\" type=\"checkbox\" ><label class=\"sk-toggleable__label\" for=\"b4fa7826-df9f-4f95-8cd8-85631b1afc22\">VotingClassifier</label><div class=\"sk-toggleable__content\"><pre>VotingClassifier(estimators=[('clf1',\n",
       "                              LogisticRegression(C=0.1, max_iter=500,\n",
       "                                                 penalty='l1', random_state=1,\n",
       "                                                 solver='saga', tol=0.01)),\n",
       "                             ('clf2',\n",
       "                              KNeighborsClassifier(n_neighbors=470, p=9)),\n",
       "                             ('clf3',\n",
       "                              SVC(C=0.3, gamma='auto', kernel='linear',\n",
       "                                  random_state=1)),\n",
       "                             ('clf4',\n",
       "                              RidgeClassifier(alpha=20, normalize=True,\n",
       "                                              random_state=1))],\n",
       "                 weights=(2, 1, 1, 1))</pre></div></div></div><div class=\"sk-parallel\"><div class=\"sk-parallel-item\"><div class=\"sk-item\"><div class=\"sk-label-container\"><div class=\"sk-label sk-toggleable\"><label>clf1</label></div></div><div class=\"sk-serial\"><div class=\"sk-item\"><div class=\"sk-estimator sk-toggleable\"><input class=\"sk-toggleable__control sk-hidden--visually\" id=\"ed08d827-136f-4eee-965a-db5881ed392a\" type=\"checkbox\" ><label class=\"sk-toggleable__label\" for=\"ed08d827-136f-4eee-965a-db5881ed392a\">LogisticRegression</label><div class=\"sk-toggleable__content\"><pre>LogisticRegression(C=0.1, max_iter=500, penalty='l1', random_state=1,\n",
       "                   solver='saga', tol=0.01)</pre></div></div></div></div></div></div><div class=\"sk-parallel-item\"><div class=\"sk-item\"><div class=\"sk-label-container\"><div class=\"sk-label sk-toggleable\"><label>clf2</label></div></div><div class=\"sk-serial\"><div class=\"sk-item\"><div class=\"sk-estimator sk-toggleable\"><input class=\"sk-toggleable__control sk-hidden--visually\" id=\"36de6e26-1cc2-44ba-8651-ae5a5fe5db06\" type=\"checkbox\" ><label class=\"sk-toggleable__label\" for=\"36de6e26-1cc2-44ba-8651-ae5a5fe5db06\">KNeighborsClassifier</label><div class=\"sk-toggleable__content\"><pre>KNeighborsClassifier(n_neighbors=470, p=9)</pre></div></div></div></div></div></div><div class=\"sk-parallel-item\"><div class=\"sk-item\"><div class=\"sk-label-container\"><div class=\"sk-label sk-toggleable\"><label>clf3</label></div></div><div class=\"sk-serial\"><div class=\"sk-item\"><div class=\"sk-estimator sk-toggleable\"><input class=\"sk-toggleable__control sk-hidden--visually\" id=\"3da137ca-6d75-4ae1-a64c-9d93b3459430\" type=\"checkbox\" ><label class=\"sk-toggleable__label\" for=\"3da137ca-6d75-4ae1-a64c-9d93b3459430\">SVC</label><div class=\"sk-toggleable__content\"><pre>SVC(C=0.3, gamma='auto', kernel='linear', random_state=1)</pre></div></div></div></div></div></div><div class=\"sk-parallel-item\"><div class=\"sk-item\"><div class=\"sk-label-container\"><div class=\"sk-label sk-toggleable\"><label>clf4</label></div></div><div class=\"sk-serial\"><div class=\"sk-item\"><div class=\"sk-estimator sk-toggleable\"><input class=\"sk-toggleable__control sk-hidden--visually\" id=\"63cbae4f-1969-4e7b-8fbf-42f392a79657\" type=\"checkbox\" ><label class=\"sk-toggleable__label\" for=\"63cbae4f-1969-4e7b-8fbf-42f392a79657\">RidgeClassifier</label><div class=\"sk-toggleable__content\"><pre>RidgeClassifier(alpha=20, normalize=True, random_state=1)</pre></div></div></div></div></div></div></div></div></div></div>"
      ],
      "text/plain": [
       "VotingClassifier(estimators=[('clf1',\n",
       "                              LogisticRegression(C=0.1, max_iter=500,\n",
       "                                                 penalty='l1', random_state=1,\n",
       "                                                 solver='saga', tol=0.01)),\n",
       "                             ('clf2',\n",
       "                              KNeighborsClassifier(n_neighbors=470, p=9)),\n",
       "                             ('clf3',\n",
       "                              SVC(C=0.3, gamma='auto', kernel='linear',\n",
       "                                  random_state=1)),\n",
       "                             ('clf4',\n",
       "                              RidgeClassifier(alpha=20, normalize=True,\n",
       "                                              random_state=1))],\n",
       "                 weights=(2, 1, 1, 1))"
      ]
     },
     "execution_count": 86,
     "metadata": {},
     "output_type": "execute_result"
    }
   ],
   "source": [
    "from sklearn.ensemble import VotingClassifier\n",
    "\n",
    "vc = VotingClassifier([('clf1', lr), ('clf2', knc), ('clf3', svm), ('clf4', rcf)], voting='hard', weights=(2, 1, 1, 1))\n",
    "vc"
   ]
  },
  {
   "cell_type": "markdown",
   "id": "eb8affdc-587c-4006-9f28-21373a34dc5b",
   "metadata": {
    "tags": []
   },
   "source": [
    "### Splitting data & Training model (แบ่งข้อมูลเป็นส่วนที่ให้ model เรียน กะส่วนที่ให้ model ลองตอบ/ลองเดา)"
   ]
  },
  {
   "cell_type": "code",
   "execution_count": 87,
   "id": "ad30cfc0-146c-47e9-a23e-6578a44880d0",
   "metadata": {},
   "outputs": [
    {
     "data": {
      "text/html": [
       "<style>#sk-5effb110-0d63-4181-8c2a-97cce6632237 {color: black;background-color: white;}#sk-5effb110-0d63-4181-8c2a-97cce6632237 pre{padding: 0;}#sk-5effb110-0d63-4181-8c2a-97cce6632237 div.sk-toggleable {background-color: white;}#sk-5effb110-0d63-4181-8c2a-97cce6632237 label.sk-toggleable__label {cursor: pointer;display: block;width: 100%;margin-bottom: 0;padding: 0.3em;box-sizing: border-box;text-align: center;}#sk-5effb110-0d63-4181-8c2a-97cce6632237 div.sk-toggleable__content {max-height: 0;max-width: 0;overflow: hidden;text-align: left;background-color: #f0f8ff;}#sk-5effb110-0d63-4181-8c2a-97cce6632237 div.sk-toggleable__content pre {margin: 0.2em;color: black;border-radius: 0.25em;background-color: #f0f8ff;}#sk-5effb110-0d63-4181-8c2a-97cce6632237 input.sk-toggleable__control:checked~div.sk-toggleable__content {max-height: 200px;max-width: 100%;overflow: auto;}#sk-5effb110-0d63-4181-8c2a-97cce6632237 div.sk-estimator input.sk-toggleable__control:checked~label.sk-toggleable__label {background-color: #d4ebff;}#sk-5effb110-0d63-4181-8c2a-97cce6632237 div.sk-label input.sk-toggleable__control:checked~label.sk-toggleable__label {background-color: #d4ebff;}#sk-5effb110-0d63-4181-8c2a-97cce6632237 input.sk-hidden--visually {border: 0;clip: rect(1px 1px 1px 1px);clip: rect(1px, 1px, 1px, 1px);height: 1px;margin: -1px;overflow: hidden;padding: 0;position: absolute;width: 1px;}#sk-5effb110-0d63-4181-8c2a-97cce6632237 div.sk-estimator {font-family: monospace;background-color: #f0f8ff;border: 1px dotted black;border-radius: 0.25em;box-sizing: border-box;margin-bottom: 0.5em;}#sk-5effb110-0d63-4181-8c2a-97cce6632237 div.sk-estimator:hover {background-color: #d4ebff;}#sk-5effb110-0d63-4181-8c2a-97cce6632237 div.sk-parallel-item::after {content: \"\";width: 100%;border-bottom: 1px solid gray;flex-grow: 1;}#sk-5effb110-0d63-4181-8c2a-97cce6632237 div.sk-label:hover label.sk-toggleable__label {background-color: #d4ebff;}#sk-5effb110-0d63-4181-8c2a-97cce6632237 div.sk-serial::before {content: \"\";position: absolute;border-left: 1px solid gray;box-sizing: border-box;top: 2em;bottom: 0;left: 50%;}#sk-5effb110-0d63-4181-8c2a-97cce6632237 div.sk-serial {display: flex;flex-direction: column;align-items: center;background-color: white;padding-right: 0.2em;padding-left: 0.2em;}#sk-5effb110-0d63-4181-8c2a-97cce6632237 div.sk-item {z-index: 1;}#sk-5effb110-0d63-4181-8c2a-97cce6632237 div.sk-parallel {display: flex;align-items: stretch;justify-content: center;background-color: white;}#sk-5effb110-0d63-4181-8c2a-97cce6632237 div.sk-parallel::before {content: \"\";position: absolute;border-left: 1px solid gray;box-sizing: border-box;top: 2em;bottom: 0;left: 50%;}#sk-5effb110-0d63-4181-8c2a-97cce6632237 div.sk-parallel-item {display: flex;flex-direction: column;position: relative;background-color: white;}#sk-5effb110-0d63-4181-8c2a-97cce6632237 div.sk-parallel-item:first-child::after {align-self: flex-end;width: 50%;}#sk-5effb110-0d63-4181-8c2a-97cce6632237 div.sk-parallel-item:last-child::after {align-self: flex-start;width: 50%;}#sk-5effb110-0d63-4181-8c2a-97cce6632237 div.sk-parallel-item:only-child::after {width: 0;}#sk-5effb110-0d63-4181-8c2a-97cce6632237 div.sk-dashed-wrapped {border: 1px dashed gray;margin: 0 0.4em 0.5em 0.4em;box-sizing: border-box;padding-bottom: 0.4em;background-color: white;position: relative;}#sk-5effb110-0d63-4181-8c2a-97cce6632237 div.sk-label label {font-family: monospace;font-weight: bold;background-color: white;display: inline-block;line-height: 1.2em;}#sk-5effb110-0d63-4181-8c2a-97cce6632237 div.sk-label-container {position: relative;z-index: 2;text-align: center;}#sk-5effb110-0d63-4181-8c2a-97cce6632237 div.sk-container {display: inline-block;position: relative;}</style><div id=\"sk-5effb110-0d63-4181-8c2a-97cce6632237\" class\"sk-top-container\"><div class=\"sk-container\"><div class=\"sk-item sk-dashed-wrapped\"><div class=\"sk-label-container\"><div class=\"sk-label sk-toggleable\"><input class=\"sk-toggleable__control sk-hidden--visually\" id=\"0fc846d4-d96b-4505-8094-91e7da9749f6\" type=\"checkbox\" ><label class=\"sk-toggleable__label\" for=\"0fc846d4-d96b-4505-8094-91e7da9749f6\">Pipeline</label><div class=\"sk-toggleable__content\"><pre>Pipeline(steps=[('columntransformer',\n",
       "                 ColumnTransformer(transformers=[('pipeline',\n",
       "                                                  Pipeline(steps=[('simpleimputer',\n",
       "                                                                   SimpleImputer()),\n",
       "                                                                  ('minmaxscaler',\n",
       "                                                                   MinMaxScaler())]),\n",
       "                                                  <sklearn.compose._column_transformer.make_column_selector object at 0x000001D508EBB7C0>)])),\n",
       "                ('rfe',\n",
       "                 RFE(estimator=LogisticRegression(C=0.1, max_iter=500,\n",
       "                                                  penalty='l1', random_state=1,\n",
       "                                                  solver='saga', tol=0.01),\n",
       "                     n_features_to_select=10)),\n",
       "                ('ridgeclassifier',\n",
       "                 RidgeClassifier(alpha=20, normalize=True, random_state=1))])</pre></div></div></div><div class=\"sk-serial\"><div class=\"sk-item sk-dashed-wrapped\"><div class=\"sk-label-container\"><div class=\"sk-label sk-toggleable\"><input class=\"sk-toggleable__control sk-hidden--visually\" id=\"dfdc9368-dea8-4621-a508-59a9701d9254\" type=\"checkbox\" ><label class=\"sk-toggleable__label\" for=\"dfdc9368-dea8-4621-a508-59a9701d9254\">columntransformer: ColumnTransformer</label><div class=\"sk-toggleable__content\"><pre>ColumnTransformer(transformers=[('pipeline',\n",
       "                                 Pipeline(steps=[('simpleimputer',\n",
       "                                                  SimpleImputer()),\n",
       "                                                 ('minmaxscaler',\n",
       "                                                  MinMaxScaler())]),\n",
       "                                 <sklearn.compose._column_transformer.make_column_selector object at 0x000001D508EBB7C0>)])</pre></div></div></div><div class=\"sk-parallel\"><div class=\"sk-parallel-item\"><div class=\"sk-item\"><div class=\"sk-label-container\"><div class=\"sk-label sk-toggleable\"><input class=\"sk-toggleable__control sk-hidden--visually\" id=\"d2a043da-64ae-4d01-8a80-9d643ed12085\" type=\"checkbox\" ><label class=\"sk-toggleable__label\" for=\"d2a043da-64ae-4d01-8a80-9d643ed12085\">pipeline</label><div class=\"sk-toggleable__content\"><pre><sklearn.compose._column_transformer.make_column_selector object at 0x000001D508EBB7C0></pre></div></div></div><div class=\"sk-serial\"><div class=\"sk-item\"><div class=\"sk-serial\"><div class=\"sk-item\"><div class=\"sk-estimator sk-toggleable\"><input class=\"sk-toggleable__control sk-hidden--visually\" id=\"e7fbf032-b45d-40bf-ba1e-50d4e2637711\" type=\"checkbox\" ><label class=\"sk-toggleable__label\" for=\"e7fbf032-b45d-40bf-ba1e-50d4e2637711\">SimpleImputer</label><div class=\"sk-toggleable__content\"><pre>SimpleImputer()</pre></div></div></div><div class=\"sk-item\"><div class=\"sk-estimator sk-toggleable\"><input class=\"sk-toggleable__control sk-hidden--visually\" id=\"f5692118-9dde-4008-bcba-a5a89d1b4b58\" type=\"checkbox\" ><label class=\"sk-toggleable__label\" for=\"f5692118-9dde-4008-bcba-a5a89d1b4b58\">MinMaxScaler</label><div class=\"sk-toggleable__content\"><pre>MinMaxScaler()</pre></div></div></div></div></div></div></div></div></div></div><div class=\"sk-item sk-dashed-wrapped\"><div class=\"sk-label-container\"><div class=\"sk-label sk-toggleable\"><input class=\"sk-toggleable__control sk-hidden--visually\" id=\"4f265649-e290-4db3-89fd-0171376e8378\" type=\"checkbox\" ><label class=\"sk-toggleable__label\" for=\"4f265649-e290-4db3-89fd-0171376e8378\">rfe: RFE</label><div class=\"sk-toggleable__content\"><pre>RFE(estimator=LogisticRegression(C=0.1, max_iter=500, penalty='l1',\n",
       "                                 random_state=1, solver='saga', tol=0.01),\n",
       "    n_features_to_select=10)</pre></div></div></div><div class=\"sk-parallel\"><div class=\"sk-parallel-item\"><div class=\"sk-item\"><div class=\"sk-serial\"><div class=\"sk-item\"><div class=\"sk-estimator sk-toggleable\"><input class=\"sk-toggleable__control sk-hidden--visually\" id=\"d6097aad-0a8e-48ea-b272-4def0f01304d\" type=\"checkbox\" ><label class=\"sk-toggleable__label\" for=\"d6097aad-0a8e-48ea-b272-4def0f01304d\">LogisticRegression</label><div class=\"sk-toggleable__content\"><pre>LogisticRegression(C=0.1, max_iter=500, penalty='l1', random_state=1,\n",
       "                   solver='saga', tol=0.01)</pre></div></div></div></div></div></div></div></div><div class=\"sk-item\"><div class=\"sk-estimator sk-toggleable\"><input class=\"sk-toggleable__control sk-hidden--visually\" id=\"ffe66de5-269e-4430-86c4-39ee4ce135e7\" type=\"checkbox\" ><label class=\"sk-toggleable__label\" for=\"ffe66de5-269e-4430-86c4-39ee4ce135e7\">RidgeClassifier</label><div class=\"sk-toggleable__content\"><pre>RidgeClassifier(alpha=20, normalize=True, random_state=1)</pre></div></div></div></div></div></div></div>"
      ],
      "text/plain": [
       "Pipeline(steps=[('columntransformer',\n",
       "                 ColumnTransformer(transformers=[('pipeline',\n",
       "                                                  Pipeline(steps=[('simpleimputer',\n",
       "                                                                   SimpleImputer()),\n",
       "                                                                  ('minmaxscaler',\n",
       "                                                                   MinMaxScaler())]),\n",
       "                                                  <sklearn.compose._column_transformer.make_column_selector object at 0x000001D508EBB7C0>)])),\n",
       "                ('rfe',\n",
       "                 RFE(estimator=LogisticRegression(C=0.1, max_iter=500,\n",
       "                                                  penalty='l1', random_state=1,\n",
       "                                                  solver='saga', tol=0.01),\n",
       "                     n_features_to_select=10)),\n",
       "                ('ridgeclassifier',\n",
       "                 RidgeClassifier(alpha=20, normalize=True, random_state=1))])"
      ]
     },
     "execution_count": 87,
     "metadata": {},
     "output_type": "execute_result"
    }
   ],
   "source": [
    "from sklearn.model_selection import train_test_split\n",
    "\n",
    "pipe = make_pipeline(preprocessor, rfe, vc)\n",
    "pipe_lr = make_pipeline(preprocessor, rfe, lr)\n",
    "pipe_knc = make_pipeline(preprocessor, rfe, knc)\n",
    "pipe_svm = make_pipeline(preprocessor, rfe, svm)\n",
    "pipe_rcf = make_pipeline(preprocessor, rfe, rcf)\n",
    "\n",
    "X_train, X_test, y_train, y_test = train_test_split(X, y, test_size=0.15, random_state=0, shuffle=False)\n",
    " \n",
    "pipe.fit(X_train, y_train)\n",
    "pipe_lr.fit(X_train, y_train)\n",
    "pipe_knc.fit(X_train, y_train)\n",
    "pipe_svm.fit(X_train, y_train)\n",
    "pipe_rcf.fit(X_train, y_train)"
   ]
  },
  {
   "cell_type": "markdown",
   "id": "457b7657-fc1e-4789-aee9-2c983d4a2f83",
   "metadata": {},
   "source": [
    "### Prediction (ให้ model ลองเดาค่า y_test จาก X_test และ f(X) ที่เคยเรียนไปตอน Training)"
   ]
  },
  {
   "cell_type": "code",
   "execution_count": 88,
   "id": "aeff7aa9-b189-41a8-a756-a12d0e6d3b96",
   "metadata": {},
   "outputs": [],
   "source": [
    "y_pred = pipe.predict(X_test)\n",
    "y_pred_lr = pipe_lr.predict(X_test)\n",
    "y_pred_knc = pipe_knc.predict(X_test)\n",
    "y_pred_svm = pipe_svm.predict(X_test)\n",
    "y_pred_rcf = pipe_rcf.predict(X_test)"
   ]
  },
  {
   "cell_type": "markdown",
   "id": "5000816e-954d-4587-94cf-fc0b152d6da7",
   "metadata": {
    "tags": []
   },
   "source": [
    "### Evaluation (วัดประสิทธิภาพของ model จากค่า Accuracy Score และ Confusion Matrix)"
   ]
  },
  {
   "cell_type": "code",
   "execution_count": 89,
   "id": "49df4e63-2ba8-4bea-a323-dcaadaa03c63",
   "metadata": {},
   "outputs": [
    {
     "name": "stdout",
     "output_type": "stream",
     "text": [
      "Voting\n",
      "[[  0 135]\n",
      " [  0 161]]\n",
      "Accuracy Score: 0.543918918918919\n",
      "lr\n",
      "[[  0 135]\n",
      " [  0 161]]\n",
      "Accuracy Score: 0.543918918918919\n",
      "knc\n",
      "[[  0 135]\n",
      " [  0 161]]\n",
      "Accuracy Score: 0.543918918918919\n",
      "svm\n",
      "[[  0 135]\n",
      " [  0 161]]\n",
      "Accuracy Score: 0.543918918918919\n",
      "rcf\n",
      "[[  0 135]\n",
      " [  0 161]]\n",
      "Accuracy Score: 0.543918918918919\n"
     ]
    }
   ],
   "source": [
    "from sklearn.model_selection import cross_val_score \n",
    "from sklearn.metrics import confusion_matrix\n",
    "from sklearn.metrics import plot_confusion_matrix\n",
    "from sklearn import metrics\n",
    "\n",
    "# print('Voting')\n",
    "# print(pipe.score(X_test, y_test))\n",
    "# print('lr')\n",
    "# print(pipe_lr.score(X_test, y_test))\n",
    "# print('knc')\n",
    "# print(pipe_knc.score(X_test, y_test))\n",
    "# print('svm')\n",
    "# print(pipe_svm.score(X_test, y_test))\n",
    "# print('rcf')\n",
    "# print(pipe_rcf.score(X_test, y_test))\n",
    "\n",
    "cm = confusion_matrix(y_test, y_pred)\n",
    "print('Voting')\n",
    "print(cm)\n",
    "print('Accuracy Score:', metrics.accuracy_score(y_test, y_pred))\n",
    "\n",
    "# disp = plot_confusion_matrix(pipe, X_test, y_test)\n",
    "# plt.show()\n",
    "\n",
    "cm_lr = confusion_matrix(y_test, y_pred_lr)\n",
    "print('lr')\n",
    "print(cm_lr)\n",
    "print('Accuracy Score:', metrics.accuracy_score(y_test, y_pred_lr))\n",
    "\n",
    "cm_knc = confusion_matrix(y_test, y_pred_knc)\n",
    "print('knc')\n",
    "print(cm_knc)\n",
    "print('Accuracy Score:', metrics.accuracy_score(y_test, y_pred_knc))\n",
    "\n",
    "cm_svm = confusion_matrix(y_test, y_pred_svm)\n",
    "print('svm')\n",
    "print(cm_svm)\n",
    "print('Accuracy Score:', metrics.accuracy_score(y_test, y_pred_svm))\n",
    "\n",
    "cm_rcf = confusion_matrix(y_test, y_pred)\n",
    "print('rcf')\n",
    "print(cm_rcf)\n",
    "print('Accuracy Score:', metrics.accuracy_score(y_test, y_pred_rcf))\n",
    "\n",
    "# pipe.named_steps.rfe.ranking_\n",
    "\n",
    "# CV mean score\n",
    "# print(cross_val_score(vc, X, y, cv=7 ,scoring='accuracy').mean())\n"
   ]
  },
  {
   "cell_type": "markdown",
   "id": "2bee0a21-835d-4697-83c7-b68fee026d2c",
   "metadata": {
    "tags": []
   },
   "source": [
    " ## __<font color=green> Parameter Tuning </font>__"
   ]
  },
  {
   "cell_type": "code",
   "execution_count": 90,
   "id": "01d51552-7e0b-4978-8020-c491ef162f53",
   "metadata": {},
   "outputs": [
    {
     "name": "stdout",
     "output_type": "stream",
     "text": [
      "{}\n"
     ]
    },
    {
     "data": {
      "text/plain": [
       "0.522623060926622"
      ]
     },
     "execution_count": 90,
     "metadata": {},
     "output_type": "execute_result"
    }
   ],
   "source": [
    "\n",
    "from sklearn.model_selection import GridSearchCV, RandomizedSearchCV\n",
    "\n",
    "params = {}\n",
    "# params = {'voting': ['hard', 'soft'],\n",
    "#          'weights': [(1, 1, 1, 1), (2, 1 ,1 ,1), (1, 2, 1, 1)]}\n",
    "# params['columntransformer__pipeline__simpleimputer__add_indicator'] = [False, True]\n",
    "# params['columntransformer__pipeline__simpleimputer__strategy'] = ['mean', 'median', 'most_frequent', 'constant']\n",
    "# params['logisticregression__C'] = [0.1, 1, 10]\n",
    "# params['logisticregression__penalty'] = ['l1', 'l2']\n",
    "# params['logisticregression__solver'] = ['sag', 'saga']\n",
    "# params['kneighborsclassifier__n_neighbors'] = [510, 500, 560]\n",
    "# params['kneighborsclassifier__leaf_size'] = [30, 20, 50, 10]\n",
    "# params['kneighborsclassifier__p'] = [9, 10, 11 ]\n",
    "# params['kneighborsclassifier__weights'] = ['distance', 'uniform']\n",
    "# params['kneighborsclassifier__algorithm'] = ['auto', 'brute', 'ball_tree' ]\n",
    "# params['svc__C'] = [0.1, 0.2, 0.3]\n",
    "# params['svc__degree'] = [3, 6, 9, 12]\n",
    "# params['svc__kernel'] = ['linear', 'poly', 'rbf', 'sigmoid', 'precomputed']\n",
    "# params['svc__gamma'] = ['scale', 'auto']\n",
    "# params['ridgeclassifier__alpha'] = [1, 20, 33, 35, 37, 40]\n",
    "# params['ridgeclassifier__solver'] = ['auto', 'svd', 'cholesky', 'lsqr', 'sparse_cg', 'sag', 'saga', 'lbfgs']\n",
    "# params['ridgeclassifier__fit_intercept'] = [True, False]\n",
    "# params['ridgeclassifier__normalize'] = [True, False]\n",
    "# params['votingclassifier__voting'] = ['hard', 'soft']\n",
    "# params['votingclassifier__weights'] = [(1, 1, 1, 1), (2, 1 ,1 ,1), (1, 2, 1, 1), (2, 2, 1, 1)]\n",
    "\n",
    "grid = GridSearchCV(pipe_rcf, params, cv=5, scoring='accuracy')\n",
    "grid.fit(X, y)\n",
    "print(grid.best_params_)\n",
    "grid.best_score_\n",
    "\n",
    "# rand = RandomizedSearchCV(pipe_rfr, params, cv=5, n_iter=10, scoring='r2')\n",
    "# rand.fit(X, y)\n",
    "# print(rand.best_params_)\n",
    "# rand.best_score_\n",
    "\n",
    "#0.5428743883595157"
   ]
  },
  {
   "cell_type": "markdown",
   "id": "4174da42-4b2e-4b0a-9996-4147b252e2fd",
   "metadata": {
    "tags": []
   },
   "source": [
    " ## __<font color=green> Regression </font>__"
   ]
  },
  {
   "cell_type": "markdown",
   "id": "f684893b-c617-4ec1-9d85-5537a859bb20",
   "metadata": {
    "tags": []
   },
   "source": [
    "### Preprocessing data (เตรียมข้อมูลก่อนนำไปใช้ ตย.แก้ข้อมูล NaN, ปรับสัดส่วนข้อมูล/Scaling)"
   ]
  },
  {
   "cell_type": "code",
   "execution_count": 91,
   "id": "c8b0501b-12f1-4271-a3e8-18708f5d5523",
   "metadata": {},
   "outputs": [],
   "source": [
    "temp = df.dropna().copy()\n",
    "\n",
    "generateYRegression(temp)\n",
    "\n",
    "temp['Y_Reg'].iloc[-1] = np.mean(temp['Y_Reg'].iloc[-15:])\n",
    "\n",
    "X = temp.iloc[:, 6:-2]\n",
    "y = temp.loc[:, 'Y_Reg']\n",
    "\n",
    "from sklearn.impute import SimpleImputer\n",
    "from sklearn.preprocessing import StandardScaler, MinMaxScaler\n",
    "from sklearn.compose import make_column_selector, make_column_transformer\n",
    "from sklearn.pipeline import make_pipeline\n",
    "\n",
    "imp = SimpleImputer(strategy='mean', add_indicator=False)\n",
    "scaler = MinMaxScaler()\n",
    "\n",
    "num_cols = make_column_selector(dtype_include='number')\n",
    "\n",
    "preprocessor = make_column_transformer((make_pipeline(imp, scaler), num_cols))"
   ]
  },
  {
   "cell_type": "markdown",
   "id": "eeca528c-58c9-45aa-8d7d-e8322634ca61",
   "metadata": {
    "tags": []
   },
   "source": [
    "### Create Models (สร้าง Models)"
   ]
  },
  {
   "cell_type": "code",
   "execution_count": 92,
   "id": "7e1f97f1-bbdf-4002-877e-fd6a5c00883e",
   "metadata": {},
   "outputs": [],
   "source": [
    "from sklearn.ensemble import RandomForestRegressor\n",
    "from sklearn.svm import SVR\n",
    "from sklearn.ensemble import VotingRegressor\n",
    "\n",
    "rfr = RandomForestRegressor(n_estimators=250, criterion='absolute_error', max_features=7, min_samples_leaf=6, min_samples_split=3, random_state=0)\n",
    "svr = SVR(degree=3, kernel='linear', gamma='scale', C=12.5, coef0=0)\n",
    "vr = VotingRegressor([('reg1', rfr), ('reg2', svr)],  weights=(1, 2))"
   ]
  },
  {
   "cell_type": "markdown",
   "id": "745a1442-1395-4080-909a-95b6c3f66eab",
   "metadata": {
    "tags": []
   },
   "source": [
    "### Features Selection (เลือก Features ที่จะใช้เป็น X)"
   ]
  },
  {
   "cell_type": "code",
   "execution_count": 93,
   "id": "65da5be3-2a31-41a9-8692-1ef1b6c092a3",
   "metadata": {},
   "outputs": [],
   "source": [
    "from sklearn.feature_selection import RFE\n",
    "# RFE(modelที่ใช้เลือก, จำนวน Features ที่จะให้เลือก=N)\n",
    "rfe = RFE(svr, n_features_to_select=10)"
   ]
  },
  {
   "cell_type": "markdown",
   "id": "2336de9b-dd21-4b5e-9609-4419adf68edb",
   "metadata": {
    "tags": []
   },
   "source": [
    "### Splitting data & Training model (แบ่งข้อมูลเป็นส่วนที่ให้ model เรียน กะส่วนที่ให้ model ลองตอบ/ลองเดา)"
   ]
  },
  {
   "cell_type": "code",
   "execution_count": 94,
   "id": "f5258835-fd0a-45a5-82dd-99d5f8e0f646",
   "metadata": {},
   "outputs": [
    {
     "data": {
      "text/html": [
       "<style>#sk-ea2ca9a3-6b00-4c38-8032-53e845434e4e {color: black;background-color: white;}#sk-ea2ca9a3-6b00-4c38-8032-53e845434e4e pre{padding: 0;}#sk-ea2ca9a3-6b00-4c38-8032-53e845434e4e div.sk-toggleable {background-color: white;}#sk-ea2ca9a3-6b00-4c38-8032-53e845434e4e label.sk-toggleable__label {cursor: pointer;display: block;width: 100%;margin-bottom: 0;padding: 0.3em;box-sizing: border-box;text-align: center;}#sk-ea2ca9a3-6b00-4c38-8032-53e845434e4e div.sk-toggleable__content {max-height: 0;max-width: 0;overflow: hidden;text-align: left;background-color: #f0f8ff;}#sk-ea2ca9a3-6b00-4c38-8032-53e845434e4e div.sk-toggleable__content pre {margin: 0.2em;color: black;border-radius: 0.25em;background-color: #f0f8ff;}#sk-ea2ca9a3-6b00-4c38-8032-53e845434e4e input.sk-toggleable__control:checked~div.sk-toggleable__content {max-height: 200px;max-width: 100%;overflow: auto;}#sk-ea2ca9a3-6b00-4c38-8032-53e845434e4e div.sk-estimator input.sk-toggleable__control:checked~label.sk-toggleable__label {background-color: #d4ebff;}#sk-ea2ca9a3-6b00-4c38-8032-53e845434e4e div.sk-label input.sk-toggleable__control:checked~label.sk-toggleable__label {background-color: #d4ebff;}#sk-ea2ca9a3-6b00-4c38-8032-53e845434e4e input.sk-hidden--visually {border: 0;clip: rect(1px 1px 1px 1px);clip: rect(1px, 1px, 1px, 1px);height: 1px;margin: -1px;overflow: hidden;padding: 0;position: absolute;width: 1px;}#sk-ea2ca9a3-6b00-4c38-8032-53e845434e4e div.sk-estimator {font-family: monospace;background-color: #f0f8ff;border: 1px dotted black;border-radius: 0.25em;box-sizing: border-box;margin-bottom: 0.5em;}#sk-ea2ca9a3-6b00-4c38-8032-53e845434e4e div.sk-estimator:hover {background-color: #d4ebff;}#sk-ea2ca9a3-6b00-4c38-8032-53e845434e4e div.sk-parallel-item::after {content: \"\";width: 100%;border-bottom: 1px solid gray;flex-grow: 1;}#sk-ea2ca9a3-6b00-4c38-8032-53e845434e4e div.sk-label:hover label.sk-toggleable__label {background-color: #d4ebff;}#sk-ea2ca9a3-6b00-4c38-8032-53e845434e4e div.sk-serial::before {content: \"\";position: absolute;border-left: 1px solid gray;box-sizing: border-box;top: 2em;bottom: 0;left: 50%;}#sk-ea2ca9a3-6b00-4c38-8032-53e845434e4e div.sk-serial {display: flex;flex-direction: column;align-items: center;background-color: white;padding-right: 0.2em;padding-left: 0.2em;}#sk-ea2ca9a3-6b00-4c38-8032-53e845434e4e div.sk-item {z-index: 1;}#sk-ea2ca9a3-6b00-4c38-8032-53e845434e4e div.sk-parallel {display: flex;align-items: stretch;justify-content: center;background-color: white;}#sk-ea2ca9a3-6b00-4c38-8032-53e845434e4e div.sk-parallel::before {content: \"\";position: absolute;border-left: 1px solid gray;box-sizing: border-box;top: 2em;bottom: 0;left: 50%;}#sk-ea2ca9a3-6b00-4c38-8032-53e845434e4e div.sk-parallel-item {display: flex;flex-direction: column;position: relative;background-color: white;}#sk-ea2ca9a3-6b00-4c38-8032-53e845434e4e div.sk-parallel-item:first-child::after {align-self: flex-end;width: 50%;}#sk-ea2ca9a3-6b00-4c38-8032-53e845434e4e div.sk-parallel-item:last-child::after {align-self: flex-start;width: 50%;}#sk-ea2ca9a3-6b00-4c38-8032-53e845434e4e div.sk-parallel-item:only-child::after {width: 0;}#sk-ea2ca9a3-6b00-4c38-8032-53e845434e4e div.sk-dashed-wrapped {border: 1px dashed gray;margin: 0 0.4em 0.5em 0.4em;box-sizing: border-box;padding-bottom: 0.4em;background-color: white;position: relative;}#sk-ea2ca9a3-6b00-4c38-8032-53e845434e4e div.sk-label label {font-family: monospace;font-weight: bold;background-color: white;display: inline-block;line-height: 1.2em;}#sk-ea2ca9a3-6b00-4c38-8032-53e845434e4e div.sk-label-container {position: relative;z-index: 2;text-align: center;}#sk-ea2ca9a3-6b00-4c38-8032-53e845434e4e div.sk-container {display: inline-block;position: relative;}</style><div id=\"sk-ea2ca9a3-6b00-4c38-8032-53e845434e4e\" class\"sk-top-container\"><div class=\"sk-container\"><div class=\"sk-item sk-dashed-wrapped\"><div class=\"sk-label-container\"><div class=\"sk-label sk-toggleable\"><input class=\"sk-toggleable__control sk-hidden--visually\" id=\"81509c45-7e9c-4904-8a8c-b00ead770119\" type=\"checkbox\" ><label class=\"sk-toggleable__label\" for=\"81509c45-7e9c-4904-8a8c-b00ead770119\">Pipeline</label><div class=\"sk-toggleable__content\"><pre>Pipeline(steps=[('columntransformer',\n",
       "                 ColumnTransformer(transformers=[('pipeline',\n",
       "                                                  Pipeline(steps=[('simpleimputer',\n",
       "                                                                   SimpleImputer()),\n",
       "                                                                  ('minmaxscaler',\n",
       "                                                                   MinMaxScaler())]),\n",
       "                                                  <sklearn.compose._column_transformer.make_column_selector object at 0x000001D52ECE8F10>)])),\n",
       "                ('rfe',\n",
       "                 RFE(estimator=SVR(C=12.5, coef0=0, kernel='linear'),\n",
       "                     n_features_to_select=10)),\n",
       "                ('votingregressor',\n",
       "                 VotingRegressor(estimators=[('reg1',\n",
       "                                              RandomForestRegressor(criterion='absolute_error',\n",
       "                                                                    max_features=7,\n",
       "                                                                    min_samples_leaf=6,\n",
       "                                                                    min_samples_split=3,\n",
       "                                                                    n_estimators=250,\n",
       "                                                                    random_state=0)),\n",
       "                                             ('reg2',\n",
       "                                              SVR(C=12.5, coef0=0,\n",
       "                                                  kernel='linear'))],\n",
       "                                 weights=(1, 2)))])</pre></div></div></div><div class=\"sk-serial\"><div class=\"sk-item sk-dashed-wrapped\"><div class=\"sk-label-container\"><div class=\"sk-label sk-toggleable\"><input class=\"sk-toggleable__control sk-hidden--visually\" id=\"d458a338-8122-4f72-b522-035c32e7b4b7\" type=\"checkbox\" ><label class=\"sk-toggleable__label\" for=\"d458a338-8122-4f72-b522-035c32e7b4b7\">columntransformer: ColumnTransformer</label><div class=\"sk-toggleable__content\"><pre>ColumnTransformer(transformers=[('pipeline',\n",
       "                                 Pipeline(steps=[('simpleimputer',\n",
       "                                                  SimpleImputer()),\n",
       "                                                 ('minmaxscaler',\n",
       "                                                  MinMaxScaler())]),\n",
       "                                 <sklearn.compose._column_transformer.make_column_selector object at 0x000001D52ECE8F10>)])</pre></div></div></div><div class=\"sk-parallel\"><div class=\"sk-parallel-item\"><div class=\"sk-item\"><div class=\"sk-label-container\"><div class=\"sk-label sk-toggleable\"><input class=\"sk-toggleable__control sk-hidden--visually\" id=\"e2655cbe-275a-4619-9a17-853f01ff1a0f\" type=\"checkbox\" ><label class=\"sk-toggleable__label\" for=\"e2655cbe-275a-4619-9a17-853f01ff1a0f\">pipeline</label><div class=\"sk-toggleable__content\"><pre><sklearn.compose._column_transformer.make_column_selector object at 0x000001D52ECE8F10></pre></div></div></div><div class=\"sk-serial\"><div class=\"sk-item\"><div class=\"sk-serial\"><div class=\"sk-item\"><div class=\"sk-estimator sk-toggleable\"><input class=\"sk-toggleable__control sk-hidden--visually\" id=\"471194c3-ae57-44a1-bd44-03e3222c0335\" type=\"checkbox\" ><label class=\"sk-toggleable__label\" for=\"471194c3-ae57-44a1-bd44-03e3222c0335\">SimpleImputer</label><div class=\"sk-toggleable__content\"><pre>SimpleImputer()</pre></div></div></div><div class=\"sk-item\"><div class=\"sk-estimator sk-toggleable\"><input class=\"sk-toggleable__control sk-hidden--visually\" id=\"526203b6-5b84-499a-8e4a-36da379e76d5\" type=\"checkbox\" ><label class=\"sk-toggleable__label\" for=\"526203b6-5b84-499a-8e4a-36da379e76d5\">MinMaxScaler</label><div class=\"sk-toggleable__content\"><pre>MinMaxScaler()</pre></div></div></div></div></div></div></div></div></div></div><div class=\"sk-item sk-dashed-wrapped\"><div class=\"sk-label-container\"><div class=\"sk-label sk-toggleable\"><input class=\"sk-toggleable__control sk-hidden--visually\" id=\"37301d5c-fe71-40fa-83c7-92957076d413\" type=\"checkbox\" ><label class=\"sk-toggleable__label\" for=\"37301d5c-fe71-40fa-83c7-92957076d413\">rfe: RFE</label><div class=\"sk-toggleable__content\"><pre>RFE(estimator=SVR(C=12.5, coef0=0, kernel='linear'), n_features_to_select=10)</pre></div></div></div><div class=\"sk-parallel\"><div class=\"sk-parallel-item\"><div class=\"sk-item\"><div class=\"sk-serial\"><div class=\"sk-item\"><div class=\"sk-estimator sk-toggleable\"><input class=\"sk-toggleable__control sk-hidden--visually\" id=\"2982aa76-a7e0-490f-88c8-92474af59224\" type=\"checkbox\" ><label class=\"sk-toggleable__label\" for=\"2982aa76-a7e0-490f-88c8-92474af59224\">SVR</label><div class=\"sk-toggleable__content\"><pre>SVR(C=12.5, coef0=0, kernel='linear')</pre></div></div></div></div></div></div></div></div><div class=\"sk-item sk-dashed-wrapped\"><div class=\"sk-label-container\"><div class=\"sk-label sk-toggleable\"><input class=\"sk-toggleable__control sk-hidden--visually\" id=\"addeca0b-959c-42f5-922a-ac9b3042bf8f\" type=\"checkbox\" ><label class=\"sk-toggleable__label\" for=\"addeca0b-959c-42f5-922a-ac9b3042bf8f\">votingregressor: VotingRegressor</label><div class=\"sk-toggleable__content\"><pre>VotingRegressor(estimators=[('reg1',\n",
       "                             RandomForestRegressor(criterion='absolute_error',\n",
       "                                                   max_features=7,\n",
       "                                                   min_samples_leaf=6,\n",
       "                                                   min_samples_split=3,\n",
       "                                                   n_estimators=250,\n",
       "                                                   random_state=0)),\n",
       "                            ('reg2', SVR(C=12.5, coef0=0, kernel='linear'))],\n",
       "                weights=(1, 2))</pre></div></div></div><div class=\"sk-parallel\"><div class=\"sk-parallel-item\"><div class=\"sk-item\"><div class=\"sk-label-container\"><div class=\"sk-label sk-toggleable\"><label>reg1</label></div></div><div class=\"sk-serial\"><div class=\"sk-item\"><div class=\"sk-estimator sk-toggleable\"><input class=\"sk-toggleable__control sk-hidden--visually\" id=\"4db3db43-a86d-4f24-9f56-072f256d2a28\" type=\"checkbox\" ><label class=\"sk-toggleable__label\" for=\"4db3db43-a86d-4f24-9f56-072f256d2a28\">RandomForestRegressor</label><div class=\"sk-toggleable__content\"><pre>RandomForestRegressor(criterion='absolute_error', max_features=7,\n",
       "                      min_samples_leaf=6, min_samples_split=3, n_estimators=250,\n",
       "                      random_state=0)</pre></div></div></div></div></div></div><div class=\"sk-parallel-item\"><div class=\"sk-item\"><div class=\"sk-label-container\"><div class=\"sk-label sk-toggleable\"><label>reg2</label></div></div><div class=\"sk-serial\"><div class=\"sk-item\"><div class=\"sk-estimator sk-toggleable\"><input class=\"sk-toggleable__control sk-hidden--visually\" id=\"a095ab66-8e26-4700-ac22-f7a830413b8e\" type=\"checkbox\" ><label class=\"sk-toggleable__label\" for=\"a095ab66-8e26-4700-ac22-f7a830413b8e\">SVR</label><div class=\"sk-toggleable__content\"><pre>SVR(C=12.5, coef0=0, kernel='linear')</pre></div></div></div></div></div></div></div></div></div></div></div></div>"
      ],
      "text/plain": [
       "Pipeline(steps=[('columntransformer',\n",
       "                 ColumnTransformer(transformers=[('pipeline',\n",
       "                                                  Pipeline(steps=[('simpleimputer',\n",
       "                                                                   SimpleImputer()),\n",
       "                                                                  ('minmaxscaler',\n",
       "                                                                   MinMaxScaler())]),\n",
       "                                                  <sklearn.compose._column_transformer.make_column_selector object at 0x000001D52ECE8F10>)])),\n",
       "                ('rfe',\n",
       "                 RFE(estimator=SVR(C=12.5, coef0=0, kernel='linear'),\n",
       "                     n_features_to_select=10)),\n",
       "                ('votingregressor',\n",
       "                 VotingRegressor(estimators=[('reg1',\n",
       "                                              RandomForestRegressor(criterion='absolute_error',\n",
       "                                                                    max_features=7,\n",
       "                                                                    min_samples_leaf=6,\n",
       "                                                                    min_samples_split=3,\n",
       "                                                                    n_estimators=250,\n",
       "                                                                    random_state=0)),\n",
       "                                             ('reg2',\n",
       "                                              SVR(C=12.5, coef0=0,\n",
       "                                                  kernel='linear'))],\n",
       "                                 weights=(1, 2)))])"
      ]
     },
     "execution_count": 94,
     "metadata": {},
     "output_type": "execute_result"
    }
   ],
   "source": [
    "from sklearn.model_selection import train_test_split\n",
    "\n",
    "pipe_rfr = make_pipeline(preprocessor, rfe, rfr)\n",
    "pipe_svr = make_pipeline(preprocessor, rfe, svr)\n",
    "pipe_vr = make_pipeline(preprocessor, rfe, vr)\n",
    "\n",
    "X_train, X_test, y_train, y_test = train_test_split(X, y, test_size=0.15, random_state=0, shuffle=False)\n",
    " \n",
    "pipe_rfr.fit(X_train, y_train)\n",
    "pipe_svr.fit(X_train, y_train)\n",
    "pipe_vr.fit(X_train, y_train)"
   ]
  },
  {
   "cell_type": "markdown",
   "id": "af1ce517-6cba-48e5-a96c-93b15650452c",
   "metadata": {
    "tags": []
   },
   "source": [
    "### Prediction (ให้ model ลองเดาค่า y_test จาก X_test และ f(X) ที่เคยเรียนไปต้อน Training)"
   ]
  },
  {
   "cell_type": "code",
   "execution_count": 98,
   "id": "c0752ae7-d12f-482a-a19f-8dd57cee916c",
   "metadata": {},
   "outputs": [],
   "source": [
    "y_pred_rfr = pipe_rfr.predict(X_N)\n",
    "y_pred_svr = pipe_svr.predict(X_N)\n",
    "y_pred_vr = pipe_vr.predict(X_N)"
   ]
  },
  {
   "cell_type": "markdown",
   "id": "e4f85c9e-5719-4e3a-8787-743d8211e6ac",
   "metadata": {
    "tags": []
   },
   "source": [
    "### Evaluation (วัดประสิทธิภาพของ model จากค่า RMSE, R2 score, Accuracy Score และ Confusion Matrix)"
   ]
  },
  {
   "cell_type": "code",
   "execution_count": 100,
   "id": "ffb7b31e-715e-41d9-ba8b-aec8ccde7362",
   "metadata": {},
   "outputs": [
    {
     "data": {
      "image/png": "[encoded data removed]",
      "text/plain": [
       "<Figure size 432x288 with 1 Axes>"
      ]
     },
     "metadata": {},
     "output_type": "display_data"
    },
    {
     "name": "stdout",
     "output_type": "stream",
     "text": [
      "RMSE:      4221.622170074066\n",
      "R2 score:  -0.45049473491580727\n",
      "[[364 477]\n",
      " [403 516]]\n",
      "Accuracy Score: 0.5\n"
     ]
    },
    {
     "data": {
      "image/png": "[encoded data removed]",
      "text/plain": [
       "<Figure size 432x288 with 1 Axes>"
      ]
     },
     "metadata": {},
     "output_type": "display_data"
    },
    {
     "name": "stdout",
     "output_type": "stream",
     "text": [
      "RMSE:      3094.0597850908407\n",
      "R2 score:  0.22086119457338804\n",
      "[[326 515]\n",
      " [365 554]]\n",
      "Accuracy Score: 0.5\n"
     ]
    },
    {
     "data": {
      "image/png": "[encoded data removed]",
      "text/plain": [
       "<Figure size 432x288 with 1 Axes>"
      ]
     },
     "metadata": {},
     "output_type": "display_data"
    },
    {
     "name": "stdout",
     "output_type": "stream",
     "text": [
      "RMSE:      3452.6319909219587\n",
      "R2 score:  0.029807275734437644\n",
      "[[338 503]\n",
      " [368 551]]\n",
      "Accuracy Score: 0.5051136363636364\n"
     ]
    }
   ],
   "source": [
    "from sklearn import metrics\n",
    "from sklearn.metrics import mean_squared_error, r2_score\n",
    "from sklearn.metrics import confusion_matrix\n",
    "\n",
    "X_test_len = len(X_N)\n",
    "\n",
    "# y_test_scaled = scaler.fit_transform(y_test)\n",
    "plt.plot(range(X_test_len), y_N)\n",
    "plt.plot(range(X_test_len), y_pred_rfr,'r');\n",
    "plt.show()\n",
    "\n",
    "rmse = mean_squared_error(y_N, y_pred_rfr, squared=False)\n",
    "r2 = r2_score(y_N, y_pred_rfr)\n",
    "\n",
    "print('RMSE:     ', rmse)  # Root mean squared error\n",
    "print('R2 score: ', r2)\n",
    "\n",
    "pred_len = len(y_pred_rfr)\n",
    "test = pd.DataFrame(data=y_pred_rfr, columns=['y_pred'])\n",
    "test['y_pred'] = y_pred_rfr\n",
    "\n",
    "test['Real'] = temp.iloc[-pred_len:, -2].values\n",
    "\n",
    "generateUpDown2(test)\n",
    "\n",
    "cm = confusion_matrix(test['Real'], test['Forecast'])\n",
    "print(cm)\n",
    "print('Accuracy Score:', metrics.accuracy_score(test['Real'], test['Forecast']))\n",
    "\n",
    "# ***SVR***\n",
    "\n",
    "plt.plot(range(X_test_len), y_N)\n",
    "plt.plot(range(X_test_len), y_pred_svr,'r');\n",
    "plt.show()\n",
    "\n",
    "rmse_svr = mean_squared_error(y_N, y_pred_svr, squared=False)\n",
    "r2_svr = r2_score(y_N, y_pred_svr)\n",
    "\n",
    "print('RMSE:     ', rmse_svr)  # Root mean squared error\n",
    "print('R2 score: ', r2_svr)\n",
    "\n",
    "pred_len = len(y_pred_svr)\n",
    "test_svr = pd.DataFrame(data=y_pred_svr, columns=['y_pred'])\n",
    "test_svr['y_pred'] = y_pred_svr\n",
    "test_svr['Real'] = temp.iloc[-pred_len:, -2].values\n",
    "\n",
    "generateUpDown2(test_svr)\n",
    "\n",
    "cm_svr = confusion_matrix(test_svr['Real'], test_svr['Forecast'])\n",
    "print(cm_svr)\n",
    "print('Accuracy Score:', metrics.accuracy_score(test_svr['Real'], test_svr['Forecast']))\n",
    "\n",
    "# ***Voting regessor***\n",
    "\n",
    "plt.plot(range(X_test_len), y_N)\n",
    "plt.plot(range(X_test_len), y_pred_vr,'r');\n",
    "plt.show()\n",
    "\n",
    "rmse = mean_squared_error(y_N, y_pred_vr, squared=False)\n",
    "r2 = r2_score(y_N, y_pred_vr)\n",
    "\n",
    "print('RMSE:     ', rmse)  # Root mean squared error\n",
    "print('R2 score: ', r2)\n",
    "\n",
    "pred_len2 = len(y_pred_vr)\n",
    "test = pd.DataFrame(data=y_pred_vr, columns=['y_pred'])\n",
    "test['y_pred'] = y_pred_vr\n",
    "test['Real'] = temp.iloc[-pred_len2:, -2].values\n",
    "\n",
    "generateUpDown2(test)\n",
    "\n",
    "cm = confusion_matrix(test['Real'], test['Forecast'])\n",
    "print(cm)\n",
    "print('Accuracy Score:', metrics.accuracy_score(test['Real'], test['Forecast']))\n",
    "\n",
    "# --------------------------------------------------------------------------------------------------------------------------------------------------\n",
    "\n",
    "# # ***TRY REAL DATA*** \n",
    "\n",
    "# True_predict = pdr.get_data_yahoo(\"^N225\", start=\"2020-11-01\", end=\"2021-11-25\")\n",
    "\n",
    "# close = True_predict['Close']\n",
    "\n",
    "# True_predict['EMA50'] = talib.MA(close, timeperiod=50, matype=0)\n",
    "\n",
    "# True_predict_drop = True_predict.dropna()\n",
    "\n",
    "# generateUpDown(True_predict_drop)\n",
    "\n",
    "# X = True_predict_drop.iloc[:, 6].values\n",
    "\n",
    "# X = scaler.fit_transform(X[:, np.newaxis])\n",
    "\n",
    "\n",
    "# y_true = svr.predict(X) \n",
    "\n",
    "# test_true = pd.DataFrame(data=y_true, columns=['y_true'])\n",
    "# test_true['y_pred'] = y_true\n",
    "# test_true['Real'] = True_predict_drop.iloc[:, -1].values\n",
    "\n",
    "# generateUpDown2(test_true)\n",
    "\n",
    "# # test_true\n",
    "\n",
    "# cm = confusion_matrix(test_true['Real'], test_true['Forecast'])\n",
    "# print(cm)\n",
    "# print('Accuracy Score:', metrics.accuracy_score(test_true['Real'], test_true['Forecast']))\n"
   ]
  },
  {
   "cell_type": "code",
   "execution_count": 97,
   "id": "f0bd899b-ae39-4d0a-9c8b-bdfcb00a68fe",
   "metadata": {},
   "outputs": [
    {
     "name": "stdout",
     "output_type": "stream",
     "text": [
      "[[  0 135]\n",
      " [  0 161]]\n",
      "Accuracy Score: 0.543918918918919\n"
     ]
    }
   ],
   "source": [
    "N225_answer = pd.DataFrame()\n",
    "N225_answer['y_pred_lr'] = y_pred_lr\n",
    "N225_answer['y_pred_knc'] = y_pred_knc\n",
    "N225_answer['y_pred_svm'] = y_pred_svm\n",
    "N225_answer['y_pred_rcf'] = y_pred_rcf\n",
    "N225_answer['y_pred_rfr'] = test_rfr.iloc[:, -1]\n",
    "N225_answer['y_pred_svr'] = test_svr.iloc[:, -1]\n",
    "N225_answer['y_pred_vr'] = test.iloc[:, -1]\n",
    "summitAnswer(N225_answer)\n",
    "N225_answer['Real'] = df.tail(len(N225_answer)).iloc[:, -1].values\n",
    "cm = confusion_matrix(N225_answer['Real'], N225_answer['Answer'])\n",
    "print(cm)\n",
    "print('Accuracy Score:', metrics.accuracy_score(N225_answer['Real'], N225_answer['Answer']))"
   ]
  },
  {
   "cell_type": "markdown",
   "id": "4fa86878-0e0c-40c5-8710-939b4fbf16ff",
   "metadata": {
    "tags": []
   },
   "source": [
    " ## __<font color=green> Parameter Tuning </font>__ "
   ]
  },
  {
   "cell_type": "code",
   "execution_count": null,
   "id": "9f36454a-7a00-4411-8c63-d4643360d3a6",
   "metadata": {
    "tags": []
   },
   "outputs": [],
   "source": [
    "\n",
    "from sklearn.model_selection import GridSearchCV, RandomizedSearchCV\n",
    "\n",
    "params = {}\n",
    "# params = {'voting': ['hard', 'soft'],\n",
    "#          'weights': [(1, 1, 1, 1), (2, 1 ,1 ,1), (1, 2, 1, 1)]}\n",
    "# params['columntransformer__pipeline__simpleimputer__add_indicator'] = [False, True]\n",
    "# params['columntransformer__pipeline__simpleimputer__strategy'] = ['mean', 'median', 'most_frequent', 'constant']\n",
    "\n",
    "# params['randomforestregressor__n_estimators'] = [250, 500, 150]\n",
    "# params['randomforestregressor__criterion'] = ['squared_error', 'absolute_error', 'poisson']\n",
    "\n",
    "# params['svr__degree'] = [3, 6, 9, 12]\n",
    "# params['svr__kernel'] = ['linear', 'poly', 'rbf', 'sigmoid', 'precomputed']\n",
    "# params['svr__gamma'] = ['scale', 'auto']\n",
    "\n",
    "# params['votingregressor__voting'] = ['hard', 'soft']\n",
    "# params['votingregressor__weights'] = [(1, 1, 1, 1), (2, 1 ,1 ,1), (1, 2, 1, 1), (2, 2, 1, 1)]\n",
    "\n",
    "grid = GridSearchCV(pipe_rfr, params, cv=5, scoring='r2')\n",
    "grid.fit(X, y)\n",
    "print(grid.best_params_)\n",
    "grid.best_score_\n",
    "\n",
    "# rand = RandomizedSearchCV(pipe_rfr, params, cv=5, scoring='r2')\n",
    "# rand.fit(X, y)\n",
    "# print(rand.best_params_)\n",
    "# rand.best_score_\n",
    "\n",
    "#0.5428743883595157"
   ]
  },
  {
   "cell_type": "markdown",
   "id": "fe603be8-c1a7-4f6c-902c-fe3b6b48c32b",
   "metadata": {
    "tags": []
   },
   "source": [
    "# __Dow Jones Industrial Average (^DJI)__"
   ]
  },
  {
   "cell_type": "markdown",
   "id": "3b36b807-db9d-40f7-a1d3-f70e0f9cbf34",
   "metadata": {
    "tags": []
   },
   "source": [
    " ## __<font color=green>Classification</font>__"
   ]
  },
  {
   "cell_type": "markdown",
   "id": "388e8573-413d-470a-b7d5-190cb8fbbb25",
   "metadata": {
    "tags": []
   },
   "source": [
    "### PREPARE DATA FOR INDICATOR (เตรียมข้อมูลสำหรับนำไปใส่ Indicator)"
   ]
  },
  {
   "cell_type": "code",
   "execution_count": 29,
   "id": "9d4d10f8-a21e-4661-87af-fe62fd330375",
   "metadata": {},
   "outputs": [],
   "source": [
    "open = DJI['Open']\n",
    "high = DJI['High']\n",
    "low = DJI['Low']\n",
    "close = DJI['Close']\n",
    "volume = DJI['Volume']"
   ]
  },
  {
   "cell_type": "markdown",
   "id": "9d2c4aea-a3bd-40df-b097-cf0330a6785d",
   "metadata": {
    "tags": []
   },
   "source": [
    "### CREATE INDICATORS (สร้าง Indicator จากข้อมูล open, high, low, close, volume)"
   ]
  },
  {
   "cell_type": "markdown",
   "id": "0ef617be-39ac-4a76-883e-2c028cbb104a",
   "metadata": {
    "tags": []
   },
   "source": [
    "#### Overlap Studies"
   ]
  },
  {
   "cell_type": "code",
   "execution_count": 30,
   "id": "bcd6082e-b5ef-49be-8c49-283d7127bbda",
   "metadata": {},
   "outputs": [],
   "source": [
    "DJI['EMA50'] = talib.MA(close, timeperiod=50, matype=0)\n",
    "DJI['EMA200'] = talib.MA(close, timeperiod=200, matype=0)"
   ]
  },
  {
   "cell_type": "markdown",
   "id": "55da3958-4d81-4c23-9c35-bb12d47ce519",
   "metadata": {},
   "source": [
    "#### Momentum Indicators"
   ]
  },
  {
   "cell_type": "code",
   "execution_count": 31,
   "id": "ab88aa0b-38df-41c5-98ef-e7d3a01f9f83",
   "metadata": {},
   "outputs": [],
   "source": [
    "DJI['ADX'] = talib.ADX(high, low, close, timeperiod=14)\n",
    "DJI['AROON_DOWN'], DJI['AROON_UP'] = talib.AROON(high, low, timeperiod=14)\n",
    "DJI['CCI'] = talib.CCI(high, low, close, timeperiod=14)\n",
    "DJI['MACD'], DJI['MACD_SIGNAL'], DJI['MACD_HIST'] = talib.MACD(close, fastperiod=12, slowperiod=26, signalperiod=9)\n",
    "DJI['MINUS_DI'] = talib.MINUS_DI(high, low, close, timeperiod=14)\n",
    "DJI['PLUS_DI'] = talib.PLUS_DI(high, low, close, timeperiod=14)\n",
    "DJI['RSI'] = talib.RSI(close, timeperiod=14)\n",
    "DJI['SLOWK'], DJI['SLOWD'] = talib.STOCH(high, low, close, fastk_period=5, slowk_period=3, slowk_matype=0, slowd_period=3, slowd_matype=0)\n",
    "DJI['ROC'] = talib.ROC(close, timeperiod=10)"
   ]
  },
  {
   "cell_type": "markdown",
   "id": "f64b7283-e3be-4550-a39e-d7ec048e1517",
   "metadata": {},
   "source": [
    "#### Volume Indicators"
   ]
  },
  {
   "cell_type": "code",
   "execution_count": 32,
   "id": "983c39b4-8487-4b95-ad4b-b30295ac838b",
   "metadata": {},
   "outputs": [],
   "source": [
    "DJI['AD'] = talib.AD(high, low, close, volume)\n",
    "DJI['OBV'] = talib.OBV(close, volume)"
   ]
  },
  {
   "cell_type": "markdown",
   "id": "a0e42c5c-666e-4e12-8cb9-1e8d87228636",
   "metadata": {},
   "source": [
    "#### Volatility Indicator"
   ]
  },
  {
   "cell_type": "code",
   "execution_count": 33,
   "id": "7385410b-592c-48dc-a746-e38fd8375da3",
   "metadata": {},
   "outputs": [],
   "source": [
    "DJI['ATR'] = talib.ATR(high, low, close, timeperiod=14)"
   ]
  },
  {
   "cell_type": "markdown",
   "id": "21f5cb3c-3f89-44ab-b8ad-ced6101f5798",
   "metadata": {},
   "source": [
    "#### Pattern Recognition"
   ]
  },
  {
   "cell_type": "code",
   "execution_count": 34,
   "id": "d3827225-2bbf-40dc-a876-45db5ec03a52",
   "metadata": {},
   "outputs": [],
   "source": [
    "DJI['CDLMORNINGSTAR'] = talib.CDLMORNINGSTAR(open, high, low, close, penetration=0)\n",
    "DJI['CDLENGULFING'] = talib.CDLENGULFING(open, high, low, close)"
   ]
  },
  {
   "cell_type": "markdown",
   "id": "52ed1557-8329-4251-a75d-147d95141d95",
   "metadata": {
    "tags": []
   },
   "source": [
    "### Preprocessing data (เตรียมข้อมูลก่อนนำไปใช้ ตย.แก้ข้อมูล NaN, ปรับสัดส่วนข้อมูล/Scaling)"
   ]
  },
  {
   "cell_type": "code",
   "execution_count": 35,
   "id": "e0a4c560-b2dd-48de-998a-1fadae9a519b",
   "metadata": {},
   "outputs": [],
   "source": [
    "df = DJI\n",
    "\n",
    "# สร้างค่าที่บอกว่าวัน่อไปราคาหุ้นขึ้นหรือลง ขึ้น = 1, ลง = 0)\n",
    "generateUpDown(df)\n",
    "\n",
    "# สร้างค่า X(open, high, low, close, volume, indicators) และ y(Up, Down)\n",
    "# temp = df.dropna()\n",
    "X = df.iloc[:, 0:-1]\n",
    "y = df.iloc[:, -1]\n",
    "\n",
    "from sklearn.impute import SimpleImputer\n",
    "from sklearn.preprocessing import StandardScaler, MinMaxScaler\n",
    "from sklearn.compose import make_column_selector, make_column_transformer\n",
    "from sklearn.pipeline import make_pipeline\n",
    "\n",
    "imp = SimpleImputer(strategy='mean', add_indicator=False)\n",
    "scaler = MinMaxScaler()\n",
    "\n",
    "num_cols = make_column_selector(dtype_include='number')\n",
    "\n",
    "preprocessor = make_column_transformer((make_pipeline(imp, scaler), num_cols))"
   ]
  },
  {
   "cell_type": "code",
   "execution_count": 36,
   "id": "e8ecc3ad-5111-4aa7-9ca5-e25f7f10de8d",
   "metadata": {},
   "outputs": [
    {
     "data": {
      "text/html": [
       "<div>\n",
       "<style scoped>\n",
       "    .dataframe tbody tr th:only-of-type {\n",
       "        vertical-align: middle;\n",
       "    }\n",
       "\n",
       "    .dataframe tbody tr th {\n",
       "        vertical-align: top;\n",
       "    }\n",
       "\n",
       "    .dataframe thead th {\n",
       "        text-align: right;\n",
       "    }\n",
       "</style>\n",
       "<table border=\"1\" class=\"dataframe\">\n",
       "  <thead>\n",
       "    <tr style=\"text-align: right;\">\n",
       "      <th></th>\n",
       "      <th>High</th>\n",
       "      <th>Low</th>\n",
       "      <th>Open</th>\n",
       "      <th>Close</th>\n",
       "      <th>Volume</th>\n",
       "      <th>Adj Close</th>\n",
       "      <th>EMA50</th>\n",
       "      <th>EMA200</th>\n",
       "      <th>ADX</th>\n",
       "      <th>AROON_DOWN</th>\n",
       "      <th>...</th>\n",
       "      <th>SLOWK</th>\n",
       "      <th>SLOWD</th>\n",
       "      <th>ROC</th>\n",
       "      <th>AD</th>\n",
       "      <th>OBV</th>\n",
       "      <th>ATR</th>\n",
       "      <th>CDLMORNINGSTAR</th>\n",
       "      <th>CDLENGULFING</th>\n",
       "      <th>Forecast</th>\n",
       "      <th>Real</th>\n",
       "    </tr>\n",
       "    <tr>\n",
       "      <th>Date</th>\n",
       "      <th></th>\n",
       "      <th></th>\n",
       "      <th></th>\n",
       "      <th></th>\n",
       "      <th></th>\n",
       "      <th></th>\n",
       "      <th></th>\n",
       "      <th></th>\n",
       "      <th></th>\n",
       "      <th></th>\n",
       "      <th></th>\n",
       "      <th></th>\n",
       "      <th></th>\n",
       "      <th></th>\n",
       "      <th></th>\n",
       "      <th></th>\n",
       "      <th></th>\n",
       "      <th></th>\n",
       "      <th></th>\n",
       "      <th></th>\n",
       "      <th></th>\n",
       "    </tr>\n",
       "  </thead>\n",
       "  <tbody>\n",
       "    <tr>\n",
       "      <th>2012-01-03</th>\n",
       "      <td>12479.650391</td>\n",
       "      <td>12221.190430</td>\n",
       "      <td>12221.190430</td>\n",
       "      <td>12397.379883</td>\n",
       "      <td>152560000</td>\n",
       "      <td>12397.379883</td>\n",
       "      <td>NaN</td>\n",
       "      <td>NaN</td>\n",
       "      <td>NaN</td>\n",
       "      <td>NaN</td>\n",
       "      <td>...</td>\n",
       "      <td>NaN</td>\n",
       "      <td>NaN</td>\n",
       "      <td>NaN</td>\n",
       "      <td>5.543711e+07</td>\n",
       "      <td>1.525600e+08</td>\n",
       "      <td>NaN</td>\n",
       "      <td>0</td>\n",
       "      <td>0</td>\n",
       "      <td>0</td>\n",
       "      <td>1</td>\n",
       "    </tr>\n",
       "    <tr>\n",
       "      <th>2012-01-04</th>\n",
       "      <td>12430.000000</td>\n",
       "      <td>12337.250000</td>\n",
       "      <td>12392.459961</td>\n",
       "      <td>12418.419922</td>\n",
       "      <td>145130000</td>\n",
       "      <td>12418.419922</td>\n",
       "      <td>NaN</td>\n",
       "      <td>NaN</td>\n",
       "      <td>NaN</td>\n",
       "      <td>NaN</td>\n",
       "      <td>...</td>\n",
       "      <td>NaN</td>\n",
       "      <td>NaN</td>\n",
       "      <td>NaN</td>\n",
       "      <td>1.643274e+08</td>\n",
       "      <td>2.976900e+08</td>\n",
       "      <td>NaN</td>\n",
       "      <td>0</td>\n",
       "      <td>0</td>\n",
       "      <td>0</td>\n",
       "      <td>0</td>\n",
       "    </tr>\n",
       "    <tr>\n",
       "      <th>2012-01-05</th>\n",
       "      <td>12435.980469</td>\n",
       "      <td>12283.900391</td>\n",
       "      <td>12418.419922</td>\n",
       "      <td>12415.700195</td>\n",
       "      <td>158440000</td>\n",
       "      <td>12415.700195</td>\n",
       "      <td>NaN</td>\n",
       "      <td>NaN</td>\n",
       "      <td>NaN</td>\n",
       "      <td>NaN</td>\n",
       "      <td>...</td>\n",
       "      <td>NaN</td>\n",
       "      <td>NaN</td>\n",
       "      <td>NaN</td>\n",
       "      <td>2.805106e+08</td>\n",
       "      <td>1.392500e+08</td>\n",
       "      <td>NaN</td>\n",
       "      <td>0</td>\n",
       "      <td>0</td>\n",
       "      <td>0</td>\n",
       "      <td>0</td>\n",
       "    </tr>\n",
       "    <tr>\n",
       "      <th>2012-01-06</th>\n",
       "      <td>12415.240234</td>\n",
       "      <td>12332.410156</td>\n",
       "      <td>12407.450195</td>\n",
       "      <td>12359.919922</td>\n",
       "      <td>131120000</td>\n",
       "      <td>12359.919922</td>\n",
       "      <td>NaN</td>\n",
       "      <td>NaN</td>\n",
       "      <td>NaN</td>\n",
       "      <td>NaN</td>\n",
       "      <td>...</td>\n",
       "      <td>NaN</td>\n",
       "      <td>NaN</td>\n",
       "      <td>NaN</td>\n",
       "      <td>2.364865e+08</td>\n",
       "      <td>8.130000e+06</td>\n",
       "      <td>NaN</td>\n",
       "      <td>0</td>\n",
       "      <td>0</td>\n",
       "      <td>0</td>\n",
       "      <td>1</td>\n",
       "    </tr>\n",
       "    <tr>\n",
       "      <th>2012-01-09</th>\n",
       "      <td>12409.080078</td>\n",
       "      <td>12333.849609</td>\n",
       "      <td>12359.309570</td>\n",
       "      <td>12392.690430</td>\n",
       "      <td>122200000</td>\n",
       "      <td>12392.690430</td>\n",
       "      <td>NaN</td>\n",
       "      <td>NaN</td>\n",
       "      <td>NaN</td>\n",
       "      <td>NaN</td>\n",
       "      <td>...</td>\n",
       "      <td>NaN</td>\n",
       "      <td>NaN</td>\n",
       "      <td>NaN</td>\n",
       "      <td>3.054418e+08</td>\n",
       "      <td>1.303300e+08</td>\n",
       "      <td>NaN</td>\n",
       "      <td>0</td>\n",
       "      <td>0</td>\n",
       "      <td>0</td>\n",
       "      <td>1</td>\n",
       "    </tr>\n",
       "    <tr>\n",
       "      <th>...</th>\n",
       "      <td>...</td>\n",
       "      <td>...</td>\n",
       "      <td>...</td>\n",
       "      <td>...</td>\n",
       "      <td>...</td>\n",
       "      <td>...</td>\n",
       "      <td>...</td>\n",
       "      <td>...</td>\n",
       "      <td>...</td>\n",
       "      <td>...</td>\n",
       "      <td>...</td>\n",
       "      <td>...</td>\n",
       "      <td>...</td>\n",
       "      <td>...</td>\n",
       "      <td>...</td>\n",
       "      <td>...</td>\n",
       "      <td>...</td>\n",
       "      <td>...</td>\n",
       "      <td>...</td>\n",
       "      <td>...</td>\n",
       "      <td>...</td>\n",
       "    </tr>\n",
       "    <tr>\n",
       "      <th>2019-12-24</th>\n",
       "      <td>28576.800781</td>\n",
       "      <td>28503.210938</td>\n",
       "      <td>28572.570312</td>\n",
       "      <td>28515.449219</td>\n",
       "      <td>86150000</td>\n",
       "      <td>28515.449219</td>\n",
       "      <td>27672.241094</td>\n",
       "      <td>26670.520127</td>\n",
       "      <td>21.107674</td>\n",
       "      <td>7.142857</td>\n",
       "      <td>...</td>\n",
       "      <td>74.409296</td>\n",
       "      <td>79.082098</td>\n",
       "      <td>2.272918</td>\n",
       "      <td>3.774042e+10</td>\n",
       "      <td>3.099933e+10</td>\n",
       "      <td>182.287328</td>\n",
       "      <td>0</td>\n",
       "      <td>0</td>\n",
       "      <td>0</td>\n",
       "      <td>1</td>\n",
       "    </tr>\n",
       "    <tr>\n",
       "      <th>2019-12-26</th>\n",
       "      <td>28624.099609</td>\n",
       "      <td>28535.150391</td>\n",
       "      <td>28539.460938</td>\n",
       "      <td>28621.390625</td>\n",
       "      <td>155970000</td>\n",
       "      <td>28621.390625</td>\n",
       "      <td>27704.172891</td>\n",
       "      <td>26685.112627</td>\n",
       "      <td>22.311733</td>\n",
       "      <td>0.000000</td>\n",
       "      <td>...</td>\n",
       "      <td>86.423314</td>\n",
       "      <td>81.075155</td>\n",
       "      <td>2.544094</td>\n",
       "      <td>3.788689e+10</td>\n",
       "      <td>3.115530e+10</td>\n",
       "      <td>177.027547</td>\n",
       "      <td>0</td>\n",
       "      <td>0</td>\n",
       "      <td>0</td>\n",
       "      <td>1</td>\n",
       "    </tr>\n",
       "    <tr>\n",
       "      <th>2019-12-27</th>\n",
       "      <td>28701.660156</td>\n",
       "      <td>28608.980469</td>\n",
       "      <td>28675.339844</td>\n",
       "      <td>28645.259766</td>\n",
       "      <td>182280000</td>\n",
       "      <td>28645.259766</td>\n",
       "      <td>27737.038477</td>\n",
       "      <td>26699.789229</td>\n",
       "      <td>23.702622</td>\n",
       "      <td>21.428571</td>\n",
       "      <td>...</td>\n",
       "      <td>83.986709</td>\n",
       "      <td>81.606440</td>\n",
       "      <td>1.824286</td>\n",
       "      <td>3.784732e+10</td>\n",
       "      <td>3.133758e+10</td>\n",
       "      <td>171.002700</td>\n",
       "      <td>0</td>\n",
       "      <td>0</td>\n",
       "      <td>0</td>\n",
       "      <td>0</td>\n",
       "    </tr>\n",
       "    <tr>\n",
       "      <th>2019-12-30</th>\n",
       "      <td>28664.689453</td>\n",
       "      <td>28428.980469</td>\n",
       "      <td>28654.759766</td>\n",
       "      <td>28462.140625</td>\n",
       "      <td>181600000</td>\n",
       "      <td>28462.140625</td>\n",
       "      <td>27765.763672</td>\n",
       "      <td>26712.855586</td>\n",
       "      <td>23.643525</td>\n",
       "      <td>14.285714</td>\n",
       "      <td>...</td>\n",
       "      <td>63.117130</td>\n",
       "      <td>77.842385</td>\n",
       "      <td>1.161384</td>\n",
       "      <td>3.771681e+10</td>\n",
       "      <td>3.115598e+10</td>\n",
       "      <td>175.624578</td>\n",
       "      <td>0</td>\n",
       "      <td>0</td>\n",
       "      <td>0</td>\n",
       "      <td>1</td>\n",
       "    </tr>\n",
       "    <tr>\n",
       "      <th>2019-12-31</th>\n",
       "      <td>28547.349609</td>\n",
       "      <td>28376.490234</td>\n",
       "      <td>28414.640625</td>\n",
       "      <td>28538.439453</td>\n",
       "      <td>193340000</td>\n",
       "      <td>28538.439453</td>\n",
       "      <td>27801.128477</td>\n",
       "      <td>26725.977285</td>\n",
       "      <td>23.235833</td>\n",
       "      <td>7.142857</td>\n",
       "      <td>...</td>\n",
       "      <td>46.646381</td>\n",
       "      <td>64.583407</td>\n",
       "      <td>1.071504</td>\n",
       "      <td>3.788999e+10</td>\n",
       "      <td>3.134932e+10</td>\n",
       "      <td>175.284206</td>\n",
       "      <td>0</td>\n",
       "      <td>0</td>\n",
       "      <td>0</td>\n",
       "      <td>0</td>\n",
       "    </tr>\n",
       "  </tbody>\n",
       "</table>\n",
       "<p>2012 rows × 28 columns</p>\n",
       "</div>"
      ],
      "text/plain": [
       "                    High           Low          Open         Close     Volume  \\\n",
       "Date                                                                            \n",
       "2012-01-03  12479.650391  12221.190430  12221.190430  12397.379883  152560000   \n",
       "2012-01-04  12430.000000  12337.250000  12392.459961  12418.419922  145130000   \n",
       "2012-01-05  12435.980469  12283.900391  12418.419922  12415.700195  158440000   \n",
       "2012-01-06  12415.240234  12332.410156  12407.450195  12359.919922  131120000   \n",
       "2012-01-09  12409.080078  12333.849609  12359.309570  12392.690430  122200000   \n",
       "...                  ...           ...           ...           ...        ...   \n",
       "2019-12-24  28576.800781  28503.210938  28572.570312  28515.449219   86150000   \n",
       "2019-12-26  28624.099609  28535.150391  28539.460938  28621.390625  155970000   \n",
       "2019-12-27  28701.660156  28608.980469  28675.339844  28645.259766  182280000   \n",
       "2019-12-30  28664.689453  28428.980469  28654.759766  28462.140625  181600000   \n",
       "2019-12-31  28547.349609  28376.490234  28414.640625  28538.439453  193340000   \n",
       "\n",
       "               Adj Close         EMA50        EMA200        ADX  AROON_DOWN  \\\n",
       "Date                                                                          \n",
       "2012-01-03  12397.379883           NaN           NaN        NaN         NaN   \n",
       "2012-01-04  12418.419922           NaN           NaN        NaN         NaN   \n",
       "2012-01-05  12415.700195           NaN           NaN        NaN         NaN   \n",
       "2012-01-06  12359.919922           NaN           NaN        NaN         NaN   \n",
       "2012-01-09  12392.690430           NaN           NaN        NaN         NaN   \n",
       "...                  ...           ...           ...        ...         ...   \n",
       "2019-12-24  28515.449219  27672.241094  26670.520127  21.107674    7.142857   \n",
       "2019-12-26  28621.390625  27704.172891  26685.112627  22.311733    0.000000   \n",
       "2019-12-27  28645.259766  27737.038477  26699.789229  23.702622   21.428571   \n",
       "2019-12-30  28462.140625  27765.763672  26712.855586  23.643525   14.285714   \n",
       "2019-12-31  28538.439453  27801.128477  26725.977285  23.235833    7.142857   \n",
       "\n",
       "            ...      SLOWK      SLOWD       ROC            AD           OBV  \\\n",
       "Date        ...                                                               \n",
       "2012-01-03  ...        NaN        NaN       NaN  5.543711e+07  1.525600e+08   \n",
       "2012-01-04  ...        NaN        NaN       NaN  1.643274e+08  2.976900e+08   \n",
       "2012-01-05  ...        NaN        NaN       NaN  2.805106e+08  1.392500e+08   \n",
       "2012-01-06  ...        NaN        NaN       NaN  2.364865e+08  8.130000e+06   \n",
       "2012-01-09  ...        NaN        NaN       NaN  3.054418e+08  1.303300e+08   \n",
       "...         ...        ...        ...       ...           ...           ...   \n",
       "2019-12-24  ...  74.409296  79.082098  2.272918  3.774042e+10  3.099933e+10   \n",
       "2019-12-26  ...  86.423314  81.075155  2.544094  3.788689e+10  3.115530e+10   \n",
       "2019-12-27  ...  83.986709  81.606440  1.824286  3.784732e+10  3.133758e+10   \n",
       "2019-12-30  ...  63.117130  77.842385  1.161384  3.771681e+10  3.115598e+10   \n",
       "2019-12-31  ...  46.646381  64.583407  1.071504  3.788999e+10  3.134932e+10   \n",
       "\n",
       "                   ATR  CDLMORNINGSTAR  CDLENGULFING  Forecast  Real  \n",
       "Date                                                                  \n",
       "2012-01-03         NaN               0             0         0     1  \n",
       "2012-01-04         NaN               0             0         0     0  \n",
       "2012-01-05         NaN               0             0         0     0  \n",
       "2012-01-06         NaN               0             0         0     1  \n",
       "2012-01-09         NaN               0             0         0     1  \n",
       "...                ...             ...           ...       ...   ...  \n",
       "2019-12-24  182.287328               0             0         0     1  \n",
       "2019-12-26  177.027547               0             0         0     1  \n",
       "2019-12-27  171.002700               0             0         0     0  \n",
       "2019-12-30  175.624578               0             0         0     1  \n",
       "2019-12-31  175.284206               0             0         0     0  \n",
       "\n",
       "[2012 rows x 28 columns]"
      ]
     },
     "execution_count": 36,
     "metadata": {},
     "output_type": "execute_result"
    }
   ],
   "source": [
    "df"
   ]
  },
  {
   "cell_type": "markdown",
   "id": "bf76284b-9c3f-48fc-87b0-9fdf63020fc0",
   "metadata": {
    "tags": []
   },
   "source": [
    "### Create Models (สร้าง Models)"
   ]
  },
  {
   "cell_type": "code",
   "execution_count": 112,
   "id": "4b43c26c-4c16-4ac7-901e-62b34cdb67b9",
   "metadata": {},
   "outputs": [],
   "source": [
    "from sklearn.linear_model import LogisticRegression\n",
    "from sklearn.neighbors import KNeighborsClassifier\n",
    "from sklearn import svm\n",
    "from sklearn.linear_model import RidgeClassifier\n",
    "\n",
    "lr = LogisticRegression(penalty='l1', C=0.1, solver='saga', random_state=1, max_iter=500, tol=0.01, dual=False)\n",
    "knc = KNeighborsClassifier(n_neighbors=470, p=9, algorithm='auto', leaf_size=30, weights='uniform')\n",
    "svm = svm.SVC(C=0.3, random_state=1, kernel='linear', gamma='auto', degree=3)\n",
    "rcf = RidgeClassifier(alpha=20, random_state=1, normalize=True)"
   ]
  },
  {
   "cell_type": "markdown",
   "id": "0fea7d21-796c-4499-8fa5-5ecfc23047df",
   "metadata": {
    "tags": []
   },
   "source": [
    "### Features Selection (เลือก Features ที่จะใช้เป็น X)"
   ]
  },
  {
   "cell_type": "code",
   "execution_count": 37,
   "id": "364b0a04-4cab-4a59-948f-0e73c5c5d004",
   "metadata": {},
   "outputs": [
    {
     "ename": "NameError",
     "evalue": "name 'lr' is not defined",
     "output_type": "error",
     "traceback": [
      "\u001b[1;31m---------------------------------------------------------------------------\u001b[0m",
      "\u001b[1;31mNameError\u001b[0m                                 Traceback (most recent call last)",
      "\u001b[1;32m~\\AppData\\Local\\Temp/ipykernel_7296/3415586589.py\u001b[0m in \u001b[0;36m<module>\u001b[1;34m\u001b[0m\n\u001b[0;32m      1\u001b[0m \u001b[1;32mfrom\u001b[0m \u001b[0msklearn\u001b[0m\u001b[1;33m.\u001b[0m\u001b[0mfeature_selection\u001b[0m \u001b[1;32mimport\u001b[0m \u001b[0mRFE\u001b[0m\u001b[1;33m\u001b[0m\u001b[1;33m\u001b[0m\u001b[0m\n\u001b[0;32m      2\u001b[0m \u001b[1;31m# RFE(modelที่ใช้เลือก, จำนวน Features ที่จะให้เลือก=N)\u001b[0m\u001b[1;33m\u001b[0m\u001b[1;33m\u001b[0m\u001b[1;33m\u001b[0m\u001b[0m\n\u001b[1;32m----> 3\u001b[1;33m \u001b[0mrfe\u001b[0m \u001b[1;33m=\u001b[0m \u001b[0mRFE\u001b[0m\u001b[1;33m(\u001b[0m\u001b[0mlr\u001b[0m\u001b[1;33m,\u001b[0m \u001b[0mn_features_to_select\u001b[0m\u001b[1;33m=\u001b[0m\u001b[1;36m10\u001b[0m\u001b[1;33m)\u001b[0m\u001b[1;33m\u001b[0m\u001b[1;33m\u001b[0m\u001b[0m\n\u001b[0m\u001b[0;32m      4\u001b[0m \u001b[0mrfe\u001b[0m\u001b[1;33m\u001b[0m\u001b[1;33m\u001b[0m\u001b[0m\n",
      "\u001b[1;31mNameError\u001b[0m: name 'lr' is not defined"
     ]
    }
   ],
   "source": [
    "from sklearn.feature_selection import RFE\n",
    "# RFE(modelที่ใช้เลือก, จำนวน Features ที่จะให้เลือก=N)\n",
    "rfe = RFE(lr, n_features_to_select=10)\n",
    "rfe"
   ]
  },
  {
   "cell_type": "markdown",
   "id": "2bef76e9-fdeb-47de-84ff-08351a7ce7b5",
   "metadata": {
    "tags": []
   },
   "source": [
    "### Ensemble Models (Model แบบ Ensemble *แบบเอาหลายๆ model มาหาอันที่ดีที่สุดแล้วเอียงไปตอยตามตัวนั้นๆ)"
   ]
  },
  {
   "cell_type": "code",
   "execution_count": 114,
   "id": "d9ea3698-09cc-4e6c-af0d-555a919fd18c",
   "metadata": {},
   "outputs": [
    {
     "data": {
      "text/html": [
       "<style>#sk-7f3b808f-9ebf-45d8-af24-202745fb55ba {color: black;background-color: white;}#sk-7f3b808f-9ebf-45d8-af24-202745fb55ba pre{padding: 0;}#sk-7f3b808f-9ebf-45d8-af24-202745fb55ba div.sk-toggleable {background-color: white;}#sk-7f3b808f-9ebf-45d8-af24-202745fb55ba label.sk-toggleable__label {cursor: pointer;display: block;width: 100%;margin-bottom: 0;padding: 0.3em;box-sizing: border-box;text-align: center;}#sk-7f3b808f-9ebf-45d8-af24-202745fb55ba div.sk-toggleable__content {max-height: 0;max-width: 0;overflow: hidden;text-align: left;background-color: #f0f8ff;}#sk-7f3b808f-9ebf-45d8-af24-202745fb55ba div.sk-toggleable__content pre {margin: 0.2em;color: black;border-radius: 0.25em;background-color: #f0f8ff;}#sk-7f3b808f-9ebf-45d8-af24-202745fb55ba input.sk-toggleable__control:checked~div.sk-toggleable__content {max-height: 200px;max-width: 100%;overflow: auto;}#sk-7f3b808f-9ebf-45d8-af24-202745fb55ba div.sk-estimator input.sk-toggleable__control:checked~label.sk-toggleable__label {background-color: #d4ebff;}#sk-7f3b808f-9ebf-45d8-af24-202745fb55ba div.sk-label input.sk-toggleable__control:checked~label.sk-toggleable__label {background-color: #d4ebff;}#sk-7f3b808f-9ebf-45d8-af24-202745fb55ba input.sk-hidden--visually {border: 0;clip: rect(1px 1px 1px 1px);clip: rect(1px, 1px, 1px, 1px);height: 1px;margin: -1px;overflow: hidden;padding: 0;position: absolute;width: 1px;}#sk-7f3b808f-9ebf-45d8-af24-202745fb55ba div.sk-estimator {font-family: monospace;background-color: #f0f8ff;border: 1px dotted black;border-radius: 0.25em;box-sizing: border-box;margin-bottom: 0.5em;}#sk-7f3b808f-9ebf-45d8-af24-202745fb55ba div.sk-estimator:hover {background-color: #d4ebff;}#sk-7f3b808f-9ebf-45d8-af24-202745fb55ba div.sk-parallel-item::after {content: \"\";width: 100%;border-bottom: 1px solid gray;flex-grow: 1;}#sk-7f3b808f-9ebf-45d8-af24-202745fb55ba div.sk-label:hover label.sk-toggleable__label {background-color: #d4ebff;}#sk-7f3b808f-9ebf-45d8-af24-202745fb55ba div.sk-serial::before {content: \"\";position: absolute;border-left: 1px solid gray;box-sizing: border-box;top: 2em;bottom: 0;left: 50%;}#sk-7f3b808f-9ebf-45d8-af24-202745fb55ba div.sk-serial {display: flex;flex-direction: column;align-items: center;background-color: white;padding-right: 0.2em;padding-left: 0.2em;}#sk-7f3b808f-9ebf-45d8-af24-202745fb55ba div.sk-item {z-index: 1;}#sk-7f3b808f-9ebf-45d8-af24-202745fb55ba div.sk-parallel {display: flex;align-items: stretch;justify-content: center;background-color: white;}#sk-7f3b808f-9ebf-45d8-af24-202745fb55ba div.sk-parallel::before {content: \"\";position: absolute;border-left: 1px solid gray;box-sizing: border-box;top: 2em;bottom: 0;left: 50%;}#sk-7f3b808f-9ebf-45d8-af24-202745fb55ba div.sk-parallel-item {display: flex;flex-direction: column;position: relative;background-color: white;}#sk-7f3b808f-9ebf-45d8-af24-202745fb55ba div.sk-parallel-item:first-child::after {align-self: flex-end;width: 50%;}#sk-7f3b808f-9ebf-45d8-af24-202745fb55ba div.sk-parallel-item:last-child::after {align-self: flex-start;width: 50%;}#sk-7f3b808f-9ebf-45d8-af24-202745fb55ba div.sk-parallel-item:only-child::after {width: 0;}#sk-7f3b808f-9ebf-45d8-af24-202745fb55ba div.sk-dashed-wrapped {border: 1px dashed gray;margin: 0 0.4em 0.5em 0.4em;box-sizing: border-box;padding-bottom: 0.4em;background-color: white;position: relative;}#sk-7f3b808f-9ebf-45d8-af24-202745fb55ba div.sk-label label {font-family: monospace;font-weight: bold;background-color: white;display: inline-block;line-height: 1.2em;}#sk-7f3b808f-9ebf-45d8-af24-202745fb55ba div.sk-label-container {position: relative;z-index: 2;text-align: center;}#sk-7f3b808f-9ebf-45d8-af24-202745fb55ba div.sk-container {display: inline-block;position: relative;}</style><div id=\"sk-7f3b808f-9ebf-45d8-af24-202745fb55ba\" class\"sk-top-container\"><div class=\"sk-container\"><div class=\"sk-item sk-dashed-wrapped\"><div class=\"sk-label-container\"><div class=\"sk-label sk-toggleable\"><input class=\"sk-toggleable__control sk-hidden--visually\" id=\"ba630d4e-fed2-495c-aba5-c2c70f730d11\" type=\"checkbox\" ><label class=\"sk-toggleable__label\" for=\"ba630d4e-fed2-495c-aba5-c2c70f730d11\">VotingClassifier</label><div class=\"sk-toggleable__content\"><pre>VotingClassifier(estimators=[('clf1',\n",
       "                              LogisticRegression(C=0.1, max_iter=500,\n",
       "                                                 penalty='l1', random_state=1,\n",
       "                                                 solver='saga', tol=0.01)),\n",
       "                             ('clf2',\n",
       "                              KNeighborsClassifier(n_neighbors=470, p=9)),\n",
       "                             ('clf3',\n",
       "                              SVC(C=0.3, gamma='auto', kernel='linear',\n",
       "                                  random_state=1)),\n",
       "                             ('clf4',\n",
       "                              RidgeClassifier(alpha=20, normalize=True,\n",
       "                                              random_state=1))],\n",
       "                 weights=(2, 1, 1, 1))</pre></div></div></div><div class=\"sk-parallel\"><div class=\"sk-parallel-item\"><div class=\"sk-item\"><div class=\"sk-label-container\"><div class=\"sk-label sk-toggleable\"><label>clf1</label></div></div><div class=\"sk-serial\"><div class=\"sk-item\"><div class=\"sk-estimator sk-toggleable\"><input class=\"sk-toggleable__control sk-hidden--visually\" id=\"5009ae53-5d66-4361-b26e-ddf4b5553f26\" type=\"checkbox\" ><label class=\"sk-toggleable__label\" for=\"5009ae53-5d66-4361-b26e-ddf4b5553f26\">LogisticRegression</label><div class=\"sk-toggleable__content\"><pre>LogisticRegression(C=0.1, max_iter=500, penalty='l1', random_state=1,\n",
       "                   solver='saga', tol=0.01)</pre></div></div></div></div></div></div><div class=\"sk-parallel-item\"><div class=\"sk-item\"><div class=\"sk-label-container\"><div class=\"sk-label sk-toggleable\"><label>clf2</label></div></div><div class=\"sk-serial\"><div class=\"sk-item\"><div class=\"sk-estimator sk-toggleable\"><input class=\"sk-toggleable__control sk-hidden--visually\" id=\"761b20cc-2594-4185-9414-c2543b331d18\" type=\"checkbox\" ><label class=\"sk-toggleable__label\" for=\"761b20cc-2594-4185-9414-c2543b331d18\">KNeighborsClassifier</label><div class=\"sk-toggleable__content\"><pre>KNeighborsClassifier(n_neighbors=470, p=9)</pre></div></div></div></div></div></div><div class=\"sk-parallel-item\"><div class=\"sk-item\"><div class=\"sk-label-container\"><div class=\"sk-label sk-toggleable\"><label>clf3</label></div></div><div class=\"sk-serial\"><div class=\"sk-item\"><div class=\"sk-estimator sk-toggleable\"><input class=\"sk-toggleable__control sk-hidden--visually\" id=\"46afba06-8da5-4b6f-9a39-b84da7d2f6a0\" type=\"checkbox\" ><label class=\"sk-toggleable__label\" for=\"46afba06-8da5-4b6f-9a39-b84da7d2f6a0\">SVC</label><div class=\"sk-toggleable__content\"><pre>SVC(C=0.3, gamma='auto', kernel='linear', random_state=1)</pre></div></div></div></div></div></div><div class=\"sk-parallel-item\"><div class=\"sk-item\"><div class=\"sk-label-container\"><div class=\"sk-label sk-toggleable\"><label>clf4</label></div></div><div class=\"sk-serial\"><div class=\"sk-item\"><div class=\"sk-estimator sk-toggleable\"><input class=\"sk-toggleable__control sk-hidden--visually\" id=\"f5b5e2da-2af9-4e61-879c-5a47f81fad2d\" type=\"checkbox\" ><label class=\"sk-toggleable__label\" for=\"f5b5e2da-2af9-4e61-879c-5a47f81fad2d\">RidgeClassifier</label><div class=\"sk-toggleable__content\"><pre>RidgeClassifier(alpha=20, normalize=True, random_state=1)</pre></div></div></div></div></div></div></div></div></div></div>"
      ],
      "text/plain": [
       "VotingClassifier(estimators=[('clf1',\n",
       "                              LogisticRegression(C=0.1, max_iter=500,\n",
       "                                                 penalty='l1', random_state=1,\n",
       "                                                 solver='saga', tol=0.01)),\n",
       "                             ('clf2',\n",
       "                              KNeighborsClassifier(n_neighbors=470, p=9)),\n",
       "                             ('clf3',\n",
       "                              SVC(C=0.3, gamma='auto', kernel='linear',\n",
       "                                  random_state=1)),\n",
       "                             ('clf4',\n",
       "                              RidgeClassifier(alpha=20, normalize=True,\n",
       "                                              random_state=1))],\n",
       "                 weights=(2, 1, 1, 1))"
      ]
     },
     "execution_count": 114,
     "metadata": {},
     "output_type": "execute_result"
    }
   ],
   "source": [
    "from sklearn.ensemble import VotingClassifier\n",
    "\n",
    "vc = VotingClassifier([('clf1', lr), ('clf2', knc), ('clf3', svm), ('clf4', rcf)], voting='hard', weights=(2, 1, 1, 1))\n",
    "vc"
   ]
  },
  {
   "cell_type": "markdown",
   "id": "56180b19-ebd0-46f6-8933-c3bbce9f6173",
   "metadata": {
    "tags": []
   },
   "source": [
    "### Splitting data & Training model (แบ่งข้อมูลเป็นส่วนที่ให้ model เรียน กะส่วนที่ให้ model ลองตอบ/ลองเดา)"
   ]
  },
  {
   "cell_type": "code",
   "execution_count": 115,
   "id": "50ee27d9-65fc-43b9-959f-ce02b6bdc682",
   "metadata": {},
   "outputs": [
    {
     "data": {
      "text/html": [
       "<style>#sk-a6f9d5ad-8603-4481-8599-f86e2afb115e {color: black;background-color: white;}#sk-a6f9d5ad-8603-4481-8599-f86e2afb115e pre{padding: 0;}#sk-a6f9d5ad-8603-4481-8599-f86e2afb115e div.sk-toggleable {background-color: white;}#sk-a6f9d5ad-8603-4481-8599-f86e2afb115e label.sk-toggleable__label {cursor: pointer;display: block;width: 100%;margin-bottom: 0;padding: 0.3em;box-sizing: border-box;text-align: center;}#sk-a6f9d5ad-8603-4481-8599-f86e2afb115e div.sk-toggleable__content {max-height: 0;max-width: 0;overflow: hidden;text-align: left;background-color: #f0f8ff;}#sk-a6f9d5ad-8603-4481-8599-f86e2afb115e div.sk-toggleable__content pre {margin: 0.2em;color: black;border-radius: 0.25em;background-color: #f0f8ff;}#sk-a6f9d5ad-8603-4481-8599-f86e2afb115e input.sk-toggleable__control:checked~div.sk-toggleable__content {max-height: 200px;max-width: 100%;overflow: auto;}#sk-a6f9d5ad-8603-4481-8599-f86e2afb115e div.sk-estimator input.sk-toggleable__control:checked~label.sk-toggleable__label {background-color: #d4ebff;}#sk-a6f9d5ad-8603-4481-8599-f86e2afb115e div.sk-label input.sk-toggleable__control:checked~label.sk-toggleable__label {background-color: #d4ebff;}#sk-a6f9d5ad-8603-4481-8599-f86e2afb115e input.sk-hidden--visually {border: 0;clip: rect(1px 1px 1px 1px);clip: rect(1px, 1px, 1px, 1px);height: 1px;margin: -1px;overflow: hidden;padding: 0;position: absolute;width: 1px;}#sk-a6f9d5ad-8603-4481-8599-f86e2afb115e div.sk-estimator {font-family: monospace;background-color: #f0f8ff;border: 1px dotted black;border-radius: 0.25em;box-sizing: border-box;margin-bottom: 0.5em;}#sk-a6f9d5ad-8603-4481-8599-f86e2afb115e div.sk-estimator:hover {background-color: #d4ebff;}#sk-a6f9d5ad-8603-4481-8599-f86e2afb115e div.sk-parallel-item::after {content: \"\";width: 100%;border-bottom: 1px solid gray;flex-grow: 1;}#sk-a6f9d5ad-8603-4481-8599-f86e2afb115e div.sk-label:hover label.sk-toggleable__label {background-color: #d4ebff;}#sk-a6f9d5ad-8603-4481-8599-f86e2afb115e div.sk-serial::before {content: \"\";position: absolute;border-left: 1px solid gray;box-sizing: border-box;top: 2em;bottom: 0;left: 50%;}#sk-a6f9d5ad-8603-4481-8599-f86e2afb115e div.sk-serial {display: flex;flex-direction: column;align-items: center;background-color: white;padding-right: 0.2em;padding-left: 0.2em;}#sk-a6f9d5ad-8603-4481-8599-f86e2afb115e div.sk-item {z-index: 1;}#sk-a6f9d5ad-8603-4481-8599-f86e2afb115e div.sk-parallel {display: flex;align-items: stretch;justify-content: center;background-color: white;}#sk-a6f9d5ad-8603-4481-8599-f86e2afb115e div.sk-parallel::before {content: \"\";position: absolute;border-left: 1px solid gray;box-sizing: border-box;top: 2em;bottom: 0;left: 50%;}#sk-a6f9d5ad-8603-4481-8599-f86e2afb115e div.sk-parallel-item {display: flex;flex-direction: column;position: relative;background-color: white;}#sk-a6f9d5ad-8603-4481-8599-f86e2afb115e div.sk-parallel-item:first-child::after {align-self: flex-end;width: 50%;}#sk-a6f9d5ad-8603-4481-8599-f86e2afb115e div.sk-parallel-item:last-child::after {align-self: flex-start;width: 50%;}#sk-a6f9d5ad-8603-4481-8599-f86e2afb115e div.sk-parallel-item:only-child::after {width: 0;}#sk-a6f9d5ad-8603-4481-8599-f86e2afb115e div.sk-dashed-wrapped {border: 1px dashed gray;margin: 0 0.4em 0.5em 0.4em;box-sizing: border-box;padding-bottom: 0.4em;background-color: white;position: relative;}#sk-a6f9d5ad-8603-4481-8599-f86e2afb115e div.sk-label label {font-family: monospace;font-weight: bold;background-color: white;display: inline-block;line-height: 1.2em;}#sk-a6f9d5ad-8603-4481-8599-f86e2afb115e div.sk-label-container {position: relative;z-index: 2;text-align: center;}#sk-a6f9d5ad-8603-4481-8599-f86e2afb115e div.sk-container {display: inline-block;position: relative;}</style><div id=\"sk-a6f9d5ad-8603-4481-8599-f86e2afb115e\" class\"sk-top-container\"><div class=\"sk-container\"><div class=\"sk-item sk-dashed-wrapped\"><div class=\"sk-label-container\"><div class=\"sk-label sk-toggleable\"><input class=\"sk-toggleable__control sk-hidden--visually\" id=\"3a71aca9-ac1f-4fd8-97a4-c83511bbf8f3\" type=\"checkbox\" ><label class=\"sk-toggleable__label\" for=\"3a71aca9-ac1f-4fd8-97a4-c83511bbf8f3\">Pipeline</label><div class=\"sk-toggleable__content\"><pre>Pipeline(steps=[('columntransformer',\n",
       "                 ColumnTransformer(transformers=[('pipeline',\n",
       "                                                  Pipeline(steps=[('simpleimputer',\n",
       "                                                                   SimpleImputer()),\n",
       "                                                                  ('minmaxscaler',\n",
       "                                                                   MinMaxScaler())]),\n",
       "                                                  <sklearn.compose._column_transformer.make_column_selector object at 0x000001FA7B9B2A90>)])),\n",
       "                ('rfe',\n",
       "                 RFE(estimator=LogisticRegression(C=0.1, max_iter=500,\n",
       "                                                  penalty='l1', random_state=1,\n",
       "                                                  solver='saga', tol=0.01),\n",
       "                     n_features_to_select=10)),\n",
       "                ('ridgeclassifier',\n",
       "                 RidgeClassifier(alpha=20, normalize=True, random_state=1))])</pre></div></div></div><div class=\"sk-serial\"><div class=\"sk-item sk-dashed-wrapped\"><div class=\"sk-label-container\"><div class=\"sk-label sk-toggleable\"><input class=\"sk-toggleable__control sk-hidden--visually\" id=\"2b97c902-e489-4634-8602-dc239a899dad\" type=\"checkbox\" ><label class=\"sk-toggleable__label\" for=\"2b97c902-e489-4634-8602-dc239a899dad\">columntransformer: ColumnTransformer</label><div class=\"sk-toggleable__content\"><pre>ColumnTransformer(transformers=[('pipeline',\n",
       "                                 Pipeline(steps=[('simpleimputer',\n",
       "                                                  SimpleImputer()),\n",
       "                                                 ('minmaxscaler',\n",
       "                                                  MinMaxScaler())]),\n",
       "                                 <sklearn.compose._column_transformer.make_column_selector object at 0x000001FA7B9B2A90>)])</pre></div></div></div><div class=\"sk-parallel\"><div class=\"sk-parallel-item\"><div class=\"sk-item\"><div class=\"sk-label-container\"><div class=\"sk-label sk-toggleable\"><input class=\"sk-toggleable__control sk-hidden--visually\" id=\"9346bd2a-97bc-4762-8f78-6b5f34a22085\" type=\"checkbox\" ><label class=\"sk-toggleable__label\" for=\"9346bd2a-97bc-4762-8f78-6b5f34a22085\">pipeline</label><div class=\"sk-toggleable__content\"><pre><sklearn.compose._column_transformer.make_column_selector object at 0x000001FA7B9B2A90></pre></div></div></div><div class=\"sk-serial\"><div class=\"sk-item\"><div class=\"sk-serial\"><div class=\"sk-item\"><div class=\"sk-estimator sk-toggleable\"><input class=\"sk-toggleable__control sk-hidden--visually\" id=\"9db419df-3876-442b-8e38-6034eb1e2203\" type=\"checkbox\" ><label class=\"sk-toggleable__label\" for=\"9db419df-3876-442b-8e38-6034eb1e2203\">SimpleImputer</label><div class=\"sk-toggleable__content\"><pre>SimpleImputer()</pre></div></div></div><div class=\"sk-item\"><div class=\"sk-estimator sk-toggleable\"><input class=\"sk-toggleable__control sk-hidden--visually\" id=\"cdfcbcd7-2d7f-454c-800e-61807235217e\" type=\"checkbox\" ><label class=\"sk-toggleable__label\" for=\"cdfcbcd7-2d7f-454c-800e-61807235217e\">MinMaxScaler</label><div class=\"sk-toggleable__content\"><pre>MinMaxScaler()</pre></div></div></div></div></div></div></div></div></div></div><div class=\"sk-item sk-dashed-wrapped\"><div class=\"sk-label-container\"><div class=\"sk-label sk-toggleable\"><input class=\"sk-toggleable__control sk-hidden--visually\" id=\"2daf6b38-1b4b-4378-82ae-13eb4d442ee5\" type=\"checkbox\" ><label class=\"sk-toggleable__label\" for=\"2daf6b38-1b4b-4378-82ae-13eb4d442ee5\">rfe: RFE</label><div class=\"sk-toggleable__content\"><pre>RFE(estimator=LogisticRegression(C=0.1, max_iter=500, penalty='l1',\n",
       "                                 random_state=1, solver='saga', tol=0.01),\n",
       "    n_features_to_select=10)</pre></div></div></div><div class=\"sk-parallel\"><div class=\"sk-parallel-item\"><div class=\"sk-item\"><div class=\"sk-serial\"><div class=\"sk-item\"><div class=\"sk-estimator sk-toggleable\"><input class=\"sk-toggleable__control sk-hidden--visually\" id=\"cae07849-0fbf-44e1-ba73-8efe43fbe396\" type=\"checkbox\" ><label class=\"sk-toggleable__label\" for=\"cae07849-0fbf-44e1-ba73-8efe43fbe396\">LogisticRegression</label><div class=\"sk-toggleable__content\"><pre>LogisticRegression(C=0.1, max_iter=500, penalty='l1', random_state=1,\n",
       "                   solver='saga', tol=0.01)</pre></div></div></div></div></div></div></div></div><div class=\"sk-item\"><div class=\"sk-estimator sk-toggleable\"><input class=\"sk-toggleable__control sk-hidden--visually\" id=\"9c6c1a7b-893c-4eae-9f1d-c7527e1fc851\" type=\"checkbox\" ><label class=\"sk-toggleable__label\" for=\"9c6c1a7b-893c-4eae-9f1d-c7527e1fc851\">RidgeClassifier</label><div class=\"sk-toggleable__content\"><pre>RidgeClassifier(alpha=20, normalize=True, random_state=1)</pre></div></div></div></div></div></div></div>"
      ],
      "text/plain": [
       "Pipeline(steps=[('columntransformer',\n",
       "                 ColumnTransformer(transformers=[('pipeline',\n",
       "                                                  Pipeline(steps=[('simpleimputer',\n",
       "                                                                   SimpleImputer()),\n",
       "                                                                  ('minmaxscaler',\n",
       "                                                                   MinMaxScaler())]),\n",
       "                                                  <sklearn.compose._column_transformer.make_column_selector object at 0x000001FA7B9B2A90>)])),\n",
       "                ('rfe',\n",
       "                 RFE(estimator=LogisticRegression(C=0.1, max_iter=500,\n",
       "                                                  penalty='l1', random_state=1,\n",
       "                                                  solver='saga', tol=0.01),\n",
       "                     n_features_to_select=10)),\n",
       "                ('ridgeclassifier',\n",
       "                 RidgeClassifier(alpha=20, normalize=True, random_state=1))])"
      ]
     },
     "execution_count": 115,
     "metadata": {},
     "output_type": "execute_result"
    }
   ],
   "source": [
    "from sklearn.model_selection import train_test_split\n",
    "\n",
    "pipe = make_pipeline(preprocessor, rfe, vc)\n",
    "pipe_lr = make_pipeline(preprocessor, rfe, lr)\n",
    "pipe_knc = make_pipeline(preprocessor, rfe, knc)\n",
    "pipe_svm = make_pipeline(preprocessor, rfe, svm)\n",
    "pipe_rcf = make_pipeline(preprocessor, rfe, rcf)\n",
    "\n",
    "X_train, X_test, y_train, y_test = train_test_split(X, y, test_size=0.15, random_state=0, shuffle=False)\n",
    " \n",
    "pipe.fit(X_train, y_train)\n",
    "pipe_lr.fit(X_train, y_train)\n",
    "pipe_knc.fit(X_train, y_train)\n",
    "pipe_svm.fit(X_train, y_train)\n",
    "pipe_rcf.fit(X_train, y_train)"
   ]
  },
  {
   "cell_type": "markdown",
   "id": "d958fbf9-cf29-4d8d-b05a-126fdb9f15cc",
   "metadata": {},
   "source": [
    "### Prediction (ให้ model ลองเดาค่า y_test จาก X_test และ f(X) ที่เคยเรียนไปตอน Training)"
   ]
  },
  {
   "cell_type": "code",
   "execution_count": 116,
   "id": "9c61f4f3-c30b-495a-a69b-9ef07aaab99e",
   "metadata": {},
   "outputs": [],
   "source": [
    "y_pred = pipe.predict(X_test)\n",
    "y_pred_lr = pipe_lr.predict(X_test)\n",
    "y_pred_knc = pipe_knc.predict(X_test)\n",
    "y_pred_svm = pipe_svm.predict(X_test)\n",
    "y_pred_rcf = pipe_rcf.predict(X_test)"
   ]
  },
  {
   "cell_type": "markdown",
   "id": "55a8d63e-8263-43ef-8543-67a22051c9c1",
   "metadata": {
    "tags": []
   },
   "source": [
    "### Evaluation (วัดประสิทธิภาพของ model จากค่า Accuracy Score และ Confusion Matrix)"
   ]
  },
  {
   "cell_type": "code",
   "execution_count": 117,
   "id": "0b534264-b7e3-48fb-aaa5-62a663c4f0cc",
   "metadata": {},
   "outputs": [
    {
     "name": "stdout",
     "output_type": "stream",
     "text": [
      "Voting\n",
      "[[  0 134]\n",
      " [  0 168]]\n",
      "Accuracy Score: 0.5562913907284768\n",
      "lr\n",
      "[[  0 134]\n",
      " [  0 168]]\n",
      "Accuracy Score: 0.5562913907284768\n",
      "knc\n",
      "[[  0 134]\n",
      " [  0 168]]\n",
      "Accuracy Score: 0.5562913907284768\n",
      "svm\n",
      "[[  0 134]\n",
      " [  0 168]]\n",
      "Accuracy Score: 0.5562913907284768\n",
      "rcf\n",
      "[[  0 134]\n",
      " [  0 168]]\n",
      "Accuracy Score: 0.5562913907284768\n"
     ]
    }
   ],
   "source": [
    "from sklearn.model_selection import cross_val_score \n",
    "from sklearn.metrics import confusion_matrix\n",
    "from sklearn.metrics import plot_confusion_matrix\n",
    "from sklearn import metrics\n",
    "\n",
    "# print('Voting')\n",
    "# print(pipe.score(X_test, y_test))\n",
    "# print('lr')\n",
    "# print(pipe_lr.score(X_test, y_test))\n",
    "# print('knc')\n",
    "# print(pipe_knc.score(X_test, y_test))\n",
    "# print('svm')\n",
    "# print(pipe_svm.score(X_test, y_test))\n",
    "# print('rcf')\n",
    "# print(pipe_rcf.score(X_test, y_test))\n",
    "\n",
    "cm = confusion_matrix(y_test, y_pred)\n",
    "print('Voting')\n",
    "print(cm)\n",
    "print('Accuracy Score:', metrics.accuracy_score(y_test, y_pred))\n",
    "\n",
    "# disp = plot_confusion_matrix(pipe, X_test, y_test)\n",
    "# plt.show()\n",
    "\n",
    "cm_lr = confusion_matrix(y_test, y_pred_lr)\n",
    "print('lr')\n",
    "print(cm_lr)\n",
    "print('Accuracy Score:', metrics.accuracy_score(y_test, y_pred_lr))\n",
    "\n",
    "cm_knc = confusion_matrix(y_test, y_pred_knc)\n",
    "print('knc')\n",
    "print(cm_knc)\n",
    "print('Accuracy Score:', metrics.accuracy_score(y_test, y_pred_knc))\n",
    "\n",
    "cm_svm = confusion_matrix(y_test, y_pred_svm)\n",
    "print('svm')\n",
    "print(cm_svm)\n",
    "print('Accuracy Score:', metrics.accuracy_score(y_test, y_pred_svm))\n",
    "\n",
    "cm_rcf = confusion_matrix(y_test, y_pred)\n",
    "print('rcf')\n",
    "print(cm_rcf)\n",
    "print('Accuracy Score:', metrics.accuracy_score(y_test, y_pred_rcf))\n",
    "\n",
    "# pipe.named_steps.rfe.ranking_\n",
    "\n",
    "# CV mean score\n",
    "# print(cross_val_score(vc, X, y, cv=7 ,scoring='accuracy').mean())\n"
   ]
  },
  {
   "cell_type": "markdown",
   "id": "63c60571-4a20-4624-833f-5785c57b385a",
   "metadata": {
    "tags": []
   },
   "source": [
    " ## __<font color=green> Parameter Tuning </font>__"
   ]
  },
  {
   "cell_type": "code",
   "execution_count": 24,
   "id": "88751972-9aa8-4962-99e8-2a3f8adee763",
   "metadata": {},
   "outputs": [
    {
     "name": "stdout",
     "output_type": "stream",
     "text": [
      "{}\n"
     ]
    },
    {
     "data": {
      "text/plain": [
       "0.5551155115511552"
      ]
     },
     "execution_count": 24,
     "metadata": {},
     "output_type": "execute_result"
    }
   ],
   "source": [
    "\n",
    "from sklearn.model_selection import GridSearchCV, RandomizedSearchCV\n",
    "\n",
    "params = {}\n",
    "# params = {'voting': ['hard', 'soft'],\n",
    "#          'weights': [(1, 1, 1, 1), (2, 1 ,1 ,1), (1, 2, 1, 1)]}\n",
    "# params['columntransformer__pipeline__simpleimputer__add_indicator'] = [False, True]\n",
    "# params['columntransformer__pipeline__simpleimputer__strategy'] = ['mean', 'median', 'most_frequent', 'constant']\n",
    "# params['logisticregression__C'] = [0.1, 1, 10]\n",
    "# params['logisticregression__penalty'] = ['l1', 'l2']\n",
    "# params['logisticregression__solver'] = ['sag', 'saga']\n",
    "# params['kneighborsclassifier__n_neighbors'] = [510, 500, 560]\n",
    "# params['kneighborsclassifier__leaf_size'] = [30, 20, 50, 10]\n",
    "# params['kneighborsclassifier__p'] = [9, 10, 11 ]\n",
    "# params['kneighborsclassifier__weights'] = ['distance', 'uniform']\n",
    "# params['kneighborsclassifier__algorithm'] = ['auto', 'brute', 'ball_tree' ]\n",
    "# params['svc__C'] = [0.1, 0.2, 0.3]\n",
    "# params['svc__degree'] = [3, 6, 9, 12]\n",
    "# params['svc__kernel'] = ['linear', 'poly', 'rbf', 'sigmoid', 'precomputed']\n",
    "# params['svc__gamma'] = ['scale', 'auto']\n",
    "# params['ridgeclassifier__alpha'] = [1, 20, 33, 35,37,40]\n",
    "# params['ridgeclassifier__solver'] = ['auto', 'svd', 'cholesky', 'lsqr', 'sparse_cg', 'sag', 'saga', 'lbfgs']\n",
    "# params['ridgeclassifier__fit_intercept'] = [True, False]\n",
    "# params['ridgeclassifier__normalize'] = [True, False]\n",
    "# params['votingclassifier__voting'] = ['hard', 'soft']\n",
    "# params['votingclassifier__weights'] = [(1, 1, 1, 1), (2, 1 ,1 ,1), (1, 2, 1, 1), (2, 2, 1, 1)]\n",
    "\n",
    "grid = GridSearchCV(pipe_rcf, params, cv=5, scoring='accuracy')\n",
    "grid.fit(X, y)\n",
    "print(grid.best_params_)\n",
    "grid.best_score_\n",
    "\n",
    "# rand = RandomizedSearchCV(pipe, params, cv=5, n_iter=10, scoring='r2')\n",
    "# rand.fit(X, y)\n",
    "# print(rand.best_params_)\n",
    "# rand.best_score_\n",
    "\n",
    "#0.5428743883595157"
   ]
  },
  {
   "cell_type": "markdown",
   "id": "0ab77cd7-c9ad-40d7-91b7-07702f691d88",
   "metadata": {
    "tags": []
   },
   "source": [
    " ## __<font color=green> Regression </font>__"
   ]
  },
  {
   "cell_type": "markdown",
   "id": "72dc9600-4b70-4517-94b9-15a565ff8efe",
   "metadata": {
    "tags": []
   },
   "source": [
    "### Preprocessing data (เตรียมข้อมูลก่อนนำไปใช้ ตย.แก้ข้อมูล NaN, ปรับสัดส่วนข้อมูล/Scaling)"
   ]
  },
  {
   "cell_type": "code",
   "execution_count": 118,
   "id": "503da2ba-f616-4b97-b9a6-2aa99484c191",
   "metadata": {},
   "outputs": [],
   "source": [
    "temp = df.dropna().copy()\n",
    "\n",
    "generateYRegression(temp)\n",
    "\n",
    "temp['Y_Reg'].iloc[-1] = np.mean(temp['Y_Reg'].iloc[-15:])\n",
    "\n",
    "X = temp.iloc[:, 6:-2]\n",
    "y = temp.loc[:, 'Y_Reg']\n",
    "\n",
    "from sklearn.impute import SimpleImputer\n",
    "from sklearn.preprocessing import StandardScaler, MinMaxScaler\n",
    "from sklearn.compose import make_column_selector, make_column_transformer\n",
    "from sklearn.pipeline import make_pipeline\n",
    "\n",
    "imp = SimpleImputer(strategy='mean', add_indicator=False)\n",
    "scaler = MinMaxScaler()\n",
    "\n",
    "num_cols = make_column_selector(dtype_include='number')\n",
    "\n",
    "preprocessor = make_column_transformer((make_pipeline(imp, scaler), num_cols))"
   ]
  },
  {
   "cell_type": "markdown",
   "id": "f9ff0533-ced4-443e-bca1-5a69c7ced5f9",
   "metadata": {
    "tags": []
   },
   "source": [
    "### Create Models (สร้าง Models)"
   ]
  },
  {
   "cell_type": "code",
   "execution_count": 119,
   "id": "cc0e13a7-4743-4c65-a5be-96e3c461ab0b",
   "metadata": {},
   "outputs": [],
   "source": [
    "from sklearn.ensemble import RandomForestRegressor\n",
    "from sklearn.svm import SVR\n",
    "from sklearn.ensemble import VotingRegressor\n",
    "\n",
    "rfr = RandomForestRegressor(n_estimators=250, criterion='absolute_error', max_features=7, min_samples_leaf=6, min_samples_split=3, random_state=0)\n",
    "svr = SVR(degree=3, kernel='linear', gamma='scale', C=12.5, coef0=0)\n",
    "vr = VotingRegressor([('reg1', rfr), ('reg2', svr)],  weights=(1, 2))"
   ]
  },
  {
   "cell_type": "markdown",
   "id": "a72b6855-51dc-4f05-b262-6449bc02787b",
   "metadata": {
    "tags": []
   },
   "source": [
    "### Features Selection (เลือก Features ที่จะใช้เป็น X)"
   ]
  },
  {
   "cell_type": "code",
   "execution_count": 120,
   "id": "786c1b4d-f7ee-4582-b0e3-fc3c6f2ab54d",
   "metadata": {},
   "outputs": [],
   "source": [
    "from sklearn.feature_selection import RFE\n",
    "# RFE(modelที่ใช้เลือก, จำนวน Features ที่จะให้เลือก=N)\n",
    "rfe = RFE(svr, n_features_to_select=10)"
   ]
  },
  {
   "cell_type": "markdown",
   "id": "450d62c7-e398-467f-ade0-53a9a156fa80",
   "metadata": {
    "tags": []
   },
   "source": [
    "### Splitting data & Training model (แบ่งข้อมูลเป็นส่วนที่ให้ model เรียน กะส่วนที่ให้ model ลองตอบ/ลองเดา)"
   ]
  },
  {
   "cell_type": "code",
   "execution_count": 121,
   "id": "c6f94ada-7879-4b0b-93ab-03be65ce51df",
   "metadata": {},
   "outputs": [
    {
     "data": {
      "text/html": [
       "<style>#sk-d7bd178a-3605-4ee1-ad4f-48cb740787a6 {color: black;background-color: white;}#sk-d7bd178a-3605-4ee1-ad4f-48cb740787a6 pre{padding: 0;}#sk-d7bd178a-3605-4ee1-ad4f-48cb740787a6 div.sk-toggleable {background-color: white;}#sk-d7bd178a-3605-4ee1-ad4f-48cb740787a6 label.sk-toggleable__label {cursor: pointer;display: block;width: 100%;margin-bottom: 0;padding: 0.3em;box-sizing: border-box;text-align: center;}#sk-d7bd178a-3605-4ee1-ad4f-48cb740787a6 div.sk-toggleable__content {max-height: 0;max-width: 0;overflow: hidden;text-align: left;background-color: #f0f8ff;}#sk-d7bd178a-3605-4ee1-ad4f-48cb740787a6 div.sk-toggleable__content pre {margin: 0.2em;color: black;border-radius: 0.25em;background-color: #f0f8ff;}#sk-d7bd178a-3605-4ee1-ad4f-48cb740787a6 input.sk-toggleable__control:checked~div.sk-toggleable__content {max-height: 200px;max-width: 100%;overflow: auto;}#sk-d7bd178a-3605-4ee1-ad4f-48cb740787a6 div.sk-estimator input.sk-toggleable__control:checked~label.sk-toggleable__label {background-color: #d4ebff;}#sk-d7bd178a-3605-4ee1-ad4f-48cb740787a6 div.sk-label input.sk-toggleable__control:checked~label.sk-toggleable__label {background-color: #d4ebff;}#sk-d7bd178a-3605-4ee1-ad4f-48cb740787a6 input.sk-hidden--visually {border: 0;clip: rect(1px 1px 1px 1px);clip: rect(1px, 1px, 1px, 1px);height: 1px;margin: -1px;overflow: hidden;padding: 0;position: absolute;width: 1px;}#sk-d7bd178a-3605-4ee1-ad4f-48cb740787a6 div.sk-estimator {font-family: monospace;background-color: #f0f8ff;border: 1px dotted black;border-radius: 0.25em;box-sizing: border-box;margin-bottom: 0.5em;}#sk-d7bd178a-3605-4ee1-ad4f-48cb740787a6 div.sk-estimator:hover {background-color: #d4ebff;}#sk-d7bd178a-3605-4ee1-ad4f-48cb740787a6 div.sk-parallel-item::after {content: \"\";width: 100%;border-bottom: 1px solid gray;flex-grow: 1;}#sk-d7bd178a-3605-4ee1-ad4f-48cb740787a6 div.sk-label:hover label.sk-toggleable__label {background-color: #d4ebff;}#sk-d7bd178a-3605-4ee1-ad4f-48cb740787a6 div.sk-serial::before {content: \"\";position: absolute;border-left: 1px solid gray;box-sizing: border-box;top: 2em;bottom: 0;left: 50%;}#sk-d7bd178a-3605-4ee1-ad4f-48cb740787a6 div.sk-serial {display: flex;flex-direction: column;align-items: center;background-color: white;padding-right: 0.2em;padding-left: 0.2em;}#sk-d7bd178a-3605-4ee1-ad4f-48cb740787a6 div.sk-item {z-index: 1;}#sk-d7bd178a-3605-4ee1-ad4f-48cb740787a6 div.sk-parallel {display: flex;align-items: stretch;justify-content: center;background-color: white;}#sk-d7bd178a-3605-4ee1-ad4f-48cb740787a6 div.sk-parallel::before {content: \"\";position: absolute;border-left: 1px solid gray;box-sizing: border-box;top: 2em;bottom: 0;left: 50%;}#sk-d7bd178a-3605-4ee1-ad4f-48cb740787a6 div.sk-parallel-item {display: flex;flex-direction: column;position: relative;background-color: white;}#sk-d7bd178a-3605-4ee1-ad4f-48cb740787a6 div.sk-parallel-item:first-child::after {align-self: flex-end;width: 50%;}#sk-d7bd178a-3605-4ee1-ad4f-48cb740787a6 div.sk-parallel-item:last-child::after {align-self: flex-start;width: 50%;}#sk-d7bd178a-3605-4ee1-ad4f-48cb740787a6 div.sk-parallel-item:only-child::after {width: 0;}#sk-d7bd178a-3605-4ee1-ad4f-48cb740787a6 div.sk-dashed-wrapped {border: 1px dashed gray;margin: 0 0.4em 0.5em 0.4em;box-sizing: border-box;padding-bottom: 0.4em;background-color: white;position: relative;}#sk-d7bd178a-3605-4ee1-ad4f-48cb740787a6 div.sk-label label {font-family: monospace;font-weight: bold;background-color: white;display: inline-block;line-height: 1.2em;}#sk-d7bd178a-3605-4ee1-ad4f-48cb740787a6 div.sk-label-container {position: relative;z-index: 2;text-align: center;}#sk-d7bd178a-3605-4ee1-ad4f-48cb740787a6 div.sk-container {display: inline-block;position: relative;}</style><div id=\"sk-d7bd178a-3605-4ee1-ad4f-48cb740787a6\" class\"sk-top-container\"><div class=\"sk-container\"><div class=\"sk-item sk-dashed-wrapped\"><div class=\"sk-label-container\"><div class=\"sk-label sk-toggleable\"><input class=\"sk-toggleable__control sk-hidden--visually\" id=\"3f1b5bca-2d2a-49ec-8519-ccca8c67367e\" type=\"checkbox\" ><label class=\"sk-toggleable__label\" for=\"3f1b5bca-2d2a-49ec-8519-ccca8c67367e\">Pipeline</label><div class=\"sk-toggleable__content\"><pre>Pipeline(steps=[('columntransformer',\n",
       "                 ColumnTransformer(transformers=[('pipeline',\n",
       "                                                  Pipeline(steps=[('simpleimputer',\n",
       "                                                                   SimpleImputer()),\n",
       "                                                                  ('minmaxscaler',\n",
       "                                                                   MinMaxScaler())]),\n",
       "                                                  <sklearn.compose._column_transformer.make_column_selector object at 0x000001FA7B81CCD0>)])),\n",
       "                ('rfe',\n",
       "                 RFE(estimator=SVR(C=12.5, coef0=0, kernel='linear'),\n",
       "                     n_features_to_select=10)),\n",
       "                ('votingregressor',\n",
       "                 VotingRegressor(estimators=[('reg1',\n",
       "                                              RandomForestRegressor(criterion='absolute_error',\n",
       "                                                                    max_features=7,\n",
       "                                                                    min_samples_leaf=6,\n",
       "                                                                    min_samples_split=3,\n",
       "                                                                    n_estimators=250,\n",
       "                                                                    random_state=0)),\n",
       "                                             ('reg2',\n",
       "                                              SVR(C=12.5, coef0=0,\n",
       "                                                  kernel='linear'))],\n",
       "                                 weights=(1, 2)))])</pre></div></div></div><div class=\"sk-serial\"><div class=\"sk-item sk-dashed-wrapped\"><div class=\"sk-label-container\"><div class=\"sk-label sk-toggleable\"><input class=\"sk-toggleable__control sk-hidden--visually\" id=\"7978e10e-a798-4239-94b5-d4c11449eaaf\" type=\"checkbox\" ><label class=\"sk-toggleable__label\" for=\"7978e10e-a798-4239-94b5-d4c11449eaaf\">columntransformer: ColumnTransformer</label><div class=\"sk-toggleable__content\"><pre>ColumnTransformer(transformers=[('pipeline',\n",
       "                                 Pipeline(steps=[('simpleimputer',\n",
       "                                                  SimpleImputer()),\n",
       "                                                 ('minmaxscaler',\n",
       "                                                  MinMaxScaler())]),\n",
       "                                 <sklearn.compose._column_transformer.make_column_selector object at 0x000001FA7B81CCD0>)])</pre></div></div></div><div class=\"sk-parallel\"><div class=\"sk-parallel-item\"><div class=\"sk-item\"><div class=\"sk-label-container\"><div class=\"sk-label sk-toggleable\"><input class=\"sk-toggleable__control sk-hidden--visually\" id=\"b47172ce-bbb4-4854-96da-151e25aea128\" type=\"checkbox\" ><label class=\"sk-toggleable__label\" for=\"b47172ce-bbb4-4854-96da-151e25aea128\">pipeline</label><div class=\"sk-toggleable__content\"><pre><sklearn.compose._column_transformer.make_column_selector object at 0x000001FA7B81CCD0></pre></div></div></div><div class=\"sk-serial\"><div class=\"sk-item\"><div class=\"sk-serial\"><div class=\"sk-item\"><div class=\"sk-estimator sk-toggleable\"><input class=\"sk-toggleable__control sk-hidden--visually\" id=\"7c55c28b-7573-40c2-912a-4efeec429899\" type=\"checkbox\" ><label class=\"sk-toggleable__label\" for=\"7c55c28b-7573-40c2-912a-4efeec429899\">SimpleImputer</label><div class=\"sk-toggleable__content\"><pre>SimpleImputer()</pre></div></div></div><div class=\"sk-item\"><div class=\"sk-estimator sk-toggleable\"><input class=\"sk-toggleable__control sk-hidden--visually\" id=\"60a099a2-69e1-442a-9ad3-550624bd12f4\" type=\"checkbox\" ><label class=\"sk-toggleable__label\" for=\"60a099a2-69e1-442a-9ad3-550624bd12f4\">MinMaxScaler</label><div class=\"sk-toggleable__content\"><pre>MinMaxScaler()</pre></div></div></div></div></div></div></div></div></div></div><div class=\"sk-item sk-dashed-wrapped\"><div class=\"sk-label-container\"><div class=\"sk-label sk-toggleable\"><input class=\"sk-toggleable__control sk-hidden--visually\" id=\"da740b77-00e8-4174-8ab0-cc5e3c978c40\" type=\"checkbox\" ><label class=\"sk-toggleable__label\" for=\"da740b77-00e8-4174-8ab0-cc5e3c978c40\">rfe: RFE</label><div class=\"sk-toggleable__content\"><pre>RFE(estimator=SVR(C=12.5, coef0=0, kernel='linear'), n_features_to_select=10)</pre></div></div></div><div class=\"sk-parallel\"><div class=\"sk-parallel-item\"><div class=\"sk-item\"><div class=\"sk-serial\"><div class=\"sk-item\"><div class=\"sk-estimator sk-toggleable\"><input class=\"sk-toggleable__control sk-hidden--visually\" id=\"f9cc53fa-224e-4c7e-8f6b-341f12237794\" type=\"checkbox\" ><label class=\"sk-toggleable__label\" for=\"f9cc53fa-224e-4c7e-8f6b-341f12237794\">SVR</label><div class=\"sk-toggleable__content\"><pre>SVR(C=12.5, coef0=0, kernel='linear')</pre></div></div></div></div></div></div></div></div><div class=\"sk-item sk-dashed-wrapped\"><div class=\"sk-label-container\"><div class=\"sk-label sk-toggleable\"><input class=\"sk-toggleable__control sk-hidden--visually\" id=\"02dea41a-b22f-4ade-b351-4de91929b28e\" type=\"checkbox\" ><label class=\"sk-toggleable__label\" for=\"02dea41a-b22f-4ade-b351-4de91929b28e\">votingregressor: VotingRegressor</label><div class=\"sk-toggleable__content\"><pre>VotingRegressor(estimators=[('reg1',\n",
       "                             RandomForestRegressor(criterion='absolute_error',\n",
       "                                                   max_features=7,\n",
       "                                                   min_samples_leaf=6,\n",
       "                                                   min_samples_split=3,\n",
       "                                                   n_estimators=250,\n",
       "                                                   random_state=0)),\n",
       "                            ('reg2', SVR(C=12.5, coef0=0, kernel='linear'))],\n",
       "                weights=(1, 2))</pre></div></div></div><div class=\"sk-parallel\"><div class=\"sk-parallel-item\"><div class=\"sk-item\"><div class=\"sk-label-container\"><div class=\"sk-label sk-toggleable\"><label>reg1</label></div></div><div class=\"sk-serial\"><div class=\"sk-item\"><div class=\"sk-estimator sk-toggleable\"><input class=\"sk-toggleable__control sk-hidden--visually\" id=\"62f517c4-9934-42f2-911b-0b79baea2395\" type=\"checkbox\" ><label class=\"sk-toggleable__label\" for=\"62f517c4-9934-42f2-911b-0b79baea2395\">RandomForestRegressor</label><div class=\"sk-toggleable__content\"><pre>RandomForestRegressor(criterion='absolute_error', max_features=7,\n",
       "                      min_samples_leaf=6, min_samples_split=3, n_estimators=250,\n",
       "                      random_state=0)</pre></div></div></div></div></div></div><div class=\"sk-parallel-item\"><div class=\"sk-item\"><div class=\"sk-label-container\"><div class=\"sk-label sk-toggleable\"><label>reg2</label></div></div><div class=\"sk-serial\"><div class=\"sk-item\"><div class=\"sk-estimator sk-toggleable\"><input class=\"sk-toggleable__control sk-hidden--visually\" id=\"6d5f26cf-f2ae-4cb0-be46-f9e96311a9d6\" type=\"checkbox\" ><label class=\"sk-toggleable__label\" for=\"6d5f26cf-f2ae-4cb0-be46-f9e96311a9d6\">SVR</label><div class=\"sk-toggleable__content\"><pre>SVR(C=12.5, coef0=0, kernel='linear')</pre></div></div></div></div></div></div></div></div></div></div></div></div>"
      ],
      "text/plain": [
       "Pipeline(steps=[('columntransformer',\n",
       "                 ColumnTransformer(transformers=[('pipeline',\n",
       "                                                  Pipeline(steps=[('simpleimputer',\n",
       "                                                                   SimpleImputer()),\n",
       "                                                                  ('minmaxscaler',\n",
       "                                                                   MinMaxScaler())]),\n",
       "                                                  <sklearn.compose._column_transformer.make_column_selector object at 0x000001FA7B81CCD0>)])),\n",
       "                ('rfe',\n",
       "                 RFE(estimator=SVR(C=12.5, coef0=0, kernel='linear'),\n",
       "                     n_features_to_select=10)),\n",
       "                ('votingregressor',\n",
       "                 VotingRegressor(estimators=[('reg1',\n",
       "                                              RandomForestRegressor(criterion='absolute_error',\n",
       "                                                                    max_features=7,\n",
       "                                                                    min_samples_leaf=6,\n",
       "                                                                    min_samples_split=3,\n",
       "                                                                    n_estimators=250,\n",
       "                                                                    random_state=0)),\n",
       "                                             ('reg2',\n",
       "                                              SVR(C=12.5, coef0=0,\n",
       "                                                  kernel='linear'))],\n",
       "                                 weights=(1, 2)))])"
      ]
     },
     "execution_count": 121,
     "metadata": {},
     "output_type": "execute_result"
    }
   ],
   "source": [
    "from sklearn.model_selection import train_test_split\n",
    "\n",
    "pipe_rfr = make_pipeline(preprocessor, rfe, rfr)\n",
    "pipe_svr = make_pipeline(preprocessor, rfe, svr)\n",
    "pipe_vr = make_pipeline(preprocessor, rfe, vr)\n",
    "\n",
    "X_train, X_test, y_train, y_test = train_test_split(X, y, test_size=0.15, random_state=0, shuffle=False)\n",
    " \n",
    "pipe_rfr.fit(X_train, y_train)\n",
    "pipe_svr.fit(X_train, y_train)\n",
    "pipe_vr.fit(X_train, y_train)"
   ]
  },
  {
   "cell_type": "markdown",
   "id": "08c57b18-2b6d-4214-9027-d6cadee576cb",
   "metadata": {
    "tags": []
   },
   "source": [
    "### Prediction (ให้ model ลองเดาค่า y_test จาก X_test และ f(X) ที่เคยเรียนไปต้อน Training)"
   ]
  },
  {
   "cell_type": "code",
   "execution_count": 122,
   "id": "1f22bf83-33fd-475e-acd2-bf92764def0c",
   "metadata": {},
   "outputs": [],
   "source": [
    "y_pred_rfr = pipe_rfr.predict(X_test)\n",
    "y_pred_svr = pipe_svr.predict(X_test)\n",
    "y_pred_vr = pipe_vr.predict(X_test)"
   ]
  },
  {
   "cell_type": "markdown",
   "id": "203389ab-550a-4812-afae-1a617552ef2f",
   "metadata": {
    "tags": []
   },
   "source": [
    "### Evaluation (วัดประสิทธิภาพของ model จากค่า RMSE, R2 score, Accuracy Score และ Confusion Matrix)"
   ]
  },
  {
   "cell_type": "code",
   "execution_count": 123,
   "id": "9e4d32dd-8bc6-4cc2-ab76-1b3bdde18af7",
   "metadata": {},
   "outputs": [
    {
     "data": {
      "image/png": "[encoded data removed]",
      "text/plain": [
       "<Figure size 432x288 with 1 Axes>"
      ]
     },
     "metadata": {},
     "output_type": "display_data"
    },
    {
     "name": "stdout",
     "output_type": "stream",
     "text": [
      "RMSE:      1067.6780513011997\n",
      "R2 score:  0.2755175665581385\n",
      "[[ 92  27]\n",
      " [ 28 125]]\n",
      "Accuracy Score: 0.7977941176470589\n"
     ]
    },
    {
     "data": {
      "image/png": "[encoded data removed]",
      "text/plain": [
       "<Figure size 432x288 with 1 Axes>"
      ]
     },
     "metadata": {},
     "output_type": "display_data"
    },
    {
     "name": "stdout",
     "output_type": "stream",
     "text": [
      "RMSE:      497.3381326344795\n",
      "R2 score:  0.8428006490324202\n",
      "[[117   2]\n",
      " [ 10 143]]\n",
      "Accuracy Score: 0.9558823529411765\n"
     ]
    },
    {
     "data": {
      "image/png": "[encoded data removed]",
      "text/plain": [
       "<Figure size 432x288 with 1 Axes>"
      ]
     },
     "metadata": {},
     "output_type": "display_data"
    },
    {
     "name": "stdout",
     "output_type": "stream",
     "text": [
      "RMSE:      569.6011733772439\n",
      "R2 score:  0.7937998483073287\n",
      "[[110   9]\n",
      " [ 10 143]]\n",
      "Accuracy Score: 0.9301470588235294\n"
     ]
    }
   ],
   "source": [
    "from sklearn import metrics\n",
    "from sklearn.metrics import mean_squared_error, r2_score\n",
    "from sklearn.metrics import confusion_matrix\n",
    "\n",
    "X_test_len = len(X_test)\n",
    "\n",
    "# y_test_scaled = scaler.fit_transform(y_test)\n",
    "plt.plot(range(X_test_len), y_test)\n",
    "plt.plot(range(X_test_len), y_pred_rfr,'r');\n",
    "plt.show()\n",
    "\n",
    "rmse = mean_squared_error(y_test, y_pred_rfr, squared=False)\n",
    "r2 = r2_score(y_test, y_pred_rfr)\n",
    "\n",
    "print('RMSE:     ', rmse)  # Root mean squared error\n",
    "print('R2 score: ', r2)\n",
    "\n",
    "pred_len = len(y_pred_rfr)\n",
    "test_rfr = pd.DataFrame(data=y_pred_rfr, columns=['y_pred'])\n",
    "test_rfr['y_pred'] = y_pred_rfr\n",
    "\n",
    "test_rfr['Real'] = temp.iloc[-pred_len:, -2].values\n",
    "\n",
    "generateUpDown2(test_rfr)\n",
    "\n",
    "cm = confusion_matrix(test_rfr['Real'], test_rfr['Forecast'])\n",
    "print(cm)\n",
    "print('Accuracy Score:', metrics.accuracy_score(test_rfr['Real'], test_rfr['Forecast']))\n",
    "\n",
    "# ***SVR***\n",
    "\n",
    "plt.plot(range(X_test_len), y_test)\n",
    "plt.plot(range(X_test_len), y_pred_svr,'r');\n",
    "plt.show()\n",
    "\n",
    "rmse_svr = mean_squared_error(y_test, y_pred_svr, squared=False)\n",
    "r2_svr = r2_score(y_test, y_pred_svr)\n",
    "\n",
    "print('RMSE:     ', rmse_svr)  # Root mean squared error\n",
    "print('R2 score: ', r2_svr)\n",
    "\n",
    "pred_len = len(y_pred_svr)\n",
    "test_svr = pd.DataFrame(data=y_pred_svr, columns=['y_pred'])\n",
    "test_svr['y_pred'] = y_pred_svr\n",
    "test_svr['Real'] = temp.iloc[-pred_len:, -2].values\n",
    "\n",
    "generateUpDown2(test_svr)\n",
    "\n",
    "cm_svr = confusion_matrix(test_svr['Real'], test_svr['Forecast'])\n",
    "print(cm_svr)\n",
    "print('Accuracy Score:', metrics.accuracy_score(test_svr['Real'], test_svr['Forecast']))\n",
    "\n",
    "# ***Voting regessor***\n",
    "\n",
    "plt.plot(range(X_test_len), y_test)\n",
    "plt.plot(range(X_test_len), y_pred_vr,'r');\n",
    "plt.show()\n",
    "\n",
    "rmse = mean_squared_error(y_test, y_pred_vr, squared=False)\n",
    "r2 = r2_score(y_test, y_pred_vr)\n",
    "\n",
    "print('RMSE:     ', rmse)  # Root mean squared error\n",
    "print('R2 score: ', r2)\n",
    "\n",
    "pred_len2 = len(y_pred_vr)\n",
    "test = pd.DataFrame(data=y_pred_vr, columns=['y_pred'])\n",
    "test['y_pred'] = y_pred_vr\n",
    "test['Real'] = temp.iloc[-pred_len2:, -2].values\n",
    "\n",
    "generateUpDown2(test)\n",
    "\n",
    "cm = confusion_matrix(test['Real'], test['Forecast'])\n",
    "print(cm)\n",
    "print('Accuracy Score:', metrics.accuracy_score(test['Real'], test['Forecast']))\n",
    "\n",
    "# --------------------------------------------------------------------------------------------------------------------------------------------------\n",
    "\n",
    "# # ***TRY REAL DATA*** \n",
    "\n",
    "# True_predict = pdr.get_data_yahoo(\"^N225\", start=\"2020-11-01\", end=\"2021-11-25\")\n",
    "\n",
    "# close = True_predict['Close']\n",
    "\n",
    "# True_predict['EMA50'] = talib.MA(close, timeperiod=50, matype=0)\n",
    "\n",
    "# True_predict_drop = True_predict.dropna()\n",
    "\n",
    "# generateUpDown(True_predict_drop)\n",
    "\n",
    "# X = True_predict_drop.iloc[:, 6].values\n",
    "\n",
    "# X = scaler.fit_transform(X[:, np.newaxis])\n",
    "\n",
    "\n",
    "# y_true = svr.predict(X) \n",
    "\n",
    "# test_true = pd.DataFrame(data=y_true, columns=['y_true'])\n",
    "# test_true['y_pred'] = y_true\n",
    "# test_true['Real'] = True_predict_drop.iloc[:, -1].values\n",
    "\n",
    "# generateUpDown2(test_true)\n",
    "\n",
    "# # test_true\n",
    "\n",
    "# cm = confusion_matrix(test_true['Real'], test_true['Forecast'])\n",
    "# print(cm)\n",
    "# print('Accuracy Score:', metrics.accuracy_score(test_true['Real'], test_true['Forecast']))\n"
   ]
  },
  {
   "cell_type": "code",
   "execution_count": 124,
   "id": "652c124c-c716-40b3-8ebf-d9a535daaffe",
   "metadata": {},
   "outputs": [
    {
     "name": "stdout",
     "output_type": "stream",
     "text": [
      "[[ 11 123]\n",
      " [ 10 158]]\n",
      "Accuracy Score: 0.5596026490066225\n"
     ]
    }
   ],
   "source": [
    "N225_answer = pd.DataFrame()\n",
    "N225_answer['y_pred_lr'] = y_pred_lr\n",
    "N225_answer['y_pred_knc'] = y_pred_knc\n",
    "N225_answer['y_pred_svm'] = y_pred_svm\n",
    "N225_answer['y_pred_rcf'] = y_pred_rcf\n",
    "N225_answer['y_pred_rfr'] = test_rfr.iloc[:, -1]\n",
    "N225_answer['y_pred_svr'] = test_svr.iloc[:, -1]\n",
    "N225_answer['y_pred_vr'] = test.iloc[:, -1]\n",
    "summitAnswer(N225_answer)\n",
    "N225_answer['Real'] = df.tail(len(N225_answer)).iloc[:, -1].values\n",
    "cm = confusion_matrix(N225_answer['Real'], N225_answer['Answer'])\n",
    "print(cm)\n",
    "print('Accuracy Score:', metrics.accuracy_score(N225_answer['Real'], N225_answer['Answer']))"
   ]
  },
  {
   "cell_type": "markdown",
   "id": "677c945d-ae46-4530-a40c-a9c9f2646866",
   "metadata": {
    "tags": []
   },
   "source": [
    " ## __<font color=green> Parameter Tuning </font>__ "
   ]
  },
  {
   "cell_type": "code",
   "execution_count": null,
   "id": "ab1893f7-58e5-46ce-ba63-bb7ff865023e",
   "metadata": {
    "tags": []
   },
   "outputs": [],
   "source": [
    "\n",
    "from sklearn.model_selection import GridSearchCV, RandomizedSearchCV\n",
    "\n",
    "params = {}\n",
    "# params = {'voting': ['hard', 'soft'],\n",
    "#          'weights': [(1, 1, 1, 1), (2, 1 ,1 ,1), (1, 2, 1, 1)]}\n",
    "# params['columntransformer__pipeline__simpleimputer__add_indicator'] = [False, True]\n",
    "# params['columntransformer__pipeline__simpleimputer__strategy'] = ['mean', 'median', 'most_frequent', 'constant']\n",
    "\n",
    "# params['randomforestregressor__n_estimators'] = [250, 500, 150]\n",
    "# params['randomforestregressor__criterion'] = ['squared_error', 'absolute_error', 'poisson']\n",
    "\n",
    "# params['svr__degree'] = [3, 6, 9, 12]\n",
    "# params['svr__kernel'] = ['linear', 'poly', 'rbf', 'sigmoid', 'precomputed']\n",
    "# params['svr__gamma'] = ['scale', 'auto']\n",
    "\n",
    "# params['votingregressor__voting'] = ['hard', 'soft']\n",
    "# params['votingregressor__weights'] = [(1, 1, 1, 1), (2, 1 ,1 ,1), (1, 2, 1, 1), (2, 2, 1, 1)]\n",
    "\n",
    "grid = GridSearchCV(pipe_rfr, params, cv=5, scoring='r2')\n",
    "grid.fit(X, y)\n",
    "print(grid.best_params_)\n",
    "grid.best_score_\n",
    "\n",
    "# rand = RandomizedSearchCV(pipe_rfr, params, cv=5, scoring='r2')\n",
    "# rand.fit(X, y)\n",
    "# print(rand.best_params_)\n",
    "# rand.best_score_\n",
    "\n",
    "#0.5428743883595157"
   ]
  },
  {
   "cell_type": "markdown",
   "id": "a0f171eb-e071-4475-9e64-e336dc0ae733",
   "metadata": {
    "tags": []
   },
   "source": [
    "# __SSE Composite Index (000001.SS)__"
   ]
  },
  {
   "cell_type": "markdown",
   "id": "1a4c544a-ed82-4686-8398-30d0d8330b8d",
   "metadata": {
    "tags": []
   },
   "source": [
    " ## __<font color=green>Classification</font>__"
   ]
  },
  {
   "cell_type": "markdown",
   "id": "22f0e5e1-3a00-4fe3-a274-6bff878987b9",
   "metadata": {
    "tags": []
   },
   "source": [
    "### PREPARE DATA FOR INDICATOR (เตรียมข้อมูลสำหรับนำไปใส่ Indicator)"
   ]
  },
  {
   "cell_type": "code",
   "execution_count": 125,
   "id": "5490859a-311e-43df-91f0-b9a47fd73884",
   "metadata": {},
   "outputs": [],
   "source": [
    "open = SSE['Open']\n",
    "high = SSE['High']\n",
    "low = SSE['Low']\n",
    "close = SSE['Close']\n",
    "volume = SSE['Volume']"
   ]
  },
  {
   "cell_type": "markdown",
   "id": "9e2ccba1-262c-45d5-b1bb-4dc124268fb4",
   "metadata": {
    "tags": []
   },
   "source": [
    "### CREATE INDICATORS (สร้าง Indicator จากข้อมูล open, high, low, close, volume)"
   ]
  },
  {
   "cell_type": "markdown",
   "id": "cd8ae940-c093-4ee7-9abb-3e2af1031ed5",
   "metadata": {
    "tags": []
   },
   "source": [
    "#### Overlap Studies"
   ]
  },
  {
   "cell_type": "code",
   "execution_count": 126,
   "id": "78a4d701-4e46-4e39-a38e-acb2d2f9f2f7",
   "metadata": {},
   "outputs": [],
   "source": [
    "SSE['EMA50'] = talib.MA(close, timeperiod=50, matype=0)\n",
    "SSE['EMA200'] = talib.MA(close, timeperiod=200, matype=0)"
   ]
  },
  {
   "cell_type": "markdown",
   "id": "c763020a-1460-42e1-9c16-ae528aad494d",
   "metadata": {},
   "source": [
    "#### Momentum Indicators"
   ]
  },
  {
   "cell_type": "code",
   "execution_count": 127,
   "id": "72b128f0-ca17-40a9-8881-c2f5c0cba2e3",
   "metadata": {},
   "outputs": [],
   "source": [
    "SSE['ADX'] = talib.ADX(high, low, close, timeperiod=14)\n",
    "SSE['AROON_DOWN'], SSE['AROON_UP'] = talib.AROON(high, low, timeperiod=14)\n",
    "SSE['CCI'] = talib.CCI(high, low, close, timeperiod=14)\n",
    "SSE['MACD'], SSE['MACD_SIGNAL'], SSE['MACD_HIST'] = talib.MACD(close, fastperiod=12, slowperiod=26, signalperiod=9)\n",
    "SSE['MINUS_DI'] = talib.MINUS_DI(high, low, close, timeperiod=14)\n",
    "SSE['PLUS_DI'] = talib.PLUS_DI(high, low, close, timeperiod=14)\n",
    "SSE['RSI'] = talib.RSI(close, timeperiod=14)\n",
    "SSE['SLOWK'], SSE['SLOWD'] = talib.STOCH(high, low, close, fastk_period=5, slowk_period=3, slowk_matype=0, slowd_period=3, slowd_matype=0)\n",
    "SSE['ROC'] = talib.ROC(close, timeperiod=10)"
   ]
  },
  {
   "cell_type": "markdown",
   "id": "fc59fb58-9d6a-47e4-990e-c7b6a2d6e4fd",
   "metadata": {},
   "source": [
    "#### Volume Indicators"
   ]
  },
  {
   "cell_type": "code",
   "execution_count": 128,
   "id": "f7f0e33c-14e6-46a9-ad66-fa37bf5f6198",
   "metadata": {},
   "outputs": [],
   "source": [
    "SSE['AD'] = talib.AD(high, low, close, volume)\n",
    "SSE['OBV'] = talib.OBV(close, volume)"
   ]
  },
  {
   "cell_type": "markdown",
   "id": "c1e0e488-f9f3-4f7b-8075-2592c0d814e0",
   "metadata": {
    "tags": []
   },
   "source": [
    "#### Volatility Indicator"
   ]
  },
  {
   "cell_type": "code",
   "execution_count": 129,
   "id": "09dd7546-c3a7-47d7-9c18-4444d416ff9d",
   "metadata": {
    "tags": []
   },
   "outputs": [],
   "source": [
    "SSE['ATR'] = talib.ATR(high, low, close, timeperiod=14)"
   ]
  },
  {
   "cell_type": "markdown",
   "id": "92092910-7180-4234-b825-761f62d79bf9",
   "metadata": {},
   "source": [
    "#### Pattern Recognition"
   ]
  },
  {
   "cell_type": "code",
   "execution_count": 130,
   "id": "376e37b9-a9bb-4c31-bd31-bd5740184c01",
   "metadata": {},
   "outputs": [],
   "source": [
    "SSE['CDLMORNINGSTAR'] = talib.CDLMORNINGSTAR(open, high, low, close, penetration=0)\n",
    "SSE['CDLENGULFING'] = talib.CDLENGULFING(open, high, low, close)"
   ]
  },
  {
   "cell_type": "markdown",
   "id": "652ee20f-1186-41ec-8821-38c766ece0ff",
   "metadata": {
    "tags": []
   },
   "source": [
    "### Preprocessing data (เตรียมข้อมูลก่อนนำไปใช้ ตย.แก้ข้อมูล NaN, ปรับสัดส่วนข้อมูล/Scaling)"
   ]
  },
  {
   "cell_type": "code",
   "execution_count": 131,
   "id": "432e34b3-a227-4855-ac2c-a90fbdb1ba94",
   "metadata": {},
   "outputs": [],
   "source": [
    "df = SSE\n",
    "\n",
    "# สร้างค่าที่บอกว่าวัน่อไปราคาหุ้นขึ้นหรือลง ขึ้น = 1, ลง = 0)\n",
    "generateUpDown(df)\n",
    "\n",
    "# สร้างค่า X(open, high, low, close, volume, indicators) และ y(Up, Down)\n",
    "temp = df.dropna()\n",
    "X = temp.iloc[:, 0:-1]\n",
    "y = temp.iloc[:, -1]\n",
    "\n",
    "from sklearn.impute import SimpleImputer\n",
    "from sklearn.preprocessing import StandardScaler, MinMaxScaler\n",
    "from sklearn.compose import make_column_selector, make_column_transformer\n",
    "from sklearn.pipeline import make_pipeline\n",
    "\n",
    "imp = SimpleImputer(strategy='mean', add_indicator=False)\n",
    "scaler = MinMaxScaler()\n",
    "\n",
    "num_cols = make_column_selector(dtype_include='number')\n",
    "\n",
    "preprocessor = make_column_transformer((make_pipeline(imp, scaler), num_cols))"
   ]
  },
  {
   "cell_type": "code",
   "execution_count": 132,
   "id": "77fe37f8-a14d-4bab-b96c-5ad3fb1ed05b",
   "metadata": {},
   "outputs": [
    {
     "data": {
      "text/html": [
       "<div>\n",
       "<style scoped>\n",
       "    .dataframe tbody tr th:only-of-type {\n",
       "        vertical-align: middle;\n",
       "    }\n",
       "\n",
       "    .dataframe tbody tr th {\n",
       "        vertical-align: top;\n",
       "    }\n",
       "\n",
       "    .dataframe thead th {\n",
       "        text-align: right;\n",
       "    }\n",
       "</style>\n",
       "<table border=\"1\" class=\"dataframe\">\n",
       "  <thead>\n",
       "    <tr style=\"text-align: right;\">\n",
       "      <th></th>\n",
       "      <th>High</th>\n",
       "      <th>Low</th>\n",
       "      <th>Open</th>\n",
       "      <th>Close</th>\n",
       "      <th>Volume</th>\n",
       "      <th>Adj Close</th>\n",
       "      <th>EMA50</th>\n",
       "      <th>EMA200</th>\n",
       "      <th>ADX</th>\n",
       "      <th>AROON_DOWN</th>\n",
       "      <th>...</th>\n",
       "      <th>SLOWK</th>\n",
       "      <th>SLOWD</th>\n",
       "      <th>ROC</th>\n",
       "      <th>AD</th>\n",
       "      <th>OBV</th>\n",
       "      <th>ATR</th>\n",
       "      <th>CDLMORNINGSTAR</th>\n",
       "      <th>CDLENGULFING</th>\n",
       "      <th>Forecast</th>\n",
       "      <th>Real</th>\n",
       "    </tr>\n",
       "    <tr>\n",
       "      <th>Date</th>\n",
       "      <th></th>\n",
       "      <th></th>\n",
       "      <th></th>\n",
       "      <th></th>\n",
       "      <th></th>\n",
       "      <th></th>\n",
       "      <th></th>\n",
       "      <th></th>\n",
       "      <th></th>\n",
       "      <th></th>\n",
       "      <th></th>\n",
       "      <th></th>\n",
       "      <th></th>\n",
       "      <th></th>\n",
       "      <th></th>\n",
       "      <th></th>\n",
       "      <th></th>\n",
       "      <th></th>\n",
       "      <th></th>\n",
       "      <th></th>\n",
       "      <th></th>\n",
       "    </tr>\n",
       "  </thead>\n",
       "  <tbody>\n",
       "    <tr>\n",
       "      <th>2012-01-04</th>\n",
       "      <td>2217.520020</td>\n",
       "      <td>2168.644043</td>\n",
       "      <td>2211.995117</td>\n",
       "      <td>2169.389893</td>\n",
       "      <td>49200.0</td>\n",
       "      <td>2169.389893</td>\n",
       "      <td>NaN</td>\n",
       "      <td>NaN</td>\n",
       "      <td>NaN</td>\n",
       "      <td>NaN</td>\n",
       "      <td>...</td>\n",
       "      <td>NaN</td>\n",
       "      <td>NaN</td>\n",
       "      <td>NaN</td>\n",
       "      <td>-4.769841e+04</td>\n",
       "      <td>49200.0</td>\n",
       "      <td>NaN</td>\n",
       "      <td>0</td>\n",
       "      <td>0</td>\n",
       "      <td>0</td>\n",
       "      <td>0</td>\n",
       "    </tr>\n",
       "    <tr>\n",
       "      <th>2012-01-05</th>\n",
       "      <td>2183.404053</td>\n",
       "      <td>2145.555908</td>\n",
       "      <td>2160.896973</td>\n",
       "      <td>2148.451904</td>\n",
       "      <td>58800.0</td>\n",
       "      <td>2148.451904</td>\n",
       "      <td>NaN</td>\n",
       "      <td>NaN</td>\n",
       "      <td>NaN</td>\n",
       "      <td>NaN</td>\n",
       "      <td>...</td>\n",
       "      <td>NaN</td>\n",
       "      <td>NaN</td>\n",
       "      <td>NaN</td>\n",
       "      <td>-9.750011e+04</td>\n",
       "      <td>-9600.0</td>\n",
       "      <td>NaN</td>\n",
       "      <td>0</td>\n",
       "      <td>0</td>\n",
       "      <td>0</td>\n",
       "      <td>1</td>\n",
       "    </tr>\n",
       "    <tr>\n",
       "      <th>2012-01-06</th>\n",
       "      <td>2164.322021</td>\n",
       "      <td>2132.625977</td>\n",
       "      <td>2148.146973</td>\n",
       "      <td>2163.395020</td>\n",
       "      <td>50600.0</td>\n",
       "      <td>2163.395020</td>\n",
       "      <td>NaN</td>\n",
       "      <td>NaN</td>\n",
       "      <td>NaN</td>\n",
       "      <td>NaN</td>\n",
       "      <td>...</td>\n",
       "      <td>NaN</td>\n",
       "      <td>NaN</td>\n",
       "      <td>NaN</td>\n",
       "      <td>-4.985986e+04</td>\n",
       "      <td>41000.0</td>\n",
       "      <td>NaN</td>\n",
       "      <td>0</td>\n",
       "      <td>100</td>\n",
       "      <td>0</td>\n",
       "      <td>1</td>\n",
       "    </tr>\n",
       "    <tr>\n",
       "      <th>2012-01-09</th>\n",
       "      <td>2226.218018</td>\n",
       "      <td>2148.452881</td>\n",
       "      <td>2164.740967</td>\n",
       "      <td>2225.889893</td>\n",
       "      <td>76800.0</td>\n",
       "      <td>2225.889893</td>\n",
       "      <td>NaN</td>\n",
       "      <td>NaN</td>\n",
       "      <td>NaN</td>\n",
       "      <td>NaN</td>\n",
       "      <td>...</td>\n",
       "      <td>NaN</td>\n",
       "      <td>NaN</td>\n",
       "      <td>NaN</td>\n",
       "      <td>2.629203e+04</td>\n",
       "      <td>117800.0</td>\n",
       "      <td>NaN</td>\n",
       "      <td>0</td>\n",
       "      <td>0</td>\n",
       "      <td>0</td>\n",
       "      <td>1</td>\n",
       "    </tr>\n",
       "    <tr>\n",
       "      <th>2012-01-10</th>\n",
       "      <td>2288.627930</td>\n",
       "      <td>2218.274902</td>\n",
       "      <td>2221.832031</td>\n",
       "      <td>2285.743896</td>\n",
       "      <td>109600.0</td>\n",
       "      <td>2285.743896</td>\n",
       "      <td>NaN</td>\n",
       "      <td>NaN</td>\n",
       "      <td>NaN</td>\n",
       "      <td>NaN</td>\n",
       "      <td>...</td>\n",
       "      <td>NaN</td>\n",
       "      <td>NaN</td>\n",
       "      <td>NaN</td>\n",
       "      <td>1.269062e+05</td>\n",
       "      <td>227400.0</td>\n",
       "      <td>NaN</td>\n",
       "      <td>0</td>\n",
       "      <td>0</td>\n",
       "      <td>0</td>\n",
       "      <td>0</td>\n",
       "    </tr>\n",
       "    <tr>\n",
       "      <th>...</th>\n",
       "      <td>...</td>\n",
       "      <td>...</td>\n",
       "      <td>...</td>\n",
       "      <td>...</td>\n",
       "      <td>...</td>\n",
       "      <td>...</td>\n",
       "      <td>...</td>\n",
       "      <td>...</td>\n",
       "      <td>...</td>\n",
       "      <td>...</td>\n",
       "      <td>...</td>\n",
       "      <td>...</td>\n",
       "      <td>...</td>\n",
       "      <td>...</td>\n",
       "      <td>...</td>\n",
       "      <td>...</td>\n",
       "      <td>...</td>\n",
       "      <td>...</td>\n",
       "      <td>...</td>\n",
       "      <td>...</td>\n",
       "      <td>...</td>\n",
       "    </tr>\n",
       "    <tr>\n",
       "      <th>2019-12-25</th>\n",
       "      <td>2988.291992</td>\n",
       "      <td>2970.656982</td>\n",
       "      <td>2980.427979</td>\n",
       "      <td>2981.881104</td>\n",
       "      <td>175700.0</td>\n",
       "      <td>2981.881104</td>\n",
       "      <td>2938.233262</td>\n",
       "      <td>2965.760865</td>\n",
       "      <td>23.718514</td>\n",
       "      <td>0.000000</td>\n",
       "      <td>...</td>\n",
       "      <td>21.825721</td>\n",
       "      <td>32.772960</td>\n",
       "      <td>1.964977</td>\n",
       "      <td>6.404680e+07</td>\n",
       "      <td>42487200.0</td>\n",
       "      <td>26.694833</td>\n",
       "      <td>0</td>\n",
       "      <td>0</td>\n",
       "      <td>0</td>\n",
       "      <td>1</td>\n",
       "    </tr>\n",
       "    <tr>\n",
       "      <th>2019-12-26</th>\n",
       "      <td>3007.354980</td>\n",
       "      <td>2980.396973</td>\n",
       "      <td>2981.249023</td>\n",
       "      <td>3007.354980</td>\n",
       "      <td>182400.0</td>\n",
       "      <td>3007.354980</td>\n",
       "      <td>2938.833760</td>\n",
       "      <td>2965.659761</td>\n",
       "      <td>23.924256</td>\n",
       "      <td>0.000000</td>\n",
       "      <td>...</td>\n",
       "      <td>44.174142</td>\n",
       "      <td>32.088445</td>\n",
       "      <td>3.143569</td>\n",
       "      <td>6.422920e+07</td>\n",
       "      <td>42669600.0</td>\n",
       "      <td>26.713631</td>\n",
       "      <td>0</td>\n",
       "      <td>0</td>\n",
       "      <td>0</td>\n",
       "      <td>0</td>\n",
       "    </tr>\n",
       "    <tr>\n",
       "      <th>2019-12-27</th>\n",
       "      <td>3036.113037</td>\n",
       "      <td>3003.631104</td>\n",
       "      <td>3006.852051</td>\n",
       "      <td>3005.035889</td>\n",
       "      <td>247100.0</td>\n",
       "      <td>3005.035889</td>\n",
       "      <td>2940.171680</td>\n",
       "      <td>2965.413705</td>\n",
       "      <td>24.842004</td>\n",
       "      <td>7.142857</td>\n",
       "      <td>...</td>\n",
       "      <td>53.633155</td>\n",
       "      <td>39.877672</td>\n",
       "      <td>1.258893</td>\n",
       "      <td>6.400348e+07</td>\n",
       "      <td>42422500.0</td>\n",
       "      <td>27.125652</td>\n",
       "      <td>0</td>\n",
       "      <td>0</td>\n",
       "      <td>0</td>\n",
       "      <td>1</td>\n",
       "    </tr>\n",
       "    <tr>\n",
       "      <th>2019-12-30</th>\n",
       "      <td>3041.396973</td>\n",
       "      <td>2983.343994</td>\n",
       "      <td>2998.168945</td>\n",
       "      <td>3040.023926</td>\n",
       "      <td>248100.0</td>\n",
       "      <td>3040.023926</td>\n",
       "      <td>2942.179756</td>\n",
       "      <td>2965.103329</td>\n",
       "      <td>24.763481</td>\n",
       "      <td>0.000000</td>\n",
       "      <td>...</td>\n",
       "      <td>75.737535</td>\n",
       "      <td>57.848277</td>\n",
       "      <td>1.864059</td>\n",
       "      <td>6.423984e+07</td>\n",
       "      <td>42670600.0</td>\n",
       "      <td>29.334747</td>\n",
       "      <td>0</td>\n",
       "      <td>100</td>\n",
       "      <td>0</td>\n",
       "      <td>1</td>\n",
       "    </tr>\n",
       "    <tr>\n",
       "      <th>2019-12-31</th>\n",
       "      <td>3051.677002</td>\n",
       "      <td>3030.511963</td>\n",
       "      <td>3036.385986</td>\n",
       "      <td>3050.124023</td>\n",
       "      <td>217400.0</td>\n",
       "      <td>3050.124023</td>\n",
       "      <td>2944.094639</td>\n",
       "      <td>2964.821859</td>\n",
       "      <td>24.959749</td>\n",
       "      <td>7.142857</td>\n",
       "      <td>...</td>\n",
       "      <td>85.105695</td>\n",
       "      <td>71.492128</td>\n",
       "      <td>0.916547</td>\n",
       "      <td>6.442534e+07</td>\n",
       "      <td>42888000.0</td>\n",
       "      <td>28.751197</td>\n",
       "      <td>0</td>\n",
       "      <td>0</td>\n",
       "      <td>0</td>\n",
       "      <td>0</td>\n",
       "    </tr>\n",
       "  </tbody>\n",
       "</table>\n",
       "<p>1942 rows × 28 columns</p>\n",
       "</div>"
      ],
      "text/plain": [
       "                   High          Low         Open        Close    Volume  \\\n",
       "Date                                                                       \n",
       "2012-01-04  2217.520020  2168.644043  2211.995117  2169.389893   49200.0   \n",
       "2012-01-05  2183.404053  2145.555908  2160.896973  2148.451904   58800.0   \n",
       "2012-01-06  2164.322021  2132.625977  2148.146973  2163.395020   50600.0   \n",
       "2012-01-09  2226.218018  2148.452881  2164.740967  2225.889893   76800.0   \n",
       "2012-01-10  2288.627930  2218.274902  2221.832031  2285.743896  109600.0   \n",
       "...                 ...          ...          ...          ...       ...   \n",
       "2019-12-25  2988.291992  2970.656982  2980.427979  2981.881104  175700.0   \n",
       "2019-12-26  3007.354980  2980.396973  2981.249023  3007.354980  182400.0   \n",
       "2019-12-27  3036.113037  3003.631104  3006.852051  3005.035889  247100.0   \n",
       "2019-12-30  3041.396973  2983.343994  2998.168945  3040.023926  248100.0   \n",
       "2019-12-31  3051.677002  3030.511963  3036.385986  3050.124023  217400.0   \n",
       "\n",
       "              Adj Close        EMA50       EMA200        ADX  AROON_DOWN  ...  \\\n",
       "Date                                                                      ...   \n",
       "2012-01-04  2169.389893          NaN          NaN        NaN         NaN  ...   \n",
       "2012-01-05  2148.451904          NaN          NaN        NaN         NaN  ...   \n",
       "2012-01-06  2163.395020          NaN          NaN        NaN         NaN  ...   \n",
       "2012-01-09  2225.889893          NaN          NaN        NaN         NaN  ...   \n",
       "2012-01-10  2285.743896          NaN          NaN        NaN         NaN  ...   \n",
       "...                 ...          ...          ...        ...         ...  ...   \n",
       "2019-12-25  2981.881104  2938.233262  2965.760865  23.718514    0.000000  ...   \n",
       "2019-12-26  3007.354980  2938.833760  2965.659761  23.924256    0.000000  ...   \n",
       "2019-12-27  3005.035889  2940.171680  2965.413705  24.842004    7.142857  ...   \n",
       "2019-12-30  3040.023926  2942.179756  2965.103329  24.763481    0.000000  ...   \n",
       "2019-12-31  3050.124023  2944.094639  2964.821859  24.959749    7.142857  ...   \n",
       "\n",
       "                SLOWK      SLOWD       ROC            AD         OBV  \\\n",
       "Date                                                                   \n",
       "2012-01-04        NaN        NaN       NaN -4.769841e+04     49200.0   \n",
       "2012-01-05        NaN        NaN       NaN -9.750011e+04     -9600.0   \n",
       "2012-01-06        NaN        NaN       NaN -4.985986e+04     41000.0   \n",
       "2012-01-09        NaN        NaN       NaN  2.629203e+04    117800.0   \n",
       "2012-01-10        NaN        NaN       NaN  1.269062e+05    227400.0   \n",
       "...               ...        ...       ...           ...         ...   \n",
       "2019-12-25  21.825721  32.772960  1.964977  6.404680e+07  42487200.0   \n",
       "2019-12-26  44.174142  32.088445  3.143569  6.422920e+07  42669600.0   \n",
       "2019-12-27  53.633155  39.877672  1.258893  6.400348e+07  42422500.0   \n",
       "2019-12-30  75.737535  57.848277  1.864059  6.423984e+07  42670600.0   \n",
       "2019-12-31  85.105695  71.492128  0.916547  6.442534e+07  42888000.0   \n",
       "\n",
       "                  ATR  CDLMORNINGSTAR  CDLENGULFING  Forecast  Real  \n",
       "Date                                                                 \n",
       "2012-01-04        NaN               0             0         0     0  \n",
       "2012-01-05        NaN               0             0         0     1  \n",
       "2012-01-06        NaN               0           100         0     1  \n",
       "2012-01-09        NaN               0             0         0     1  \n",
       "2012-01-10        NaN               0             0         0     0  \n",
       "...               ...             ...           ...       ...   ...  \n",
       "2019-12-25  26.694833               0             0         0     1  \n",
       "2019-12-26  26.713631               0             0         0     0  \n",
       "2019-12-27  27.125652               0             0         0     1  \n",
       "2019-12-30  29.334747               0           100         0     1  \n",
       "2019-12-31  28.751197               0             0         0     0  \n",
       "\n",
       "[1942 rows x 28 columns]"
      ]
     },
     "execution_count": 132,
     "metadata": {},
     "output_type": "execute_result"
    }
   ],
   "source": [
    "df"
   ]
  },
  {
   "cell_type": "markdown",
   "id": "46a66bb1-141b-403b-85e3-2a2b67eeb10e",
   "metadata": {
    "tags": []
   },
   "source": [
    "### Create Models (สร้าง Models)"
   ]
  },
  {
   "cell_type": "code",
   "execution_count": 133,
   "id": "59743a47-66d1-4132-8fb3-a1e506616ba0",
   "metadata": {},
   "outputs": [],
   "source": [
    "from sklearn.linear_model import LogisticRegression\n",
    "from sklearn.neighbors import KNeighborsClassifier\n",
    "from sklearn import svm\n",
    "from sklearn.linear_model import RidgeClassifier\n",
    "\n",
    "lr = LogisticRegression(penalty='l1', C=0.1, solver='saga', random_state=1, max_iter=500, tol=0.01, dual=False)\n",
    "knc = KNeighborsClassifier(n_neighbors=470, p=9, algorithm='auto', leaf_size=30, weights='uniform')\n",
    "svm = svm.SVC(C=0.3, random_state=1, kernel='linear', gamma='auto', degree=3)\n",
    "rcf = RidgeClassifier(alpha=20, random_state=1, normalize=True)"
   ]
  },
  {
   "cell_type": "markdown",
   "id": "79c60ad1-1944-4619-b2d8-0d0b076c7c78",
   "metadata": {
    "tags": []
   },
   "source": [
    "### Features Selection (เลือก Features ที่จะใช้เป็น X)"
   ]
  },
  {
   "cell_type": "code",
   "execution_count": 134,
   "id": "656bf668-6d6b-4a71-ab60-bd1125fb1a7b",
   "metadata": {},
   "outputs": [
    {
     "data": {
      "text/html": [
       "<style>#sk-2267a4c1-d69b-4125-9229-0955cd515bde {color: black;background-color: white;}#sk-2267a4c1-d69b-4125-9229-0955cd515bde pre{padding: 0;}#sk-2267a4c1-d69b-4125-9229-0955cd515bde div.sk-toggleable {background-color: white;}#sk-2267a4c1-d69b-4125-9229-0955cd515bde label.sk-toggleable__label {cursor: pointer;display: block;width: 100%;margin-bottom: 0;padding: 0.3em;box-sizing: border-box;text-align: center;}#sk-2267a4c1-d69b-4125-9229-0955cd515bde div.sk-toggleable__content {max-height: 0;max-width: 0;overflow: hidden;text-align: left;background-color: #f0f8ff;}#sk-2267a4c1-d69b-4125-9229-0955cd515bde div.sk-toggleable__content pre {margin: 0.2em;color: black;border-radius: 0.25em;background-color: #f0f8ff;}#sk-2267a4c1-d69b-4125-9229-0955cd515bde input.sk-toggleable__control:checked~div.sk-toggleable__content {max-height: 200px;max-width: 100%;overflow: auto;}#sk-2267a4c1-d69b-4125-9229-0955cd515bde div.sk-estimator input.sk-toggleable__control:checked~label.sk-toggleable__label {background-color: #d4ebff;}#sk-2267a4c1-d69b-4125-9229-0955cd515bde div.sk-label input.sk-toggleable__control:checked~label.sk-toggleable__label {background-color: #d4ebff;}#sk-2267a4c1-d69b-4125-9229-0955cd515bde input.sk-hidden--visually {border: 0;clip: rect(1px 1px 1px 1px);clip: rect(1px, 1px, 1px, 1px);height: 1px;margin: -1px;overflow: hidden;padding: 0;position: absolute;width: 1px;}#sk-2267a4c1-d69b-4125-9229-0955cd515bde div.sk-estimator {font-family: monospace;background-color: #f0f8ff;border: 1px dotted black;border-radius: 0.25em;box-sizing: border-box;margin-bottom: 0.5em;}#sk-2267a4c1-d69b-4125-9229-0955cd515bde div.sk-estimator:hover {background-color: #d4ebff;}#sk-2267a4c1-d69b-4125-9229-0955cd515bde div.sk-parallel-item::after {content: \"\";width: 100%;border-bottom: 1px solid gray;flex-grow: 1;}#sk-2267a4c1-d69b-4125-9229-0955cd515bde div.sk-label:hover label.sk-toggleable__label {background-color: #d4ebff;}#sk-2267a4c1-d69b-4125-9229-0955cd515bde div.sk-serial::before {content: \"\";position: absolute;border-left: 1px solid gray;box-sizing: border-box;top: 2em;bottom: 0;left: 50%;}#sk-2267a4c1-d69b-4125-9229-0955cd515bde div.sk-serial {display: flex;flex-direction: column;align-items: center;background-color: white;padding-right: 0.2em;padding-left: 0.2em;}#sk-2267a4c1-d69b-4125-9229-0955cd515bde div.sk-item {z-index: 1;}#sk-2267a4c1-d69b-4125-9229-0955cd515bde div.sk-parallel {display: flex;align-items: stretch;justify-content: center;background-color: white;}#sk-2267a4c1-d69b-4125-9229-0955cd515bde div.sk-parallel::before {content: \"\";position: absolute;border-left: 1px solid gray;box-sizing: border-box;top: 2em;bottom: 0;left: 50%;}#sk-2267a4c1-d69b-4125-9229-0955cd515bde div.sk-parallel-item {display: flex;flex-direction: column;position: relative;background-color: white;}#sk-2267a4c1-d69b-4125-9229-0955cd515bde div.sk-parallel-item:first-child::after {align-self: flex-end;width: 50%;}#sk-2267a4c1-d69b-4125-9229-0955cd515bde div.sk-parallel-item:last-child::after {align-self: flex-start;width: 50%;}#sk-2267a4c1-d69b-4125-9229-0955cd515bde div.sk-parallel-item:only-child::after {width: 0;}#sk-2267a4c1-d69b-4125-9229-0955cd515bde div.sk-dashed-wrapped {border: 1px dashed gray;margin: 0 0.4em 0.5em 0.4em;box-sizing: border-box;padding-bottom: 0.4em;background-color: white;position: relative;}#sk-2267a4c1-d69b-4125-9229-0955cd515bde div.sk-label label {font-family: monospace;font-weight: bold;background-color: white;display: inline-block;line-height: 1.2em;}#sk-2267a4c1-d69b-4125-9229-0955cd515bde div.sk-label-container {position: relative;z-index: 2;text-align: center;}#sk-2267a4c1-d69b-4125-9229-0955cd515bde div.sk-container {display: inline-block;position: relative;}</style><div id=\"sk-2267a4c1-d69b-4125-9229-0955cd515bde\" class\"sk-top-container\"><div class=\"sk-container\"><div class=\"sk-item sk-dashed-wrapped\"><div class=\"sk-label-container\"><div class=\"sk-label sk-toggleable\"><input class=\"sk-toggleable__control sk-hidden--visually\" id=\"bacf75f3-cdab-44bf-bcaa-0801686be2b6\" type=\"checkbox\" ><label class=\"sk-toggleable__label\" for=\"bacf75f3-cdab-44bf-bcaa-0801686be2b6\">RFE</label><div class=\"sk-toggleable__content\"><pre>RFE(estimator=LogisticRegression(C=0.1, max_iter=500, penalty='l1',\n",
       "                                 random_state=1, solver='saga', tol=0.01),\n",
       "    n_features_to_select=10)</pre></div></div></div><div class=\"sk-parallel\"><div class=\"sk-parallel-item\"><div class=\"sk-item\"><div class=\"sk-serial\"><div class=\"sk-item\"><div class=\"sk-estimator sk-toggleable\"><input class=\"sk-toggleable__control sk-hidden--visually\" id=\"bd4d8570-7507-4900-8f61-9968e3f6c1d1\" type=\"checkbox\" ><label class=\"sk-toggleable__label\" for=\"bd4d8570-7507-4900-8f61-9968e3f6c1d1\">LogisticRegression</label><div class=\"sk-toggleable__content\"><pre>LogisticRegression(C=0.1, max_iter=500, penalty='l1', random_state=1,\n",
       "                   solver='saga', tol=0.01)</pre></div></div></div></div></div></div></div></div></div></div>"
      ],
      "text/plain": [
       "RFE(estimator=LogisticRegression(C=0.1, max_iter=500, penalty='l1',\n",
       "                                 random_state=1, solver='saga', tol=0.01),\n",
       "    n_features_to_select=10)"
      ]
     },
     "execution_count": 134,
     "metadata": {},
     "output_type": "execute_result"
    }
   ],
   "source": [
    "from sklearn.feature_selection import RFE\n",
    "# RFE(modelที่ใช้เลือก, จำนวน Features ที่จะให้เลือก=N)\n",
    "rfe = RFE(lr, n_features_to_select=10)\n",
    "rfe"
   ]
  },
  {
   "cell_type": "markdown",
   "id": "fbfef448-62dd-42c0-afef-9bc6b54d8d92",
   "metadata": {
    "tags": []
   },
   "source": [
    "### Ensemble Models (Model แบบ Ensemble *แบบเอาหลายๆ model มาหาอันที่ดีที่สุดแล้วเอียงไปตอยตามตัวนั้นๆ)"
   ]
  },
  {
   "cell_type": "code",
   "execution_count": 135,
   "id": "1776252a-ad71-4d89-8b96-ff8509e961f7",
   "metadata": {},
   "outputs": [
    {
     "data": {
      "text/html": [
       "<style>#sk-c8bac0d1-89e1-4e55-bcf9-bc22ed56d5c6 {color: black;background-color: white;}#sk-c8bac0d1-89e1-4e55-bcf9-bc22ed56d5c6 pre{padding: 0;}#sk-c8bac0d1-89e1-4e55-bcf9-bc22ed56d5c6 div.sk-toggleable {background-color: white;}#sk-c8bac0d1-89e1-4e55-bcf9-bc22ed56d5c6 label.sk-toggleable__label {cursor: pointer;display: block;width: 100%;margin-bottom: 0;padding: 0.3em;box-sizing: border-box;text-align: center;}#sk-c8bac0d1-89e1-4e55-bcf9-bc22ed56d5c6 div.sk-toggleable__content {max-height: 0;max-width: 0;overflow: hidden;text-align: left;background-color: #f0f8ff;}#sk-c8bac0d1-89e1-4e55-bcf9-bc22ed56d5c6 div.sk-toggleable__content pre {margin: 0.2em;color: black;border-radius: 0.25em;background-color: #f0f8ff;}#sk-c8bac0d1-89e1-4e55-bcf9-bc22ed56d5c6 input.sk-toggleable__control:checked~div.sk-toggleable__content {max-height: 200px;max-width: 100%;overflow: auto;}#sk-c8bac0d1-89e1-4e55-bcf9-bc22ed56d5c6 div.sk-estimator input.sk-toggleable__control:checked~label.sk-toggleable__label {background-color: #d4ebff;}#sk-c8bac0d1-89e1-4e55-bcf9-bc22ed56d5c6 div.sk-label input.sk-toggleable__control:checked~label.sk-toggleable__label {background-color: #d4ebff;}#sk-c8bac0d1-89e1-4e55-bcf9-bc22ed56d5c6 input.sk-hidden--visually {border: 0;clip: rect(1px 1px 1px 1px);clip: rect(1px, 1px, 1px, 1px);height: 1px;margin: -1px;overflow: hidden;padding: 0;position: absolute;width: 1px;}#sk-c8bac0d1-89e1-4e55-bcf9-bc22ed56d5c6 div.sk-estimator {font-family: monospace;background-color: #f0f8ff;border: 1px dotted black;border-radius: 0.25em;box-sizing: border-box;margin-bottom: 0.5em;}#sk-c8bac0d1-89e1-4e55-bcf9-bc22ed56d5c6 div.sk-estimator:hover {background-color: #d4ebff;}#sk-c8bac0d1-89e1-4e55-bcf9-bc22ed56d5c6 div.sk-parallel-item::after {content: \"\";width: 100%;border-bottom: 1px solid gray;flex-grow: 1;}#sk-c8bac0d1-89e1-4e55-bcf9-bc22ed56d5c6 div.sk-label:hover label.sk-toggleable__label {background-color: #d4ebff;}#sk-c8bac0d1-89e1-4e55-bcf9-bc22ed56d5c6 div.sk-serial::before {content: \"\";position: absolute;border-left: 1px solid gray;box-sizing: border-box;top: 2em;bottom: 0;left: 50%;}#sk-c8bac0d1-89e1-4e55-bcf9-bc22ed56d5c6 div.sk-serial {display: flex;flex-direction: column;align-items: center;background-color: white;padding-right: 0.2em;padding-left: 0.2em;}#sk-c8bac0d1-89e1-4e55-bcf9-bc22ed56d5c6 div.sk-item {z-index: 1;}#sk-c8bac0d1-89e1-4e55-bcf9-bc22ed56d5c6 div.sk-parallel {display: flex;align-items: stretch;justify-content: center;background-color: white;}#sk-c8bac0d1-89e1-4e55-bcf9-bc22ed56d5c6 div.sk-parallel::before {content: \"\";position: absolute;border-left: 1px solid gray;box-sizing: border-box;top: 2em;bottom: 0;left: 50%;}#sk-c8bac0d1-89e1-4e55-bcf9-bc22ed56d5c6 div.sk-parallel-item {display: flex;flex-direction: column;position: relative;background-color: white;}#sk-c8bac0d1-89e1-4e55-bcf9-bc22ed56d5c6 div.sk-parallel-item:first-child::after {align-self: flex-end;width: 50%;}#sk-c8bac0d1-89e1-4e55-bcf9-bc22ed56d5c6 div.sk-parallel-item:last-child::after {align-self: flex-start;width: 50%;}#sk-c8bac0d1-89e1-4e55-bcf9-bc22ed56d5c6 div.sk-parallel-item:only-child::after {width: 0;}#sk-c8bac0d1-89e1-4e55-bcf9-bc22ed56d5c6 div.sk-dashed-wrapped {border: 1px dashed gray;margin: 0 0.4em 0.5em 0.4em;box-sizing: border-box;padding-bottom: 0.4em;background-color: white;position: relative;}#sk-c8bac0d1-89e1-4e55-bcf9-bc22ed56d5c6 div.sk-label label {font-family: monospace;font-weight: bold;background-color: white;display: inline-block;line-height: 1.2em;}#sk-c8bac0d1-89e1-4e55-bcf9-bc22ed56d5c6 div.sk-label-container {position: relative;z-index: 2;text-align: center;}#sk-c8bac0d1-89e1-4e55-bcf9-bc22ed56d5c6 div.sk-container {display: inline-block;position: relative;}</style><div id=\"sk-c8bac0d1-89e1-4e55-bcf9-bc22ed56d5c6\" class\"sk-top-container\"><div class=\"sk-container\"><div class=\"sk-item sk-dashed-wrapped\"><div class=\"sk-label-container\"><div class=\"sk-label sk-toggleable\"><input class=\"sk-toggleable__control sk-hidden--visually\" id=\"7229f8fc-69d9-4549-ae03-8fffccd9fe99\" type=\"checkbox\" ><label class=\"sk-toggleable__label\" for=\"7229f8fc-69d9-4549-ae03-8fffccd9fe99\">VotingClassifier</label><div class=\"sk-toggleable__content\"><pre>VotingClassifier(estimators=[('clf1',\n",
       "                              LogisticRegression(C=0.1, max_iter=500,\n",
       "                                                 penalty='l1', random_state=1,\n",
       "                                                 solver='saga', tol=0.01)),\n",
       "                             ('clf2',\n",
       "                              KNeighborsClassifier(n_neighbors=470, p=9)),\n",
       "                             ('clf3',\n",
       "                              SVC(C=0.3, gamma='auto', kernel='linear',\n",
       "                                  random_state=1)),\n",
       "                             ('clf4',\n",
       "                              RidgeClassifier(alpha=20, normalize=True,\n",
       "                                              random_state=1))],\n",
       "                 weights=(2, 1, 1, 1))</pre></div></div></div><div class=\"sk-parallel\"><div class=\"sk-parallel-item\"><div class=\"sk-item\"><div class=\"sk-label-container\"><div class=\"sk-label sk-toggleable\"><label>clf1</label></div></div><div class=\"sk-serial\"><div class=\"sk-item\"><div class=\"sk-estimator sk-toggleable\"><input class=\"sk-toggleable__control sk-hidden--visually\" id=\"3932a576-0e6f-40fb-ac14-61b347250dcf\" type=\"checkbox\" ><label class=\"sk-toggleable__label\" for=\"3932a576-0e6f-40fb-ac14-61b347250dcf\">LogisticRegression</label><div class=\"sk-toggleable__content\"><pre>LogisticRegression(C=0.1, max_iter=500, penalty='l1', random_state=1,\n",
       "                   solver='saga', tol=0.01)</pre></div></div></div></div></div></div><div class=\"sk-parallel-item\"><div class=\"sk-item\"><div class=\"sk-label-container\"><div class=\"sk-label sk-toggleable\"><label>clf2</label></div></div><div class=\"sk-serial\"><div class=\"sk-item\"><div class=\"sk-estimator sk-toggleable\"><input class=\"sk-toggleable__control sk-hidden--visually\" id=\"9527cb31-66e1-4053-8f58-2c128514fff1\" type=\"checkbox\" ><label class=\"sk-toggleable__label\" for=\"9527cb31-66e1-4053-8f58-2c128514fff1\">KNeighborsClassifier</label><div class=\"sk-toggleable__content\"><pre>KNeighborsClassifier(n_neighbors=470, p=9)</pre></div></div></div></div></div></div><div class=\"sk-parallel-item\"><div class=\"sk-item\"><div class=\"sk-label-container\"><div class=\"sk-label sk-toggleable\"><label>clf3</label></div></div><div class=\"sk-serial\"><div class=\"sk-item\"><div class=\"sk-estimator sk-toggleable\"><input class=\"sk-toggleable__control sk-hidden--visually\" id=\"512e2ea9-9e22-4c75-be8a-2943bbdf3ff9\" type=\"checkbox\" ><label class=\"sk-toggleable__label\" for=\"512e2ea9-9e22-4c75-be8a-2943bbdf3ff9\">SVC</label><div class=\"sk-toggleable__content\"><pre>SVC(C=0.3, gamma='auto', kernel='linear', random_state=1)</pre></div></div></div></div></div></div><div class=\"sk-parallel-item\"><div class=\"sk-item\"><div class=\"sk-label-container\"><div class=\"sk-label sk-toggleable\"><label>clf4</label></div></div><div class=\"sk-serial\"><div class=\"sk-item\"><div class=\"sk-estimator sk-toggleable\"><input class=\"sk-toggleable__control sk-hidden--visually\" id=\"dbf3df95-a80d-469b-9fe8-b9e16c75abb3\" type=\"checkbox\" ><label class=\"sk-toggleable__label\" for=\"dbf3df95-a80d-469b-9fe8-b9e16c75abb3\">RidgeClassifier</label><div class=\"sk-toggleable__content\"><pre>RidgeClassifier(alpha=20, normalize=True, random_state=1)</pre></div></div></div></div></div></div></div></div></div></div>"
      ],
      "text/plain": [
       "VotingClassifier(estimators=[('clf1',\n",
       "                              LogisticRegression(C=0.1, max_iter=500,\n",
       "                                                 penalty='l1', random_state=1,\n",
       "                                                 solver='saga', tol=0.01)),\n",
       "                             ('clf2',\n",
       "                              KNeighborsClassifier(n_neighbors=470, p=9)),\n",
       "                             ('clf3',\n",
       "                              SVC(C=0.3, gamma='auto', kernel='linear',\n",
       "                                  random_state=1)),\n",
       "                             ('clf4',\n",
       "                              RidgeClassifier(alpha=20, normalize=True,\n",
       "                                              random_state=1))],\n",
       "                 weights=(2, 1, 1, 1))"
      ]
     },
     "execution_count": 135,
     "metadata": {},
     "output_type": "execute_result"
    }
   ],
   "source": [
    "from sklearn.ensemble import VotingClassifier\n",
    "\n",
    "vc = VotingClassifier([('clf1', lr), ('clf2', knc), ('clf3', svm), ('clf4', rcf)], voting='hard', weights=(2, 1, 1, 1))\n",
    "vc"
   ]
  },
  {
   "cell_type": "markdown",
   "id": "a852471f-3572-4327-b0b0-6020b8933fd0",
   "metadata": {
    "tags": []
   },
   "source": [
    "### Splitting data & Training model (แบ่งข้อมูลเป็นส่วนที่ให้ model เรียน กะส่วนที่ให้ model ลองตอบ/ลองเดา)"
   ]
  },
  {
   "cell_type": "code",
   "execution_count": 136,
   "id": "a0f7c9b5-3726-441f-844d-40b1f69a2603",
   "metadata": {},
   "outputs": [
    {
     "data": {
      "text/html": [
       "<style>#sk-459c1cf0-b1a3-4136-aeb0-3a167e17e8d5 {color: black;background-color: white;}#sk-459c1cf0-b1a3-4136-aeb0-3a167e17e8d5 pre{padding: 0;}#sk-459c1cf0-b1a3-4136-aeb0-3a167e17e8d5 div.sk-toggleable {background-color: white;}#sk-459c1cf0-b1a3-4136-aeb0-3a167e17e8d5 label.sk-toggleable__label {cursor: pointer;display: block;width: 100%;margin-bottom: 0;padding: 0.3em;box-sizing: border-box;text-align: center;}#sk-459c1cf0-b1a3-4136-aeb0-3a167e17e8d5 div.sk-toggleable__content {max-height: 0;max-width: 0;overflow: hidden;text-align: left;background-color: #f0f8ff;}#sk-459c1cf0-b1a3-4136-aeb0-3a167e17e8d5 div.sk-toggleable__content pre {margin: 0.2em;color: black;border-radius: 0.25em;background-color: #f0f8ff;}#sk-459c1cf0-b1a3-4136-aeb0-3a167e17e8d5 input.sk-toggleable__control:checked~div.sk-toggleable__content {max-height: 200px;max-width: 100%;overflow: auto;}#sk-459c1cf0-b1a3-4136-aeb0-3a167e17e8d5 div.sk-estimator input.sk-toggleable__control:checked~label.sk-toggleable__label {background-color: #d4ebff;}#sk-459c1cf0-b1a3-4136-aeb0-3a167e17e8d5 div.sk-label input.sk-toggleable__control:checked~label.sk-toggleable__label {background-color: #d4ebff;}#sk-459c1cf0-b1a3-4136-aeb0-3a167e17e8d5 input.sk-hidden--visually {border: 0;clip: rect(1px 1px 1px 1px);clip: rect(1px, 1px, 1px, 1px);height: 1px;margin: -1px;overflow: hidden;padding: 0;position: absolute;width: 1px;}#sk-459c1cf0-b1a3-4136-aeb0-3a167e17e8d5 div.sk-estimator {font-family: monospace;background-color: #f0f8ff;border: 1px dotted black;border-radius: 0.25em;box-sizing: border-box;margin-bottom: 0.5em;}#sk-459c1cf0-b1a3-4136-aeb0-3a167e17e8d5 div.sk-estimator:hover {background-color: #d4ebff;}#sk-459c1cf0-b1a3-4136-aeb0-3a167e17e8d5 div.sk-parallel-item::after {content: \"\";width: 100%;border-bottom: 1px solid gray;flex-grow: 1;}#sk-459c1cf0-b1a3-4136-aeb0-3a167e17e8d5 div.sk-label:hover label.sk-toggleable__label {background-color: #d4ebff;}#sk-459c1cf0-b1a3-4136-aeb0-3a167e17e8d5 div.sk-serial::before {content: \"\";position: absolute;border-left: 1px solid gray;box-sizing: border-box;top: 2em;bottom: 0;left: 50%;}#sk-459c1cf0-b1a3-4136-aeb0-3a167e17e8d5 div.sk-serial {display: flex;flex-direction: column;align-items: center;background-color: white;padding-right: 0.2em;padding-left: 0.2em;}#sk-459c1cf0-b1a3-4136-aeb0-3a167e17e8d5 div.sk-item {z-index: 1;}#sk-459c1cf0-b1a3-4136-aeb0-3a167e17e8d5 div.sk-parallel {display: flex;align-items: stretch;justify-content: center;background-color: white;}#sk-459c1cf0-b1a3-4136-aeb0-3a167e17e8d5 div.sk-parallel::before {content: \"\";position: absolute;border-left: 1px solid gray;box-sizing: border-box;top: 2em;bottom: 0;left: 50%;}#sk-459c1cf0-b1a3-4136-aeb0-3a167e17e8d5 div.sk-parallel-item {display: flex;flex-direction: column;position: relative;background-color: white;}#sk-459c1cf0-b1a3-4136-aeb0-3a167e17e8d5 div.sk-parallel-item:first-child::after {align-self: flex-end;width: 50%;}#sk-459c1cf0-b1a3-4136-aeb0-3a167e17e8d5 div.sk-parallel-item:last-child::after {align-self: flex-start;width: 50%;}#sk-459c1cf0-b1a3-4136-aeb0-3a167e17e8d5 div.sk-parallel-item:only-child::after {width: 0;}#sk-459c1cf0-b1a3-4136-aeb0-3a167e17e8d5 div.sk-dashed-wrapped {border: 1px dashed gray;margin: 0 0.4em 0.5em 0.4em;box-sizing: border-box;padding-bottom: 0.4em;background-color: white;position: relative;}#sk-459c1cf0-b1a3-4136-aeb0-3a167e17e8d5 div.sk-label label {font-family: monospace;font-weight: bold;background-color: white;display: inline-block;line-height: 1.2em;}#sk-459c1cf0-b1a3-4136-aeb0-3a167e17e8d5 div.sk-label-container {position: relative;z-index: 2;text-align: center;}#sk-459c1cf0-b1a3-4136-aeb0-3a167e17e8d5 div.sk-container {display: inline-block;position: relative;}</style><div id=\"sk-459c1cf0-b1a3-4136-aeb0-3a167e17e8d5\" class\"sk-top-container\"><div class=\"sk-container\"><div class=\"sk-item sk-dashed-wrapped\"><div class=\"sk-label-container\"><div class=\"sk-label sk-toggleable\"><input class=\"sk-toggleable__control sk-hidden--visually\" id=\"52a4cfe7-2cb2-4dbe-8c85-016c50dc6483\" type=\"checkbox\" ><label class=\"sk-toggleable__label\" for=\"52a4cfe7-2cb2-4dbe-8c85-016c50dc6483\">Pipeline</label><div class=\"sk-toggleable__content\"><pre>Pipeline(steps=[('columntransformer',\n",
       "                 ColumnTransformer(transformers=[('pipeline',\n",
       "                                                  Pipeline(steps=[('simpleimputer',\n",
       "                                                                   SimpleImputer()),\n",
       "                                                                  ('minmaxscaler',\n",
       "                                                                   MinMaxScaler())]),\n",
       "                                                  <sklearn.compose._column_transformer.make_column_selector object at 0x000001FA7BA10130>)])),\n",
       "                ('rfe',\n",
       "                 RFE(estimator=LogisticRegression(C=0.1, max_iter=500,\n",
       "                                                  penalty='l1', random_state=1,\n",
       "                                                  solver='saga', tol=0.01),\n",
       "                     n_features_to_select=10)),\n",
       "                ('ridgeclassifier',\n",
       "                 RidgeClassifier(alpha=20, normalize=True, random_state=1))])</pre></div></div></div><div class=\"sk-serial\"><div class=\"sk-item sk-dashed-wrapped\"><div class=\"sk-label-container\"><div class=\"sk-label sk-toggleable\"><input class=\"sk-toggleable__control sk-hidden--visually\" id=\"7bdd5be5-252d-4b92-9174-baf24269936a\" type=\"checkbox\" ><label class=\"sk-toggleable__label\" for=\"7bdd5be5-252d-4b92-9174-baf24269936a\">columntransformer: ColumnTransformer</label><div class=\"sk-toggleable__content\"><pre>ColumnTransformer(transformers=[('pipeline',\n",
       "                                 Pipeline(steps=[('simpleimputer',\n",
       "                                                  SimpleImputer()),\n",
       "                                                 ('minmaxscaler',\n",
       "                                                  MinMaxScaler())]),\n",
       "                                 <sklearn.compose._column_transformer.make_column_selector object at 0x000001FA7BA10130>)])</pre></div></div></div><div class=\"sk-parallel\"><div class=\"sk-parallel-item\"><div class=\"sk-item\"><div class=\"sk-label-container\"><div class=\"sk-label sk-toggleable\"><input class=\"sk-toggleable__control sk-hidden--visually\" id=\"6e46231a-02c6-42f0-8108-70f5093a1967\" type=\"checkbox\" ><label class=\"sk-toggleable__label\" for=\"6e46231a-02c6-42f0-8108-70f5093a1967\">pipeline</label><div class=\"sk-toggleable__content\"><pre><sklearn.compose._column_transformer.make_column_selector object at 0x000001FA7BA10130></pre></div></div></div><div class=\"sk-serial\"><div class=\"sk-item\"><div class=\"sk-serial\"><div class=\"sk-item\"><div class=\"sk-estimator sk-toggleable\"><input class=\"sk-toggleable__control sk-hidden--visually\" id=\"941ad0ac-c34a-419b-bdba-157e5764b0db\" type=\"checkbox\" ><label class=\"sk-toggleable__label\" for=\"941ad0ac-c34a-419b-bdba-157e5764b0db\">SimpleImputer</label><div class=\"sk-toggleable__content\"><pre>SimpleImputer()</pre></div></div></div><div class=\"sk-item\"><div class=\"sk-estimator sk-toggleable\"><input class=\"sk-toggleable__control sk-hidden--visually\" id=\"c3be7753-6459-4cdb-b6c5-7348ee9c44fb\" type=\"checkbox\" ><label class=\"sk-toggleable__label\" for=\"c3be7753-6459-4cdb-b6c5-7348ee9c44fb\">MinMaxScaler</label><div class=\"sk-toggleable__content\"><pre>MinMaxScaler()</pre></div></div></div></div></div></div></div></div></div></div><div class=\"sk-item sk-dashed-wrapped\"><div class=\"sk-label-container\"><div class=\"sk-label sk-toggleable\"><input class=\"sk-toggleable__control sk-hidden--visually\" id=\"9268b89c-c08e-4555-aac4-7f1e0b7686dd\" type=\"checkbox\" ><label class=\"sk-toggleable__label\" for=\"9268b89c-c08e-4555-aac4-7f1e0b7686dd\">rfe: RFE</label><div class=\"sk-toggleable__content\"><pre>RFE(estimator=LogisticRegression(C=0.1, max_iter=500, penalty='l1',\n",
       "                                 random_state=1, solver='saga', tol=0.01),\n",
       "    n_features_to_select=10)</pre></div></div></div><div class=\"sk-parallel\"><div class=\"sk-parallel-item\"><div class=\"sk-item\"><div class=\"sk-serial\"><div class=\"sk-item\"><div class=\"sk-estimator sk-toggleable\"><input class=\"sk-toggleable__control sk-hidden--visually\" id=\"1229082e-579f-4f03-9f5c-96bb37bc44cc\" type=\"checkbox\" ><label class=\"sk-toggleable__label\" for=\"1229082e-579f-4f03-9f5c-96bb37bc44cc\">LogisticRegression</label><div class=\"sk-toggleable__content\"><pre>LogisticRegression(C=0.1, max_iter=500, penalty='l1', random_state=1,\n",
       "                   solver='saga', tol=0.01)</pre></div></div></div></div></div></div></div></div><div class=\"sk-item\"><div class=\"sk-estimator sk-toggleable\"><input class=\"sk-toggleable__control sk-hidden--visually\" id=\"5db958a6-7250-4a92-8bc5-974362715fa9\" type=\"checkbox\" ><label class=\"sk-toggleable__label\" for=\"5db958a6-7250-4a92-8bc5-974362715fa9\">RidgeClassifier</label><div class=\"sk-toggleable__content\"><pre>RidgeClassifier(alpha=20, normalize=True, random_state=1)</pre></div></div></div></div></div></div></div>"
      ],
      "text/plain": [
       "Pipeline(steps=[('columntransformer',\n",
       "                 ColumnTransformer(transformers=[('pipeline',\n",
       "                                                  Pipeline(steps=[('simpleimputer',\n",
       "                                                                   SimpleImputer()),\n",
       "                                                                  ('minmaxscaler',\n",
       "                                                                   MinMaxScaler())]),\n",
       "                                                  <sklearn.compose._column_transformer.make_column_selector object at 0x000001FA7BA10130>)])),\n",
       "                ('rfe',\n",
       "                 RFE(estimator=LogisticRegression(C=0.1, max_iter=500,\n",
       "                                                  penalty='l1', random_state=1,\n",
       "                                                  solver='saga', tol=0.01),\n",
       "                     n_features_to_select=10)),\n",
       "                ('ridgeclassifier',\n",
       "                 RidgeClassifier(alpha=20, normalize=True, random_state=1))])"
      ]
     },
     "execution_count": 136,
     "metadata": {},
     "output_type": "execute_result"
    }
   ],
   "source": [
    "from sklearn.model_selection import train_test_split\n",
    "\n",
    "pipe = make_pipeline(preprocessor, rfe, vc)\n",
    "pipe_lr = make_pipeline(preprocessor, rfe, lr)\n",
    "pipe_knc = make_pipeline(preprocessor, rfe, knc)\n",
    "pipe_svm = make_pipeline(preprocessor, rfe, svm)\n",
    "pipe_rcf = make_pipeline(preprocessor, rfe, rcf)\n",
    "\n",
    "X_train, X_test, y_train, y_test = train_test_split(X, y, test_size=0.15, random_state=0, shuffle=False)\n",
    " \n",
    "pipe.fit(X_train, y_train)\n",
    "pipe_lr.fit(X_train, y_train)\n",
    "pipe_knc.fit(X_train, y_train)\n",
    "pipe_svm.fit(X_train, y_train)\n",
    "pipe_rcf.fit(X_train, y_train)"
   ]
  },
  {
   "cell_type": "markdown",
   "id": "c97c9a0a-3778-490d-95c5-75200a68aa53",
   "metadata": {},
   "source": [
    "### Prediction (ให้ model ลองเดาค่า y_test จาก X_test และ f(X) ที่เคยเรียนไปตอน Training)"
   ]
  },
  {
   "cell_type": "code",
   "execution_count": 137,
   "id": "943b0bee-79ce-43ae-b22c-a5f71a40d12c",
   "metadata": {},
   "outputs": [],
   "source": [
    "y_pred = pipe.predict(X_test)\n",
    "y_pred_lr = pipe_lr.predict(X_test)\n",
    "y_pred_knc = pipe_knc.predict(X_test)\n",
    "y_pred_svm = pipe_svm.predict(X_test)\n",
    "y_pred_rcf = pipe_rcf.predict(X_test)"
   ]
  },
  {
   "cell_type": "markdown",
   "id": "1a31caba-a684-4e1b-a42f-e604405302c0",
   "metadata": {
    "tags": []
   },
   "source": [
    "### Evaluation (วัดประสิทธิภาพของ model จากค่า Accuracy Score และ Confusion Matrix)"
   ]
  },
  {
   "cell_type": "code",
   "execution_count": 138,
   "id": "f4b12a25-1a89-49b0-9ff6-bf1fa474534a",
   "metadata": {},
   "outputs": [
    {
     "name": "stdout",
     "output_type": "stream",
     "text": [
      "Voting\n",
      "[[  0 124]\n",
      " [  0 138]]\n",
      "Accuracy Score: 0.5267175572519084\n",
      "lr\n",
      "[[  0 124]\n",
      " [  0 138]]\n",
      "Accuracy Score: 0.5267175572519084\n",
      "knc\n",
      "[[  0 124]\n",
      " [  0 138]]\n",
      "Accuracy Score: 0.5267175572519084\n",
      "svm\n",
      "[[  0 124]\n",
      " [  0 138]]\n",
      "Accuracy Score: 0.5267175572519084\n",
      "rcf\n",
      "[[  0 124]\n",
      " [  0 138]]\n",
      "Accuracy Score: 0.5267175572519084\n"
     ]
    }
   ],
   "source": [
    "from sklearn.model_selection import cross_val_score \n",
    "from sklearn.metrics import confusion_matrix\n",
    "from sklearn.metrics import plot_confusion_matrix\n",
    "from sklearn import metrics\n",
    "\n",
    "# print('Voting')\n",
    "# print(pipe.score(X_test, y_test))\n",
    "# print('lr')\n",
    "# print(pipe_lr.score(X_test, y_test))\n",
    "# print('knc')\n",
    "# print(pipe_knc.score(X_test, y_test))\n",
    "# print('svm')\n",
    "# print(pipe_svm.score(X_test, y_test))\n",
    "# print('rcf')\n",
    "# print(pipe_rcf.score(X_test, y_test))\n",
    "\n",
    "cm = confusion_matrix(y_test, y_pred)\n",
    "print('Voting')\n",
    "print(cm)\n",
    "print('Accuracy Score:', metrics.accuracy_score(y_test, y_pred))\n",
    "\n",
    "# disp = plot_confusion_matrix(pipe, X_test, y_test)\n",
    "# plt.show()\n",
    "\n",
    "cm_lr = confusion_matrix(y_test, y_pred_lr)\n",
    "print('lr')\n",
    "print(cm_lr)\n",
    "print('Accuracy Score:', metrics.accuracy_score(y_test, y_pred_lr))\n",
    "\n",
    "cm_knc = confusion_matrix(y_test, y_pred_knc)\n",
    "print('knc')\n",
    "print(cm_knc)\n",
    "print('Accuracy Score:', metrics.accuracy_score(y_test, y_pred_knc))\n",
    "\n",
    "cm_svm = confusion_matrix(y_test, y_pred_svm)\n",
    "print('svm')\n",
    "print(cm_svm)\n",
    "print('Accuracy Score:', metrics.accuracy_score(y_test, y_pred_svm))\n",
    "\n",
    "cm_rcf = confusion_matrix(y_test, y_pred)\n",
    "print('rcf')\n",
    "print(cm_rcf)\n",
    "print('Accuracy Score:', metrics.accuracy_score(y_test, y_pred_rcf))\n",
    "\n",
    "# pipe.named_steps.rfe.ranking_\n",
    "\n",
    "# CV mean score\n",
    "# print(cross_val_score(vc, X, y, cv=7 ,scoring='accuracy').mean())\n"
   ]
  },
  {
   "cell_type": "markdown",
   "id": "708dd3bd-7542-4980-a0c4-a13435fa892a",
   "metadata": {
    "tags": []
   },
   "source": [
    " ## __<font color=green> Parameter Tuning </font>__"
   ]
  },
  {
   "cell_type": "code",
   "execution_count": 139,
   "id": "d7d21d11-9ddb-43bb-adc7-e7285f2a373b",
   "metadata": {},
   "outputs": [
    {
     "name": "stdout",
     "output_type": "stream",
     "text": [
      "{}\n"
     ]
    },
    {
     "data": {
      "text/plain": [
       "0.5358577874386589"
      ]
     },
     "execution_count": 139,
     "metadata": {},
     "output_type": "execute_result"
    }
   ],
   "source": [
    "\n",
    "from sklearn.model_selection import GridSearchCV, RandomizedSearchCV\n",
    "\n",
    "params = {}\n",
    "# params = {'voting': ['hard', 'soft'],\n",
    "#          'weights': [(1, 1, 1, 1), (2, 1 ,1 ,1), (1, 2, 1, 1)]}\n",
    "# params['columntransformer__pipeline__simpleimputer__add_indicator'] = [False, True]\n",
    "# params['columntransformer__pipeline__simpleimputer__strategy'] = ['mean', 'median', 'most_frequent', 'constant']\n",
    "# params['logisticregression__C'] = [0.1, 1, 10]\n",
    "# params['logisticregression__penalty'] = ['l1', 'l2']\n",
    "# params['logisticregression__solver'] = ['sag', 'saga']\n",
    "# params['kneighborsclassifier__n_neighbors'] = [510, 500, 560]\n",
    "# params['kneighborsclassifier__leaf_size'] = [30, 20, 50, 10]\n",
    "# params['kneighborsclassifier__p'] = [9, 10, 11 ]\n",
    "# params['kneighborsclassifier__weights'] = ['distance', 'uniform']\n",
    "# params['kneighborsclassifier__algorithm'] = ['auto', 'brute', 'ball_tree' ]\n",
    "# params['svc__C'] = [0.1, 0.2, 0.3]\n",
    "# params['svc__degree'] = [3, 6, 9, 12]\n",
    "# params['svc__kernel'] = ['linear', 'poly', 'rbf', 'sigmoid', 'precomputed']\n",
    "# params['svc__gamma'] = ['scale', 'auto']\n",
    "# params['ridgeclassifier__alpha'] = [1, 20, 33, 35,37,40]\n",
    "# params['ridgeclassifier__solver'] = ['auto', 'svd', 'cholesky', 'lsqr', 'sparse_cg', 'sag', 'saga', 'lbfgs']\n",
    "# params['ridgeclassifier__fit_intercept'] = [True, False]\n",
    "# params['ridgeclassifier__normalize'] = [True, False]\n",
    "# params['votingclassifier__voting'] = ['hard', 'soft']\n",
    "# params['votingclassifier__weights'] = [(1, 1, 1, 1), (2, 1 ,1 ,1), (1, 2, 1, 1), (2, 2, 1, 1)]\n",
    "\n",
    "grid = GridSearchCV(pipe_rcf, params, cv=5, scoring='accuracy')\n",
    "grid.fit(X, y)\n",
    "print(grid.best_params_)\n",
    "grid.best_score_\n",
    "\n",
    "# rand = RandomizedSearchCV(pipe, params, cv=5, n_iter=10, scoring='r2')\n",
    "# rand.fit(X, y)\n",
    "# print(rand.best_params_)\n",
    "# rand.best_score_\n",
    "\n",
    "# 0.5428743883595157"
   ]
  },
  {
   "cell_type": "markdown",
   "id": "e4c4f3b1-cf84-4f49-9fdd-2712d250c66a",
   "metadata": {
    "tags": []
   },
   "source": [
    " ## __<font color=green> Regression </font>__"
   ]
  },
  {
   "cell_type": "markdown",
   "id": "5a743453-d2f5-48c6-aa0d-d797333df5c0",
   "metadata": {
    "tags": []
   },
   "source": [
    "### Preprocessing data (เตรียมข้อมูลก่อนนำไปใช้ ตย.แก้ข้อมูล NaN, ปรับสัดส่วนข้อมูล/Scaling)"
   ]
  },
  {
   "cell_type": "code",
   "execution_count": 140,
   "id": "fbebcc53-d5d3-478c-afea-0c2912d60e2b",
   "metadata": {},
   "outputs": [],
   "source": [
    "temp = df.dropna().copy()\n",
    "\n",
    "generateYRegression(temp)\n",
    "\n",
    "temp['Y_Reg'].iloc[-1] = np.mean(temp['Y_Reg'].iloc[-15:])\n",
    "\n",
    "X = temp.iloc[:, 6:-2]\n",
    "y = temp.loc[:, 'Y_Reg']\n",
    "\n",
    "from sklearn.impute import SimpleImputer\n",
    "from sklearn.preprocessing import StandardScaler, MinMaxScaler\n",
    "from sklearn.compose import make_column_selector, make_column_transformer\n",
    "from sklearn.pipeline import make_pipeline\n",
    "\n",
    "imp = SimpleImputer(strategy='mean', add_indicator=False)\n",
    "scaler = MinMaxScaler()\n",
    "\n",
    "num_cols = make_column_selector(dtype_include='number')\n",
    "\n",
    "preprocessor = make_column_transformer((make_pipeline(imp, scaler), num_cols))"
   ]
  },
  {
   "cell_type": "markdown",
   "id": "6e5c507b-042b-4422-9798-9f2324faf51a",
   "metadata": {
    "tags": []
   },
   "source": [
    "### Create Models (สร้าง Models)"
   ]
  },
  {
   "cell_type": "code",
   "execution_count": 141,
   "id": "f0ca82d3-6871-48fe-8697-7fd60c4efa09",
   "metadata": {},
   "outputs": [],
   "source": [
    "from sklearn.ensemble import RandomForestRegressor\n",
    "from sklearn.svm import SVR\n",
    "from sklearn.ensemble import VotingRegressor\n",
    "\n",
    "rfr = RandomForestRegressor(n_estimators=250, criterion='absolute_error', max_features=7, min_samples_leaf=6, min_samples_split=3, random_state=0)\n",
    "svr = SVR(degree=3, kernel='linear', gamma='scale', C=12.5, coef0=0)\n",
    "vr = VotingRegressor([('reg1', rfr), ('reg2', svr)],  weights=(1, 2))"
   ]
  },
  {
   "cell_type": "markdown",
   "id": "f5b0e4e0-34ff-4b86-8b24-9b762eae3398",
   "metadata": {
    "tags": []
   },
   "source": [
    "### Features Selection (เลือก Features ที่จะใช้เป็น X)"
   ]
  },
  {
   "cell_type": "code",
   "execution_count": 142,
   "id": "37052bda-f1cc-4af3-9635-254afd11f5d8",
   "metadata": {},
   "outputs": [],
   "source": [
    "from sklearn.feature_selection import RFE\n",
    "# RFE(modelที่ใช้เลือก, จำนวน Features ที่จะให้เลือก=N)\n",
    "rfe = RFE(svr, n_features_to_select=10)"
   ]
  },
  {
   "cell_type": "markdown",
   "id": "71319510-1e46-4e9d-8137-d58e37b78e9f",
   "metadata": {
    "tags": []
   },
   "source": [
    "### Splitting data & Training model (แบ่งข้อมูลเป็นส่วนที่ให้ model เรียน กะส่วนที่ให้ model ลองตอบ/ลองเดา)"
   ]
  },
  {
   "cell_type": "code",
   "execution_count": 143,
   "id": "cee02ffe-7696-4e0d-9574-cab5c75757c4",
   "metadata": {},
   "outputs": [
    {
     "data": {
      "text/html": [
       "<style>#sk-675d737b-3c47-4f73-87f5-31599f09d0f5 {color: black;background-color: white;}#sk-675d737b-3c47-4f73-87f5-31599f09d0f5 pre{padding: 0;}#sk-675d737b-3c47-4f73-87f5-31599f09d0f5 div.sk-toggleable {background-color: white;}#sk-675d737b-3c47-4f73-87f5-31599f09d0f5 label.sk-toggleable__label {cursor: pointer;display: block;width: 100%;margin-bottom: 0;padding: 0.3em;box-sizing: border-box;text-align: center;}#sk-675d737b-3c47-4f73-87f5-31599f09d0f5 div.sk-toggleable__content {max-height: 0;max-width: 0;overflow: hidden;text-align: left;background-color: #f0f8ff;}#sk-675d737b-3c47-4f73-87f5-31599f09d0f5 div.sk-toggleable__content pre {margin: 0.2em;color: black;border-radius: 0.25em;background-color: #f0f8ff;}#sk-675d737b-3c47-4f73-87f5-31599f09d0f5 input.sk-toggleable__control:checked~div.sk-toggleable__content {max-height: 200px;max-width: 100%;overflow: auto;}#sk-675d737b-3c47-4f73-87f5-31599f09d0f5 div.sk-estimator input.sk-toggleable__control:checked~label.sk-toggleable__label {background-color: #d4ebff;}#sk-675d737b-3c47-4f73-87f5-31599f09d0f5 div.sk-label input.sk-toggleable__control:checked~label.sk-toggleable__label {background-color: #d4ebff;}#sk-675d737b-3c47-4f73-87f5-31599f09d0f5 input.sk-hidden--visually {border: 0;clip: rect(1px 1px 1px 1px);clip: rect(1px, 1px, 1px, 1px);height: 1px;margin: -1px;overflow: hidden;padding: 0;position: absolute;width: 1px;}#sk-675d737b-3c47-4f73-87f5-31599f09d0f5 div.sk-estimator {font-family: monospace;background-color: #f0f8ff;border: 1px dotted black;border-radius: 0.25em;box-sizing: border-box;margin-bottom: 0.5em;}#sk-675d737b-3c47-4f73-87f5-31599f09d0f5 div.sk-estimator:hover {background-color: #d4ebff;}#sk-675d737b-3c47-4f73-87f5-31599f09d0f5 div.sk-parallel-item::after {content: \"\";width: 100%;border-bottom: 1px solid gray;flex-grow: 1;}#sk-675d737b-3c47-4f73-87f5-31599f09d0f5 div.sk-label:hover label.sk-toggleable__label {background-color: #d4ebff;}#sk-675d737b-3c47-4f73-87f5-31599f09d0f5 div.sk-serial::before {content: \"\";position: absolute;border-left: 1px solid gray;box-sizing: border-box;top: 2em;bottom: 0;left: 50%;}#sk-675d737b-3c47-4f73-87f5-31599f09d0f5 div.sk-serial {display: flex;flex-direction: column;align-items: center;background-color: white;padding-right: 0.2em;padding-left: 0.2em;}#sk-675d737b-3c47-4f73-87f5-31599f09d0f5 div.sk-item {z-index: 1;}#sk-675d737b-3c47-4f73-87f5-31599f09d0f5 div.sk-parallel {display: flex;align-items: stretch;justify-content: center;background-color: white;}#sk-675d737b-3c47-4f73-87f5-31599f09d0f5 div.sk-parallel::before {content: \"\";position: absolute;border-left: 1px solid gray;box-sizing: border-box;top: 2em;bottom: 0;left: 50%;}#sk-675d737b-3c47-4f73-87f5-31599f09d0f5 div.sk-parallel-item {display: flex;flex-direction: column;position: relative;background-color: white;}#sk-675d737b-3c47-4f73-87f5-31599f09d0f5 div.sk-parallel-item:first-child::after {align-self: flex-end;width: 50%;}#sk-675d737b-3c47-4f73-87f5-31599f09d0f5 div.sk-parallel-item:last-child::after {align-self: flex-start;width: 50%;}#sk-675d737b-3c47-4f73-87f5-31599f09d0f5 div.sk-parallel-item:only-child::after {width: 0;}#sk-675d737b-3c47-4f73-87f5-31599f09d0f5 div.sk-dashed-wrapped {border: 1px dashed gray;margin: 0 0.4em 0.5em 0.4em;box-sizing: border-box;padding-bottom: 0.4em;background-color: white;position: relative;}#sk-675d737b-3c47-4f73-87f5-31599f09d0f5 div.sk-label label {font-family: monospace;font-weight: bold;background-color: white;display: inline-block;line-height: 1.2em;}#sk-675d737b-3c47-4f73-87f5-31599f09d0f5 div.sk-label-container {position: relative;z-index: 2;text-align: center;}#sk-675d737b-3c47-4f73-87f5-31599f09d0f5 div.sk-container {display: inline-block;position: relative;}</style><div id=\"sk-675d737b-3c47-4f73-87f5-31599f09d0f5\" class\"sk-top-container\"><div class=\"sk-container\"><div class=\"sk-item sk-dashed-wrapped\"><div class=\"sk-label-container\"><div class=\"sk-label sk-toggleable\"><input class=\"sk-toggleable__control sk-hidden--visually\" id=\"3473ef63-6e87-449a-91b6-8bfcd1fb0357\" type=\"checkbox\" ><label class=\"sk-toggleable__label\" for=\"3473ef63-6e87-449a-91b6-8bfcd1fb0357\">Pipeline</label><div class=\"sk-toggleable__content\"><pre>Pipeline(steps=[('columntransformer',\n",
       "                 ColumnTransformer(transformers=[('pipeline',\n",
       "                                                  Pipeline(steps=[('simpleimputer',\n",
       "                                                                   SimpleImputer()),\n",
       "                                                                  ('minmaxscaler',\n",
       "                                                                   MinMaxScaler())]),\n",
       "                                                  <sklearn.compose._column_transformer.make_column_selector object at 0x000001FA7603F910>)])),\n",
       "                ('rfe',\n",
       "                 RFE(estimator=SVR(C=12.5, coef0=0, kernel='linear'),\n",
       "                     n_features_to_select=10)),\n",
       "                ('votingregressor',\n",
       "                 VotingRegressor(estimators=[('reg1',\n",
       "                                              RandomForestRegressor(criterion='absolute_error',\n",
       "                                                                    max_features=7,\n",
       "                                                                    min_samples_leaf=6,\n",
       "                                                                    min_samples_split=3,\n",
       "                                                                    n_estimators=250,\n",
       "                                                                    random_state=0)),\n",
       "                                             ('reg2',\n",
       "                                              SVR(C=12.5, coef0=0,\n",
       "                                                  kernel='linear'))],\n",
       "                                 weights=(1, 2)))])</pre></div></div></div><div class=\"sk-serial\"><div class=\"sk-item sk-dashed-wrapped\"><div class=\"sk-label-container\"><div class=\"sk-label sk-toggleable\"><input class=\"sk-toggleable__control sk-hidden--visually\" id=\"803f4fda-9e80-46c0-bd55-ff34f6f8d187\" type=\"checkbox\" ><label class=\"sk-toggleable__label\" for=\"803f4fda-9e80-46c0-bd55-ff34f6f8d187\">columntransformer: ColumnTransformer</label><div class=\"sk-toggleable__content\"><pre>ColumnTransformer(transformers=[('pipeline',\n",
       "                                 Pipeline(steps=[('simpleimputer',\n",
       "                                                  SimpleImputer()),\n",
       "                                                 ('minmaxscaler',\n",
       "                                                  MinMaxScaler())]),\n",
       "                                 <sklearn.compose._column_transformer.make_column_selector object at 0x000001FA7603F910>)])</pre></div></div></div><div class=\"sk-parallel\"><div class=\"sk-parallel-item\"><div class=\"sk-item\"><div class=\"sk-label-container\"><div class=\"sk-label sk-toggleable\"><input class=\"sk-toggleable__control sk-hidden--visually\" id=\"4dd55545-5013-44c2-924d-6bf8e2cafcc2\" type=\"checkbox\" ><label class=\"sk-toggleable__label\" for=\"4dd55545-5013-44c2-924d-6bf8e2cafcc2\">pipeline</label><div class=\"sk-toggleable__content\"><pre><sklearn.compose._column_transformer.make_column_selector object at 0x000001FA7603F910></pre></div></div></div><div class=\"sk-serial\"><div class=\"sk-item\"><div class=\"sk-serial\"><div class=\"sk-item\"><div class=\"sk-estimator sk-toggleable\"><input class=\"sk-toggleable__control sk-hidden--visually\" id=\"08bf0777-f92a-4367-830e-a6fa652690ef\" type=\"checkbox\" ><label class=\"sk-toggleable__label\" for=\"08bf0777-f92a-4367-830e-a6fa652690ef\">SimpleImputer</label><div class=\"sk-toggleable__content\"><pre>SimpleImputer()</pre></div></div></div><div class=\"sk-item\"><div class=\"sk-estimator sk-toggleable\"><input class=\"sk-toggleable__control sk-hidden--visually\" id=\"a0d2eb05-ae19-4d60-95f4-77cce0123d38\" type=\"checkbox\" ><label class=\"sk-toggleable__label\" for=\"a0d2eb05-ae19-4d60-95f4-77cce0123d38\">MinMaxScaler</label><div class=\"sk-toggleable__content\"><pre>MinMaxScaler()</pre></div></div></div></div></div></div></div></div></div></div><div class=\"sk-item sk-dashed-wrapped\"><div class=\"sk-label-container\"><div class=\"sk-label sk-toggleable\"><input class=\"sk-toggleable__control sk-hidden--visually\" id=\"4cba9666-251d-47d2-b283-0b35b14545aa\" type=\"checkbox\" ><label class=\"sk-toggleable__label\" for=\"4cba9666-251d-47d2-b283-0b35b14545aa\">rfe: RFE</label><div class=\"sk-toggleable__content\"><pre>RFE(estimator=SVR(C=12.5, coef0=0, kernel='linear'), n_features_to_select=10)</pre></div></div></div><div class=\"sk-parallel\"><div class=\"sk-parallel-item\"><div class=\"sk-item\"><div class=\"sk-serial\"><div class=\"sk-item\"><div class=\"sk-estimator sk-toggleable\"><input class=\"sk-toggleable__control sk-hidden--visually\" id=\"3272b550-365f-4592-8dae-b161ba7851ff\" type=\"checkbox\" ><label class=\"sk-toggleable__label\" for=\"3272b550-365f-4592-8dae-b161ba7851ff\">SVR</label><div class=\"sk-toggleable__content\"><pre>SVR(C=12.5, coef0=0, kernel='linear')</pre></div></div></div></div></div></div></div></div><div class=\"sk-item sk-dashed-wrapped\"><div class=\"sk-label-container\"><div class=\"sk-label sk-toggleable\"><input class=\"sk-toggleable__control sk-hidden--visually\" id=\"6c159c57-6d6c-4186-bde0-df1235f43df7\" type=\"checkbox\" ><label class=\"sk-toggleable__label\" for=\"6c159c57-6d6c-4186-bde0-df1235f43df7\">votingregressor: VotingRegressor</label><div class=\"sk-toggleable__content\"><pre>VotingRegressor(estimators=[('reg1',\n",
       "                             RandomForestRegressor(criterion='absolute_error',\n",
       "                                                   max_features=7,\n",
       "                                                   min_samples_leaf=6,\n",
       "                                                   min_samples_split=3,\n",
       "                                                   n_estimators=250,\n",
       "                                                   random_state=0)),\n",
       "                            ('reg2', SVR(C=12.5, coef0=0, kernel='linear'))],\n",
       "                weights=(1, 2))</pre></div></div></div><div class=\"sk-parallel\"><div class=\"sk-parallel-item\"><div class=\"sk-item\"><div class=\"sk-label-container\"><div class=\"sk-label sk-toggleable\"><label>reg1</label></div></div><div class=\"sk-serial\"><div class=\"sk-item\"><div class=\"sk-estimator sk-toggleable\"><input class=\"sk-toggleable__control sk-hidden--visually\" id=\"6ea0e274-26cb-47d8-913c-7cc7d6d31de0\" type=\"checkbox\" ><label class=\"sk-toggleable__label\" for=\"6ea0e274-26cb-47d8-913c-7cc7d6d31de0\">RandomForestRegressor</label><div class=\"sk-toggleable__content\"><pre>RandomForestRegressor(criterion='absolute_error', max_features=7,\n",
       "                      min_samples_leaf=6, min_samples_split=3, n_estimators=250,\n",
       "                      random_state=0)</pre></div></div></div></div></div></div><div class=\"sk-parallel-item\"><div class=\"sk-item\"><div class=\"sk-label-container\"><div class=\"sk-label sk-toggleable\"><label>reg2</label></div></div><div class=\"sk-serial\"><div class=\"sk-item\"><div class=\"sk-estimator sk-toggleable\"><input class=\"sk-toggleable__control sk-hidden--visually\" id=\"423b2099-3b39-473e-8ab1-2847e091fde5\" type=\"checkbox\" ><label class=\"sk-toggleable__label\" for=\"423b2099-3b39-473e-8ab1-2847e091fde5\">SVR</label><div class=\"sk-toggleable__content\"><pre>SVR(C=12.5, coef0=0, kernel='linear')</pre></div></div></div></div></div></div></div></div></div></div></div></div>"
      ],
      "text/plain": [
       "Pipeline(steps=[('columntransformer',\n",
       "                 ColumnTransformer(transformers=[('pipeline',\n",
       "                                                  Pipeline(steps=[('simpleimputer',\n",
       "                                                                   SimpleImputer()),\n",
       "                                                                  ('minmaxscaler',\n",
       "                                                                   MinMaxScaler())]),\n",
       "                                                  <sklearn.compose._column_transformer.make_column_selector object at 0x000001FA7603F910>)])),\n",
       "                ('rfe',\n",
       "                 RFE(estimator=SVR(C=12.5, coef0=0, kernel='linear'),\n",
       "                     n_features_to_select=10)),\n",
       "                ('votingregressor',\n",
       "                 VotingRegressor(estimators=[('reg1',\n",
       "                                              RandomForestRegressor(criterion='absolute_error',\n",
       "                                                                    max_features=7,\n",
       "                                                                    min_samples_leaf=6,\n",
       "                                                                    min_samples_split=3,\n",
       "                                                                    n_estimators=250,\n",
       "                                                                    random_state=0)),\n",
       "                                             ('reg2',\n",
       "                                              SVR(C=12.5, coef0=0,\n",
       "                                                  kernel='linear'))],\n",
       "                                 weights=(1, 2)))])"
      ]
     },
     "execution_count": 143,
     "metadata": {},
     "output_type": "execute_result"
    }
   ],
   "source": [
    "from sklearn.model_selection import train_test_split\n",
    "\n",
    "pipe_rfr = make_pipeline(preprocessor, rfe, rfr)\n",
    "pipe_svr = make_pipeline(preprocessor, rfe, svr)\n",
    "pipe_vr = make_pipeline(preprocessor, rfe, vr)\n",
    "\n",
    "X_train, X_test, y_train, y_test = train_test_split(X, y, test_size=0.15, random_state=0, shuffle=False)\n",
    " \n",
    "pipe_rfr.fit(X_train, y_train)\n",
    "pipe_svr.fit(X_train, y_train)\n",
    "pipe_vr.fit(X_train, y_train)"
   ]
  },
  {
   "cell_type": "markdown",
   "id": "9cd2c42e-affb-4cc3-ba57-4e43d2c20fd0",
   "metadata": {
    "tags": []
   },
   "source": [
    "### Prediction (ให้ model ลองเดาค่า y_test จาก X_test และ f(X) ที่เคยเรียนไปต้อน Training)"
   ]
  },
  {
   "cell_type": "code",
   "execution_count": 144,
   "id": "4c46e918-87bc-4c1f-8dd6-4b97e5eb2669",
   "metadata": {},
   "outputs": [],
   "source": [
    "y_pred_rfr = pipe_rfr.predict(X_test)\n",
    "y_pred_svr = pipe_svr.predict(X_test)\n",
    "y_pred_vr = pipe_vr.predict(X_test)"
   ]
  },
  {
   "cell_type": "markdown",
   "id": "20ada59e-a2fa-4db0-a967-9f1a099bc85c",
   "metadata": {
    "tags": []
   },
   "source": [
    "### Evaluation (วัดประสิทธิภาพของ model จากค่า RMSE, R2 score, Accuracy Score และ Confusion Matrix)"
   ]
  },
  {
   "cell_type": "code",
   "execution_count": 145,
   "id": "82e72288-5618-436b-8ca5-4e8ffcb2873f",
   "metadata": {},
   "outputs": [
    {
     "data": {
      "image/png": "[encoded data removed]",
      "text/plain": [
       "<Figure size 432x288 with 1 Axes>"
      ]
     },
     "metadata": {},
     "output_type": "display_data"
    },
    {
     "name": "stdout",
     "output_type": "stream",
     "text": [
      "RMSE:      124.65002921031575\n",
      "R2 score:  0.5021391954634009\n",
      "[[ 82  42]\n",
      " [ 33 105]]\n",
      "Accuracy Score: 0.7137404580152672\n"
     ]
    },
    {
     "data": {
      "image/png": "[encoded data removed]",
      "text/plain": [
       "<Figure size 432x288 with 1 Axes>"
      ]
     },
     "metadata": {},
     "output_type": "display_data"
    },
    {
     "name": "stdout",
     "output_type": "stream",
     "text": [
      "RMSE:      155.37637967983213\n",
      "R2 score:  0.22644149852451378\n",
      "[[108  16]\n",
      " [ 10 128]]\n",
      "Accuracy Score: 0.9007633587786259\n"
     ]
    },
    {
     "data": {
      "image/png": "[encoded data removed]",
      "text/plain": [
       "<Figure size 432x288 with 1 Axes>"
      ]
     },
     "metadata": {},
     "output_type": "display_data"
    },
    {
     "name": "stdout",
     "output_type": "stream",
     "text": [
      "RMSE:      106.35575529676224\n",
      "R2 score:  0.6375524573576636\n",
      "[[103  21]\n",
      " [  9 129]]\n",
      "Accuracy Score: 0.8854961832061069\n"
     ]
    }
   ],
   "source": [
    "from sklearn import metrics\n",
    "from sklearn.metrics import mean_squared_error, r2_score\n",
    "from sklearn.metrics import confusion_matrix\n",
    "\n",
    "X_test_len = len(X_test)\n",
    "\n",
    "# y_test_scaled = scaler.fit_transform(y_test)\n",
    "plt.plot(range(X_test_len), y_test)\n",
    "plt.plot(range(X_test_len), y_pred_rfr,'r');\n",
    "plt.show()\n",
    "\n",
    "rmse = mean_squared_error(y_test, y_pred_rfr, squared=False)\n",
    "r2 = r2_score(y_test, y_pred_rfr)\n",
    "\n",
    "print('RMSE:     ', rmse)  # Root mean squared error\n",
    "print('R2 score: ', r2)\n",
    "\n",
    "pred_len = len(y_pred_rfr)\n",
    "test_rfr = pd.DataFrame(data=y_pred_rfr, columns=['y_pred'])\n",
    "test_rfr['y_pred'] = y_pred_rfr\n",
    "\n",
    "test_rfr['Real'] = temp.iloc[-pred_len:, -2].values\n",
    "\n",
    "generateUpDown2(test_rfr)\n",
    "\n",
    "cm = confusion_matrix(test_rfr['Real'], test_rfr['Forecast'])\n",
    "print(cm)\n",
    "print('Accuracy Score:', metrics.accuracy_score(test_rfr['Real'], test_rfr['Forecast']))\n",
    "\n",
    "# ***SVR***\n",
    "\n",
    "plt.plot(range(X_test_len), y_test)\n",
    "plt.plot(range(X_test_len), y_pred_svr,'r');\n",
    "plt.show()\n",
    "\n",
    "rmse_svr = mean_squared_error(y_test, y_pred_svr, squared=False)\n",
    "r2_svr = r2_score(y_test, y_pred_svr)\n",
    "\n",
    "print('RMSE:     ', rmse_svr)  # Root mean squared error\n",
    "print('R2 score: ', r2_svr)\n",
    "\n",
    "pred_len = len(y_pred_svr)\n",
    "test_svr = pd.DataFrame(data=y_pred_svr, columns=['y_pred'])\n",
    "test_svr['y_pred'] = y_pred_svr\n",
    "test_svr['Real'] = temp.iloc[-pred_len:, -2].values\n",
    "\n",
    "generateUpDown2(test_svr)\n",
    "\n",
    "cm_svr = confusion_matrix(test_svr['Real'], test_svr['Forecast'])\n",
    "print(cm_svr)\n",
    "print('Accuracy Score:', metrics.accuracy_score(test_svr['Real'], test_svr['Forecast']))\n",
    "\n",
    "# ***Voting regessor***\n",
    "\n",
    "plt.plot(range(X_test_len), y_test)\n",
    "plt.plot(range(X_test_len), y_pred_vr,'r');\n",
    "plt.show()\n",
    "\n",
    "rmse = mean_squared_error(y_test, y_pred_vr, squared=False)\n",
    "r2 = r2_score(y_test, y_pred_vr)\n",
    "\n",
    "print('RMSE:     ', rmse)  # Root mean squared error\n",
    "print('R2 score: ', r2)\n",
    "\n",
    "pred_len2 = len(y_pred_vr)\n",
    "test = pd.DataFrame(data=y_pred_vr, columns=['y_pred'])\n",
    "test['y_pred'] = y_pred_vr\n",
    "test['Real'] = temp.iloc[-pred_len2:, -2].values\n",
    "\n",
    "generateUpDown2(test)\n",
    "\n",
    "cm = confusion_matrix(test['Real'], test['Forecast'])\n",
    "print(cm)\n",
    "print('Accuracy Score:', metrics.accuracy_score(test['Real'], test['Forecast']))\n",
    "\n",
    "# --------------------------------------------------------------------------------------------------------------------------------------------------\n",
    "\n",
    "# # ***TRY REAL DATA*** \n",
    "\n",
    "# True_predict = pdr.get_data_yahoo(\"^N225\", start=\"2020-11-01\", end=\"2021-11-25\")\n",
    "\n",
    "# close = True_predict['Close']\n",
    "\n",
    "# True_predict['EMA50'] = talib.MA(close, timeperiod=50, matype=0)\n",
    "\n",
    "# True_predict_drop = True_predict.dropna()\n",
    "\n",
    "# generateUpDown(True_predict_drop)\n",
    "\n",
    "# X = True_predict_drop.iloc[:, 6].values\n",
    "\n",
    "# X = scaler.fit_transform(X[:, np.newaxis])\n",
    "\n",
    "\n",
    "# y_true = svr.predict(X) \n",
    "\n",
    "# test_true = pd.DataFrame(data=y_true, columns=['y_true'])\n",
    "# test_true['y_pred'] = y_true\n",
    "# test_true['Real'] = True_predict_drop.iloc[:, -1].values\n",
    "\n",
    "# generateUpDown2(test_true)\n",
    "\n",
    "# # test_true\n",
    "\n",
    "# cm = confusion_matrix(test_true['Real'], test_true['Forecast'])\n",
    "# print(cm)\n",
    "# print('Accuracy Score:', metrics.accuracy_score(test_true['Real'], test_true['Forecast']))\n"
   ]
  },
  {
   "cell_type": "code",
   "execution_count": 146,
   "id": "e45611e6-4849-40f2-b1d4-799e83ed2f84",
   "metadata": {},
   "outputs": [
    {
     "name": "stdout",
     "output_type": "stream",
     "text": [
      "[[  5 119]\n",
      " [  0 138]]\n",
      "Accuracy Score: 0.5458015267175572\n"
     ]
    }
   ],
   "source": [
    "N225_answer = pd.DataFrame()\n",
    "N225_answer['y_pred_lr'] = y_pred_lr\n",
    "N225_answer['y_pred_knc'] = y_pred_knc\n",
    "N225_answer['y_pred_svm'] = y_pred_svm\n",
    "N225_answer['y_pred_rcf'] = y_pred_rcf\n",
    "N225_answer['y_pred_rfr'] = test_rfr.iloc[:, -1]\n",
    "N225_answer['y_pred_svr'] = test_svr.iloc[:, -1]\n",
    "N225_answer['y_pred_vr'] = test.iloc[:, -1]\n",
    "summitAnswer(N225_answer)\n",
    "N225_answer['Real'] = df.tail(len(N225_answer)).iloc[:, -1].values\n",
    "cm = confusion_matrix(N225_answer['Real'], N225_answer['Answer'])\n",
    "print(cm)\n",
    "print('Accuracy Score:', metrics.accuracy_score(N225_answer['Real'], N225_answer['Answer']))"
   ]
  },
  {
   "cell_type": "markdown",
   "id": "e3d3bfcb-9402-44b2-bb56-77ee9a0fda1a",
   "metadata": {
    "tags": []
   },
   "source": [
    " ## __<font color=green> Parameter Tuning </font>__ "
   ]
  },
  {
   "cell_type": "code",
   "execution_count": null,
   "id": "cbbab283-b214-4a09-9c47-0cbcdbfc38f9",
   "metadata": {
    "tags": []
   },
   "outputs": [],
   "source": [
    "\n",
    "from sklearn.model_selection import GridSearchCV, RandomizedSearchCV\n",
    "\n",
    "params = {}\n",
    "# params = {'voting': ['hard', 'soft'],\n",
    "#          'weights': [(1, 1, 1, 1), (2, 1 ,1 ,1), (1, 2, 1, 1)]}\n",
    "# params['columntransformer__pipeline__simpleimputer__add_indicator'] = [False, True]\n",
    "# params['columntransformer__pipeline__simpleimputer__strategy'] = ['mean', 'median', 'most_frequent', 'constant']\n",
    "\n",
    "# params['randomforestregressor__n_estimators'] = [250, 500, 150]\n",
    "# params['randomforestregressor__criterion'] = ['squared_error', 'absolute_error', 'poisson']\n",
    "\n",
    "# params['svr__degree'] = [3, 6, 9, 12]\n",
    "# params['svr__kernel'] = ['linear', 'poly', 'rbf', 'sigmoid', 'precomputed']\n",
    "# params['svr__gamma'] = ['scale', 'auto']\n",
    "\n",
    "# params['votingregressor__voting'] = ['hard', 'soft']\n",
    "# params['votingregressor__weights'] = [(1, 1, 1, 1), (2, 1 ,1 ,1), (1, 2, 1, 1), (2, 2, 1, 1)]\n",
    "\n",
    "grid = GridSearchCV(pipe_rfr, params, cv=5, scoring='r2')\n",
    "grid.fit(X, y)\n",
    "print(grid.best_params_)\n",
    "grid.best_score_\n",
    "\n",
    "# rand = RandomizedSearchCV(pipe_rfr, params, cv=5, scoring='r2')\n",
    "# rand.fit(X, y)\n",
    "# print(rand.best_params_)\n",
    "# rand.best_score_\n",
    "\n",
    "#0.5428743883595157"
   ]
  }
 ],
 "metadata": {
  "kernelspec": {
   "display_name": "Python 3 (ipykernel)",
   "language": "python",
   "name": "python3"
  },
  "language_info": {
   "codemirror_mode": {
    "name": "ipython",
    "version": 3
   },
   "file_extension": ".py",
   "mimetype": "text/x-python",
   "name": "python",
   "nbconvert_exporter": "python",
   "pygments_lexer": "ipython3",
   "version": "3.9.6"
  }
 },
 "nbformat": 4,
 "nbformat_minor": 5
}
